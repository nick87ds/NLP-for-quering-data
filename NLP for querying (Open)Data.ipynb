{
 "cells": [
  {
   "cell_type": "markdown",
   "id": "495d3552",
   "metadata": {},
   "source": [
    "# Titolo"
   ]
  },
  {
   "cell_type": "markdown",
   "id": "883ce34a",
   "metadata": {},
   "source": [
    "..."
   ]
  },
  {
   "cell_type": "code",
   "execution_count": 208,
   "id": "acb038db",
   "metadata": {},
   "outputs": [],
   "source": [
    "import numpy as np\n",
    "import pandas as pd\n",
    "import re\n",
    "import os\n",
    "import random\n",
    "import pprint\n",
    "from collections import defaultdict"
   ]
  },
  {
   "cell_type": "code",
   "execution_count": 209,
   "id": "a8c3f145",
   "metadata": {},
   "outputs": [],
   "source": [
    "def remove_nan(df:pd.DataFrame) -> dict:\n",
    "    \n",
    "    \"\"\"\n",
    "    Rimuove i valori nulli da una lista\n",
    "    \"\"\"\n",
    "\n",
    "    lookup_dict = df.to_dict('list')\n",
    "\n",
    "    for k, v in lookup_dict.items():\n",
    "\n",
    "        while np.nan in lookup_dict[k]:\n",
    "            lookup_dict[k].remove(np.nan)\n",
    "\n",
    "    return lookup_dict"
   ]
  },
  {
   "cell_type": "markdown",
   "id": "38d5b017",
   "metadata": {},
   "source": [
    "## Parte 1"
   ]
  },
  {
   "cell_type": "markdown",
   "id": "3b5f0896",
   "metadata": {},
   "source": [
    "### Costruzione delle tabelle di lookup"
   ]
  },
  {
   "cell_type": "markdown",
   "id": "9add3a68",
   "metadata": {},
   "source": [
    "Servono per generare nuovi dati ricombinando elementi già noti"
   ]
  },
  {
   "cell_type": "code",
   "execution_count": 210,
   "id": "02299e96",
   "metadata": {},
   "outputs": [],
   "source": [
    "df_entities = pd.read_excel('dataset.xlsx',sheet_name='entities_slots')\n",
    "\n",
    "lookups = remove_nan(df_entities)"
   ]
  },
  {
   "cell_type": "code",
   "execution_count": 211,
   "id": "2c330381",
   "metadata": {},
   "outputs": [],
   "source": [
    "# pprint.pprint(lookups)"
   ]
  },
  {
   "cell_type": "markdown",
   "id": "57f305e9",
   "metadata": {},
   "source": [
    "### Estrazione frasi utente"
   ]
  },
  {
   "cell_type": "code",
   "execution_count": 212,
   "id": "a7ccfd0d",
   "metadata": {},
   "outputs": [],
   "source": [
    "df_user = pd.read_excel('dataset.xlsx',sheet_name='user', header=None)\n",
    "df_user.columns = ['user','sentences']\n",
    "df_user['user'] = df_user['user'].fillna(method='ffill', axis=0)\n",
    "\n",
    "sentences = defaultdict(list)\n",
    "\n",
    "df_grouped = df_user.groupby('user')\n",
    "\n",
    "for group in df_grouped.groups:\n",
    "    \n",
    "    sentences[group] = df_grouped.get_group(group)['sentences'].tolist()"
   ]
  },
  {
   "cell_type": "code",
   "execution_count": 7,
   "id": "4c883ee3",
   "metadata": {},
   "outputs": [],
   "source": [
    "# pprint.pprint(sentences)"
   ]
  },
  {
   "cell_type": "markdown",
   "id": "30a0d8eb",
   "metadata": {},
   "source": [
    "### Generazione del file txt contenente le frasi"
   ]
  },
  {
   "cell_type": "code",
   "execution_count": 213,
   "id": "312dd0f6",
   "metadata": {},
   "outputs": [],
   "source": [
    "sentences_file = \"sentences_origin.txt\""
   ]
  },
  {
   "cell_type": "code",
   "execution_count": 214,
   "id": "785feb72",
   "metadata": {},
   "outputs": [],
   "source": [
    "i = True\n",
    "\n",
    "for k, v in sentences.items():\n",
    "    \n",
    "    for values in v:\n",
    "        \n",
    "        if i:\n",
    "            with open(sentences_file, 'w+') as f:\n",
    "                f.writelines(f'{values}|{k}\\n')\n",
    "                i = False\n",
    "        else:\n",
    "            with open(sentences_file, 'a+') as f:\n",
    "                f.writelines(f'{values}|{k}\\n')"
   ]
  },
  {
   "cell_type": "markdown",
   "id": "2c349107",
   "metadata": {},
   "source": [
    "### Estrazione frasi bot"
   ]
  },
  {
   "cell_type": "code",
   "execution_count": 215,
   "id": "b232283a",
   "metadata": {},
   "outputs": [],
   "source": [
    "# df_bot = pd.read_excel('dataset.xlsx',sheet_name='bot')\n",
    "# df_bot.head()\n",
    "\n",
    "\n",
    "df_bot = pd.read_excel('dataset.xlsx',sheet_name='bot', header=None)\n",
    "df_bot.columns = ['bot','sentences']\n",
    "df_bot['bot'] = df_bot['bot'].fillna(method='ffill', axis=0)\n",
    "\n",
    "bot_sentences = defaultdict(list)\n",
    "\n",
    "df_grouped = df_bot.groupby('bot')\n",
    "\n",
    "for group in df_grouped.groups:\n",
    "    \n",
    "    bot_sentences[group] = df_grouped.get_group(group)['sentences'].tolist()\n"
   ]
  },
  {
   "cell_type": "code",
   "execution_count": 216,
   "id": "10504ece",
   "metadata": {},
   "outputs": [
    {
     "data": {
      "text/plain": [
       "defaultdict(list,\n",
       "            {'bot_ReplyCity ': ['Nella città di [SEDE] ci sono %d fattorie didattiche'],\n",
       "             'bot_ReplyProv': ['Nella provincia di [PROVINCIA] ci sono %d fattorie didattiche'],\n",
       "             'bot_ReplyProvWithParams': ['Nella provincia di [PROVINCIA] ci sono %d fattorie didattiche con le caratteristiche richieste']})"
      ]
     },
     "execution_count": 216,
     "metadata": {},
     "output_type": "execute_result"
    }
   ],
   "source": [
    "# bot_sentences = remove_nan(df_bot)\n",
    "bot_sentences"
   ]
  },
  {
   "cell_type": "markdown",
   "id": "28248112",
   "metadata": {},
   "source": [
    "### Estrazione frasi dialogo"
   ]
  },
  {
   "cell_type": "code",
   "execution_count": 217,
   "id": "cb04d6ab",
   "metadata": {},
   "outputs": [
    {
     "data": {
      "text/html": [
       "<div>\n",
       "<style scoped>\n",
       "    .dataframe tbody tr th:only-of-type {\n",
       "        vertical-align: middle;\n",
       "    }\n",
       "\n",
       "    .dataframe tbody tr th {\n",
       "        vertical-align: top;\n",
       "    }\n",
       "\n",
       "    .dataframe thead th {\n",
       "        text-align: right;\n",
       "    }\n",
       "</style>\n",
       "<table border=\"1\" class=\"dataframe\">\n",
       "  <thead>\n",
       "    <tr style=\"text-align: right;\">\n",
       "      <th></th>\n",
       "      <th>Dialog_1</th>\n",
       "      <th>Dialog_2</th>\n",
       "      <th>Dialog_3</th>\n",
       "    </tr>\n",
       "  </thead>\n",
       "  <tbody>\n",
       "    <tr>\n",
       "      <th>0</th>\n",
       "      <td>user_AskProv</td>\n",
       "      <td>user_AskCity</td>\n",
       "      <td>user_AskProvWithParams</td>\n",
       "    </tr>\n",
       "    <tr>\n",
       "      <th>1</th>\n",
       "      <td>bot_ReplyProv</td>\n",
       "      <td>bot_ReplyCity</td>\n",
       "      <td>bot_ReplyProvWithParams</td>\n",
       "    </tr>\n",
       "  </tbody>\n",
       "</table>\n",
       "</div>"
      ],
      "text/plain": [
       "        Dialog_1        Dialog_2                 Dialog_3\n",
       "0   user_AskProv    user_AskCity   user_AskProvWithParams\n",
       "1  bot_ReplyProv  bot_ReplyCity   bot_ReplyProvWithParams"
      ]
     },
     "execution_count": 217,
     "metadata": {},
     "output_type": "execute_result"
    }
   ],
   "source": [
    "df_dialogs = pd.read_excel('dataset.xlsx',sheet_name='dialogs')\n",
    "df_dialogs.head()"
   ]
  },
  {
   "cell_type": "code",
   "execution_count": 218,
   "id": "541dc19e",
   "metadata": {},
   "outputs": [
    {
     "data": {
      "text/plain": [
       "{'Dialog_1': ['user_AskProv', 'bot_ReplyProv'],\n",
       " 'Dialog_2': ['user_AskCity', 'bot_ReplyCity '],\n",
       " 'Dialog_3': ['user_AskProvWithParams', 'bot_ReplyProvWithParams']}"
      ]
     },
     "execution_count": 218,
     "metadata": {},
     "output_type": "execute_result"
    }
   ],
   "source": [
    "dialogs = remove_nan(df_dialogs) \n",
    "dialogs"
   ]
  },
  {
   "cell_type": "markdown",
   "id": "1c86dadf",
   "metadata": {},
   "source": [
    "### Generazione di nuove frasi ricombinandole con le lookup tables"
   ]
  },
  {
   "cell_type": "markdown",
   "id": "11e5dbbb",
   "metadata": {},
   "source": [
    "Si estraggono le frasi e le categorie di appartenenza per archiviarle in due liste separate"
   ]
  },
  {
   "cell_type": "code",
   "execution_count": 219,
   "id": "e62a8ff0",
   "metadata": {},
   "outputs": [],
   "source": [
    "sentences, categories = [], []\n",
    "\n",
    "with open(sentences_file, encoding='utf-8') as f:\n",
    "    dataset = f.read()\n",
    "    dataset = dataset.split(\"\\n\")\n",
    "\n",
    "for data in dataset:\n",
    "    sentence = data.split(\"|\")\n",
    "    \n",
    "    if len(sentence) > 1:\n",
    "        \n",
    "        # TODO: Lasciare upper ?\n",
    "        \n",
    "        sentences.append(sentence[0].upper())\n",
    "        categories.append(sentence[1])\n",
    "        \n",
    "assert len(sentences) == len(categories)"
   ]
  },
  {
   "cell_type": "code",
   "execution_count": 220,
   "id": "e200d2b3",
   "metadata": {},
   "outputs": [
    {
     "data": {
      "text/plain": [
       "'CI SONO FATTORIE DIDATTCHE AD [SEDE](EBOLI)?'"
      ]
     },
     "execution_count": 220,
     "metadata": {},
     "output_type": "execute_result"
    }
   ],
   "source": [
    "sentences[0]"
   ]
  },
  {
   "cell_type": "code",
   "execution_count": 221,
   "id": "7889d2a5",
   "metadata": {},
   "outputs": [],
   "source": [
    "sentences_file_generated = \"sentences_generated.txt\""
   ]
  },
  {
   "cell_type": "code",
   "execution_count": 222,
   "id": "fc698acf",
   "metadata": {},
   "outputs": [],
   "source": [
    "\"\"\"\n",
    "Numero di frasi che verranno casualmente generate\n",
    "\"\"\"\n",
    "\n",
    "n_sentences = 1000"
   ]
  },
  {
   "cell_type": "code",
   "execution_count": 223,
   "id": "86be3835",
   "metadata": {},
   "outputs": [],
   "source": [
    "slots = list(lookups.keys())\n",
    "\n",
    "for i in range(n_sentences):\n",
    "        \n",
    "    index = random.randint(0, len(sentences)-1)\n",
    "\n",
    "    sentence = sentences[index]\n",
    "    category = categories[index]\n",
    "    \n",
    "    for key in slots:\n",
    "        \n",
    "        \"\"\"\n",
    "        Ogni volta che regex individua lo slot nella frase\n",
    "            sostituisce il valore con uno estratto in modo casuale\n",
    "        \"\"\"\n",
    "        \n",
    "        # TODO: Verificare\n",
    "\n",
    "        regex_str = fr'\\[{key}]\\((?P<value>[a-z ]+)\\)+'\n",
    "        \n",
    "        slot_match = re.compile(regex_str)\n",
    "\n",
    "        repl = f\"[{key}]({random.choice(lookups[key])})\"\n",
    "\n",
    "        sentence = slot_match.sub(repl, sentence)\n",
    "        \n",
    "        \n",
    "        \"\"\"\n",
    "        Poi riassocia la categoria di partenza\n",
    "        \"\"\"\n",
    "        \n",
    "    if i == 0:\n",
    "        \n",
    "        with open(sentences_file_generated, 'w+') as f:\n",
    "            f.writelines(f'{sentence}|{category}\\n')\n",
    "        \n",
    "    else:\n",
    "    \n",
    "        with open(sentences_file_generated, 'a+') as f:\n",
    "            f.writelines(f'{sentence}|{category}\\n')"
   ]
  },
  {
   "cell_type": "markdown",
   "id": "f2c8e213",
   "metadata": {},
   "source": [
    "## Parte 2"
   ]
  },
  {
   "cell_type": "markdown",
   "id": "9ade9b6a",
   "metadata": {},
   "source": [
    "..."
   ]
  },
  {
   "cell_type": "markdown",
   "id": "a72d43ef",
   "metadata": {},
   "source": [
    "..."
   ]
  },
  {
   "cell_type": "code",
   "execution_count": 224,
   "id": "0c616959",
   "metadata": {},
   "outputs": [],
   "source": [
    "def rimuovi_punteggiatura(text):\n",
    "    \n",
    "    text = re.sub(r'[\\.,;:!?]' , \" \", text)\n",
    "    text = re.sub(r'\\s+' , \" \", text)\n",
    "    \n",
    "    return text"
   ]
  },
  {
   "cell_type": "code",
   "execution_count": 225,
   "id": "81b47ffc",
   "metadata": {},
   "outputs": [],
   "source": [
    "with open(sentences_file_generated, encoding='utf-8') as f:\n",
    "    sentences = f.read()\n",
    "    sentences = sentences.split(\"\\n\")"
   ]
  },
  {
   "cell_type": "code",
   "execution_count": 226,
   "id": "2b5735a3",
   "metadata": {},
   "outputs": [
    {
     "name": "stdout",
     "output_type": "stream",
     "text": [
      "Before: CI SONO FATTORIE DIDATTICHE NELLA PROVINCIA DI [PROVINCIA](NAPOLI)?\n",
      "After: CI SONO FATTORIE DIDATTICHE NELLA PROVINCIA DI NAPOLI?\n"
     ]
    }
   ],
   "source": [
    "example = random.choice(sentences)\n",
    "example, _ = example.split(\"|\")\n",
    "print(\"Before:\",example)\n",
    "\n",
    "example = re.sub(r'\\[(?P<name>[a-zA-Z_]+)\\]|\\(|\\)+', \"\", example)\n",
    "print(\"After:\",example)"
   ]
  },
  {
   "cell_type": "markdown",
   "id": "6143cfc1",
   "metadata": {},
   "source": [
    "### Inizio preparazione dati per l'addestramento dell'algoritmo CRF"
   ]
  },
  {
   "cell_type": "code",
   "execution_count": 227,
   "id": "86f1ddb1",
   "metadata": {},
   "outputs": [
    {
     "name": "stdout",
     "output_type": "stream",
     "text": [
      "Fase iniziale: QUANTE FATTORIE DIDATTICHE CI SONO IN PROVINCIA DI [PROVINCIA](SALERNO)?|user_AskProv\n"
     ]
    }
   ],
   "source": [
    "sentence = sentences[10]\n",
    "print(f\"Fase iniziale: {sentence}\")\n",
    "\n",
    "sentence, categ = sentence.split(\"|\")\n",
    "sentence = rimuovi_punteggiatura(sentence)"
   ]
  },
  {
   "cell_type": "code",
   "execution_count": 228,
   "id": "52c3c1af",
   "metadata": {},
   "outputs": [],
   "source": [
    "regex_str = r'\\[(?P<name>[a-zA-Z_]+)\\]\\((?P<value>[a-zA-Z\\' ]+)\\)+'\n",
    "slot_match = re.compile(regex_str)"
   ]
  },
  {
   "cell_type": "markdown",
   "id": "afbaf0f1",
   "metadata": {},
   "source": [
    "##### Con il metodo split possiamo confrontare se ogni elemento della lista appartiene allo slot, al valore o a nessuno dei due."
   ]
  },
  {
   "cell_type": "code",
   "execution_count": 229,
   "id": "f9e1720b",
   "metadata": {},
   "outputs": [
    {
     "data": {
      "text/plain": [
       "['QUANTE FATTORIE DIDATTICHE CI SONO IN PROVINCIA DI ',\n",
       " 'PROVINCIA',\n",
       " 'SALERNO',\n",
       " ' ']"
      ]
     },
     "execution_count": 229,
     "metadata": {},
     "output_type": "execute_result"
    }
   ],
   "source": [
    "splits = slot_match.split(sentence)\n",
    "splits"
   ]
  },
  {
   "cell_type": "code",
   "execution_count": 230,
   "id": "0f4ede29",
   "metadata": {},
   "outputs": [
    {
     "data": {
      "text/plain": [
       "{'PROVINCIA': 'SALERNO'}"
      ]
     },
     "execution_count": 230,
     "metadata": {},
     "output_type": "execute_result"
    }
   ],
   "source": [
    "matches = slot_match.findall(sentence)\n",
    "\n",
    "dct = {k:v for k,v in matches}\n",
    "dct"
   ]
  },
  {
   "cell_type": "markdown",
   "id": "55ce54c6",
   "metadata": {},
   "source": [
    "##### L'obiettivo finale è quello di trasportare i dati in colonne dove  ad ogni riga corrisponde una parola e ogni parola può appartenere o meno ad uno slot"
   ]
  },
  {
   "cell_type": "code",
   "execution_count": 231,
   "id": "175242d7",
   "metadata": {},
   "outputs": [
    {
     "name": "stdout",
     "output_type": "stream",
     "text": [
      "QUANTE -> 0\n",
      "FATTORIE -> 0\n",
      "DIDATTICHE -> 0\n",
      "CI -> 0\n",
      "SONO -> 0\n",
      "IN -> 0\n",
      "PROVINCIA -> 0\n",
      "DI -> 0\n",
      "PROVINCIA -> 0\n",
      "SALERNO -> PROVINCIA\n"
     ]
    }
   ],
   "source": [
    "for split in splits:\n",
    "   \n",
    "    if split in list(dct.values()):\n",
    "        for value in split.split():\n",
    "            \n",
    "            index = list(dct.values()).index(split)\n",
    "            key = list(dct.keys())[index]\n",
    "            \n",
    "            print(value, \"->\", key)\n",
    "    elif split == dct.keys():\n",
    "        pass\n",
    "    else:\n",
    "        for splt in split.split():\n",
    "            print(splt, \"->\", '0')"
   ]
  },
  {
   "cell_type": "markdown",
   "id": "4adee0f2",
   "metadata": {},
   "source": [
    "#### Procediamo ad applicare la trasformazione a tutto il dataset"
   ]
  },
  {
   "cell_type": "code",
   "execution_count": 232,
   "id": "592a9c66",
   "metadata": {},
   "outputs": [
    {
     "data": {
      "text/plain": [
       "[[0, 'QUANTE', 'O'],\n",
       " [0, 'FATTORIE', 'O'],\n",
       " [0, 'DIDATTICHE', 'O'],\n",
       " [0, 'CI', 'O'],\n",
       " [0, 'SONO', 'O'],\n",
       " [0, 'IN', 'O'],\n",
       " [0, 'PROVINCIA', 'O'],\n",
       " [0, 'DI', 'O'],\n",
       " [0, 'SALERNO', 'PROVINCIA'],\n",
       " [0, 'CON', 'O']]"
      ]
     },
     "execution_count": 232,
     "metadata": {},
     "output_type": "execute_result"
    }
   ],
   "source": [
    "arr_sentences = list()\n",
    "arr_categories = list()\n",
    "\n",
    "for n, sentence in enumerate(sentences):\n",
    "\n",
    "    try:\n",
    "    \n",
    "        sentence, categ = sentence.split(\"|\")\n",
    "        \n",
    "        sentence = rimuovi_punteggiatura(sentence)\n",
    "\n",
    "        arr_categories.append(categ)\n",
    "\n",
    "        splits = slot_match.split(sentence)\n",
    "\n",
    "#         match = slot_match.search(frase)\n",
    "        matches = slot_match.findall(sentence)\n",
    "    \n",
    "        dct = {k:v for k,v in matches}        \n",
    "\n",
    "        if matches is not None:\n",
    "            \n",
    "            for split in splits:\n",
    "                if split in list(dct.values()):\n",
    "                    for value in split.split():\n",
    "                        \n",
    "                        index = list(dct.values()).index(split)\n",
    "                        key = list(dct.keys())[index]\n",
    "                        \n",
    "                        arr_sentences.append([n, value, key])\n",
    "                elif split in list(dct.keys()):\n",
    "                    pass\n",
    "                else:\n",
    "                    for value in split.split():\n",
    "                        arr_sentences.append([n, value, 'O'])\n",
    "                        \n",
    "        else:\n",
    "            \"\"\"\n",
    "            Serve per verificare se in qualche frase non avviene il match\n",
    "            \"\"\"\n",
    "            print(n, frase)\n",
    "            \n",
    "    except Exception as err:\n",
    "        pass\n",
    "\n",
    "\n",
    "arr_sentences[:10]"
   ]
  },
  {
   "cell_type": "code",
   "execution_count": 233,
   "id": "bcefafc4",
   "metadata": {},
   "outputs": [
    {
     "data": {
      "text/html": [
       "<div>\n",
       "<style scoped>\n",
       "    .dataframe tbody tr th:only-of-type {\n",
       "        vertical-align: middle;\n",
       "    }\n",
       "\n",
       "    .dataframe tbody tr th {\n",
       "        vertical-align: top;\n",
       "    }\n",
       "\n",
       "    .dataframe thead th {\n",
       "        text-align: right;\n",
       "    }\n",
       "</style>\n",
       "<table border=\"1\" class=\"dataframe\">\n",
       "  <thead>\n",
       "    <tr style=\"text-align: right;\">\n",
       "      <th></th>\n",
       "      <th>n_frase</th>\n",
       "      <th>word</th>\n",
       "      <th>tag</th>\n",
       "    </tr>\n",
       "  </thead>\n",
       "  <tbody>\n",
       "    <tr>\n",
       "      <th>0</th>\n",
       "      <td>0</td>\n",
       "      <td>QUANTE</td>\n",
       "      <td>O</td>\n",
       "    </tr>\n",
       "    <tr>\n",
       "      <th>1</th>\n",
       "      <td>0</td>\n",
       "      <td>FATTORIE</td>\n",
       "      <td>O</td>\n",
       "    </tr>\n",
       "    <tr>\n",
       "      <th>2</th>\n",
       "      <td>0</td>\n",
       "      <td>DIDATTICHE</td>\n",
       "      <td>O</td>\n",
       "    </tr>\n",
       "    <tr>\n",
       "      <th>3</th>\n",
       "      <td>0</td>\n",
       "      <td>CI</td>\n",
       "      <td>O</td>\n",
       "    </tr>\n",
       "    <tr>\n",
       "      <th>4</th>\n",
       "      <td>0</td>\n",
       "      <td>SONO</td>\n",
       "      <td>O</td>\n",
       "    </tr>\n",
       "    <tr>\n",
       "      <th>5</th>\n",
       "      <td>0</td>\n",
       "      <td>IN</td>\n",
       "      <td>O</td>\n",
       "    </tr>\n",
       "    <tr>\n",
       "      <th>6</th>\n",
       "      <td>0</td>\n",
       "      <td>PROVINCIA</td>\n",
       "      <td>O</td>\n",
       "    </tr>\n",
       "    <tr>\n",
       "      <th>7</th>\n",
       "      <td>0</td>\n",
       "      <td>DI</td>\n",
       "      <td>O</td>\n",
       "    </tr>\n",
       "    <tr>\n",
       "      <th>8</th>\n",
       "      <td>0</td>\n",
       "      <td>SALERNO</td>\n",
       "      <td>PROVINCIA</td>\n",
       "    </tr>\n",
       "    <tr>\n",
       "      <th>9</th>\n",
       "      <td>0</td>\n",
       "      <td>CON</td>\n",
       "      <td>O</td>\n",
       "    </tr>\n",
       "  </tbody>\n",
       "</table>\n",
       "</div>"
      ],
      "text/plain": [
       "   n_frase        word        tag\n",
       "0        0      QUANTE          O\n",
       "1        0    FATTORIE          O\n",
       "2        0  DIDATTICHE          O\n",
       "3        0          CI          O\n",
       "4        0        SONO          O\n",
       "5        0          IN          O\n",
       "6        0   PROVINCIA          O\n",
       "7        0          DI          O\n",
       "8        0     SALERNO  PROVINCIA\n",
       "9        0         CON          O"
      ]
     },
     "execution_count": 233,
     "metadata": {},
     "output_type": "execute_result"
    }
   ],
   "source": [
    "df = pd.DataFrame(arr_sentences, columns=['n_frase','word','tag'])\n",
    "df.head(10)"
   ]
  },
  {
   "cell_type": "markdown",
   "id": "e056338b",
   "metadata": {},
   "source": [
    "#### Preparazione della variabile target ( y per renderla più familiare... )"
   ]
  },
  {
   "cell_type": "code",
   "execution_count": 234,
   "id": "5af20f0e",
   "metadata": {},
   "outputs": [
    {
     "data": {
      "text/html": [
       "<div>\n",
       "<style scoped>\n",
       "    .dataframe tbody tr th:only-of-type {\n",
       "        vertical-align: middle;\n",
       "    }\n",
       "\n",
       "    .dataframe tbody tr th {\n",
       "        vertical-align: top;\n",
       "    }\n",
       "\n",
       "    .dataframe thead th {\n",
       "        text-align: right;\n",
       "    }\n",
       "</style>\n",
       "<table border=\"1\" class=\"dataframe\">\n",
       "  <thead>\n",
       "    <tr style=\"text-align: right;\">\n",
       "      <th></th>\n",
       "      <th>n_frase</th>\n",
       "      <th>tag</th>\n",
       "    </tr>\n",
       "  </thead>\n",
       "  <tbody>\n",
       "    <tr>\n",
       "      <th>0</th>\n",
       "      <td>0</td>\n",
       "      <td>O</td>\n",
       "    </tr>\n",
       "    <tr>\n",
       "      <th>1</th>\n",
       "      <td>0</td>\n",
       "      <td>O</td>\n",
       "    </tr>\n",
       "    <tr>\n",
       "      <th>2</th>\n",
       "      <td>0</td>\n",
       "      <td>O</td>\n",
       "    </tr>\n",
       "    <tr>\n",
       "      <th>3</th>\n",
       "      <td>0</td>\n",
       "      <td>O</td>\n",
       "    </tr>\n",
       "    <tr>\n",
       "      <th>4</th>\n",
       "      <td>0</td>\n",
       "      <td>O</td>\n",
       "    </tr>\n",
       "    <tr>\n",
       "      <th>5</th>\n",
       "      <td>0</td>\n",
       "      <td>O</td>\n",
       "    </tr>\n",
       "    <tr>\n",
       "      <th>6</th>\n",
       "      <td>0</td>\n",
       "      <td>O</td>\n",
       "    </tr>\n",
       "    <tr>\n",
       "      <th>7</th>\n",
       "      <td>0</td>\n",
       "      <td>O</td>\n",
       "    </tr>\n",
       "    <tr>\n",
       "      <th>8</th>\n",
       "      <td>0</td>\n",
       "      <td>PROVINCIA</td>\n",
       "    </tr>\n",
       "    <tr>\n",
       "      <th>9</th>\n",
       "      <td>0</td>\n",
       "      <td>O</td>\n",
       "    </tr>\n",
       "  </tbody>\n",
       "</table>\n",
       "</div>"
      ],
      "text/plain": [
       "   n_frase        tag\n",
       "0        0          O\n",
       "1        0          O\n",
       "2        0          O\n",
       "3        0          O\n",
       "4        0          O\n",
       "5        0          O\n",
       "6        0          O\n",
       "7        0          O\n",
       "8        0  PROVINCIA\n",
       "9        0          O"
      ]
     },
     "execution_count": 234,
     "metadata": {},
     "output_type": "execute_result"
    }
   ],
   "source": [
    "df_target = df[['n_frase','tag']]\n",
    "df_target.head(10)"
   ]
  },
  {
   "cell_type": "code",
   "execution_count": 235,
   "id": "0dba6406",
   "metadata": {},
   "outputs": [],
   "source": [
    "y = list()\n",
    "\n",
    "for k, v in df_target.groupby('n_frase'):\n",
    "        \n",
    "    y.append(v['tag'].tolist())"
   ]
  },
  {
   "cell_type": "code",
   "execution_count": 236,
   "id": "a35c8d30",
   "metadata": {},
   "outputs": [
    {
     "data": {
      "text/plain": [
       "[['O', 'O', 'O', 'O', 'O', 'O', 'O', 'O', 'PROVINCIA', 'O', 'CATEGORIA'],\n",
       " ['O', 'O', 'O', 'O', 'O', 'O', 'O', 'PROVINCIA'],\n",
       " ['O', 'O', 'O', 'O', 'O', 'O', 'O', 'PROVINCIA', 'O', 'O', 'O', 'CATEGORIA'],\n",
       " ['O', 'O', 'O', 'O', 'O', 'O', 'O', 'O', 'PROVINCIA', 'O', 'CATEGORIA'],\n",
       " ['O', 'O', 'O', 'O', 'O', 'O', 'O', 'PROVINCIA']]"
      ]
     },
     "execution_count": 236,
     "metadata": {},
     "output_type": "execute_result"
    }
   ],
   "source": [
    "y[:5]"
   ]
  },
  {
   "cell_type": "markdown",
   "id": "0743f7e7",
   "metadata": {},
   "source": [
    "##### Adesso trasformiamo tutto in una funzione"
   ]
  },
  {
   "cell_type": "code",
   "execution_count": 237,
   "id": "ed64184f",
   "metadata": {},
   "outputs": [],
   "source": [
    "def prepare_target_crf(df:pd.DataFrame) -> list:\n",
    "    \n",
    "    \"\"\"\n",
    "    Ultimo step per preparare i target per addestrare l'algoritmo\n",
    "    \n",
    "    Parameters:\n",
    "    -----------\n",
    "    \n",
    "    df : pd.DataFrame\n",
    "    \n",
    "        il DataFrame deve contenere due colonne, una che indicizza la frase\n",
    "        e l'altra che indica se il valore è uno slot o meno\n",
    "    \n",
    "    \n",
    "    Returns:\n",
    "    -----------\n",
    "    y : list\n",
    "    \n",
    "        una lista annidata\n",
    "    \n",
    "    \"\"\"\n",
    "    \n",
    "    y = list()\n",
    "\n",
    "    for k, v in df.groupby('n_frase'):\n",
    "\n",
    "        y.append(v['tag'].tolist())\n",
    "    \n",
    "    return y"
   ]
  },
  {
   "cell_type": "code",
   "execution_count": 238,
   "id": "236dd6bc",
   "metadata": {},
   "outputs": [
    {
     "data": {
      "text/plain": [
       "[['O', 'O', 'O', 'O', 'O', 'O', 'O', 'O', 'PROVINCIA', 'O', 'CATEGORIA'],\n",
       " ['O', 'O', 'O', 'O', 'O', 'O', 'O', 'PROVINCIA'],\n",
       " ['O', 'O', 'O', 'O', 'O', 'O', 'O', 'PROVINCIA', 'O', 'O', 'O', 'CATEGORIA'],\n",
       " ['O', 'O', 'O', 'O', 'O', 'O', 'O', 'O', 'PROVINCIA', 'O', 'CATEGORIA'],\n",
       " ['O', 'O', 'O', 'O', 'O', 'O', 'O', 'PROVINCIA']]"
      ]
     },
     "execution_count": 238,
     "metadata": {},
     "output_type": "execute_result"
    }
   ],
   "source": [
    "y = prepare_target_crf(df_target)\n",
    "y[:5]"
   ]
  },
  {
   "cell_type": "markdown",
   "id": "5f4d7472",
   "metadata": {},
   "source": [
    "#### Data Augmentation"
   ]
  },
  {
   "cell_type": "markdown",
   "id": "6b01147f",
   "metadata": {},
   "source": [
    "...spiegare meglio il motivo..."
   ]
  },
  {
   "cell_type": "code",
   "execution_count": 240,
   "id": "57309240",
   "metadata": {},
   "outputs": [
    {
     "data": {
      "text/html": [
       "<div>\n",
       "<style scoped>\n",
       "    .dataframe tbody tr th:only-of-type {\n",
       "        vertical-align: middle;\n",
       "    }\n",
       "\n",
       "    .dataframe tbody tr th {\n",
       "        vertical-align: top;\n",
       "    }\n",
       "\n",
       "    .dataframe thead th {\n",
       "        text-align: right;\n",
       "    }\n",
       "</style>\n",
       "<table border=\"1\" class=\"dataframe\">\n",
       "  <thead>\n",
       "    <tr style=\"text-align: right;\">\n",
       "      <th></th>\n",
       "      <th>n_frase</th>\n",
       "      <th>word</th>\n",
       "      <th>tag</th>\n",
       "      <th>shift-3</th>\n",
       "      <th>shift+3</th>\n",
       "      <th>bias</th>\n",
       "    </tr>\n",
       "  </thead>\n",
       "  <tbody>\n",
       "    <tr>\n",
       "      <th>0</th>\n",
       "      <td>0</td>\n",
       "      <td>QUANTE</td>\n",
       "      <td>O</td>\n",
       "      <td>BOF</td>\n",
       "      <td>FAT</td>\n",
       "      <td>1</td>\n",
       "    </tr>\n",
       "    <tr>\n",
       "      <th>1</th>\n",
       "      <td>0</td>\n",
       "      <td>FATTORIE</td>\n",
       "      <td>O</td>\n",
       "      <td>NTE</td>\n",
       "      <td>DID</td>\n",
       "      <td>1</td>\n",
       "    </tr>\n",
       "    <tr>\n",
       "      <th>2</th>\n",
       "      <td>0</td>\n",
       "      <td>DIDATTICHE</td>\n",
       "      <td>O</td>\n",
       "      <td>RIE</td>\n",
       "      <td>CI</td>\n",
       "      <td>1</td>\n",
       "    </tr>\n",
       "    <tr>\n",
       "      <th>3</th>\n",
       "      <td>0</td>\n",
       "      <td>CI</td>\n",
       "      <td>O</td>\n",
       "      <td>CHE</td>\n",
       "      <td>SON</td>\n",
       "      <td>1</td>\n",
       "    </tr>\n",
       "    <tr>\n",
       "      <th>4</th>\n",
       "      <td>0</td>\n",
       "      <td>SONO</td>\n",
       "      <td>O</td>\n",
       "      <td>CI</td>\n",
       "      <td>IN</td>\n",
       "      <td>1</td>\n",
       "    </tr>\n",
       "    <tr>\n",
       "      <th>5</th>\n",
       "      <td>0</td>\n",
       "      <td>IN</td>\n",
       "      <td>O</td>\n",
       "      <td>ONO</td>\n",
       "      <td>PRO</td>\n",
       "      <td>1</td>\n",
       "    </tr>\n",
       "    <tr>\n",
       "      <th>6</th>\n",
       "      <td>0</td>\n",
       "      <td>PROVINCIA</td>\n",
       "      <td>O</td>\n",
       "      <td>IN</td>\n",
       "      <td>DI</td>\n",
       "      <td>1</td>\n",
       "    </tr>\n",
       "    <tr>\n",
       "      <th>7</th>\n",
       "      <td>0</td>\n",
       "      <td>DI</td>\n",
       "      <td>O</td>\n",
       "      <td>CIA</td>\n",
       "      <td>SAL</td>\n",
       "      <td>1</td>\n",
       "    </tr>\n",
       "    <tr>\n",
       "      <th>8</th>\n",
       "      <td>0</td>\n",
       "      <td>SALERNO</td>\n",
       "      <td>PROVINCIA</td>\n",
       "      <td>DI</td>\n",
       "      <td>CON</td>\n",
       "      <td>1</td>\n",
       "    </tr>\n",
       "    <tr>\n",
       "      <th>9</th>\n",
       "      <td>0</td>\n",
       "      <td>CON</td>\n",
       "      <td>O</td>\n",
       "      <td>RNO</td>\n",
       "      <td>ALL</td>\n",
       "      <td>1</td>\n",
       "    </tr>\n",
       "  </tbody>\n",
       "</table>\n",
       "</div>"
      ],
      "text/plain": [
       "   n_frase        word        tag shift-3 shift+3  bias\n",
       "0        0      QUANTE          O     BOF     FAT     1\n",
       "1        0    FATTORIE          O     NTE     DID     1\n",
       "2        0  DIDATTICHE          O     RIE      CI     1\n",
       "3        0          CI          O     CHE     SON     1\n",
       "4        0        SONO          O      CI      IN     1\n",
       "5        0          IN          O     ONO     PRO     1\n",
       "6        0   PROVINCIA          O      IN      DI     1\n",
       "7        0          DI          O     CIA     SAL     1\n",
       "8        0     SALERNO  PROVINCIA      DI     CON     1\n",
       "9        0         CON          O     RNO     ALL     1"
      ]
     },
     "execution_count": 240,
     "metadata": {},
     "output_type": "execute_result"
    }
   ],
   "source": [
    "df['shift-3'] = df.groupby('n_frase')['word'].shift(1).str.slice(-3)\n",
    "df['shift+3'] = df.groupby('n_frase')['word'].shift(-1).str.slice(0,3)\n",
    "df['shift-3'].fillna('BOF', inplace=True)\n",
    "df['shift+3'].fillna('EOF', inplace=True)\n",
    "\n",
    "df['bias'] = 1\n",
    "\n",
    "df.head(10)"
   ]
  },
  {
   "cell_type": "code",
   "execution_count": 251,
   "id": "96a9287e",
   "metadata": {},
   "outputs": [],
   "source": [
    "# for k, frase in df.groupby(by='n_frase')['word']:\n",
    "#     print(\" \".join(frase))\n",
    "#     print(frase)"
   ]
  },
  {
   "cell_type": "code",
   "execution_count": 33,
   "id": "41eedcf3",
   "metadata": {},
   "outputs": [],
   "source": [
    "def extend_data(df:pd.DataFrame) -> pd.DataFrame:\n",
    "    \n",
    "    \"\"\"\n",
    "    Estende i dati attraverso un algortimo personalizzato\n",
    "    \"\"\"\n",
    "    \n",
    "    df['shift-3'] = df.groupby('n_frase')['word'].shift(1).str.slice(-3)\n",
    "    df['shift+3'] = df.groupby('n_frase')['word'].shift(-1).str.slice(0,3)\n",
    "    df['shift-10'] = df.groupby('n_frase')['word'].shift(1).str.slice(-10)\n",
    "    df['shift+10'] = df.groupby('n_frase')['word'].shift(-1).str.slice(0,10)\n",
    "\n",
    "    df['shift-3'].fillna('BOF', inplace=True)\n",
    "    df['shift+3'].fillna('EOF', inplace=True)\n",
    "    df['shift-10'].fillna('BOF', inplace=True)\n",
    "    df['shift+10'].fillna('EOF', inplace=True)\n",
    "\n",
    "\n",
    "    df['bias'] = 1\n",
    "    \n",
    "    try:\n",
    "        df.drop(columns=['tag'], inplace=True)\n",
    "    except:\n",
    "        pass\n",
    "\n",
    "    \n",
    "    return df"
   ]
  },
  {
   "cell_type": "code",
   "execution_count": 34,
   "id": "65dae885",
   "metadata": {},
   "outputs": [
    {
     "data": {
      "text/html": [
       "<div>\n",
       "<style scoped>\n",
       "    .dataframe tbody tr th:only-of-type {\n",
       "        vertical-align: middle;\n",
       "    }\n",
       "\n",
       "    .dataframe tbody tr th {\n",
       "        vertical-align: top;\n",
       "    }\n",
       "\n",
       "    .dataframe thead th {\n",
       "        text-align: right;\n",
       "    }\n",
       "</style>\n",
       "<table border=\"1\" class=\"dataframe\">\n",
       "  <thead>\n",
       "    <tr style=\"text-align: right;\">\n",
       "      <th></th>\n",
       "      <th>n_frase</th>\n",
       "      <th>word</th>\n",
       "      <th>shift-3</th>\n",
       "      <th>shift+3</th>\n",
       "      <th>bias</th>\n",
       "      <th>shift-10</th>\n",
       "      <th>shift+10</th>\n",
       "    </tr>\n",
       "  </thead>\n",
       "  <tbody>\n",
       "    <tr>\n",
       "      <th>0</th>\n",
       "      <td>0</td>\n",
       "      <td>CI</td>\n",
       "      <td>BOF</td>\n",
       "      <td>SON</td>\n",
       "      <td>1</td>\n",
       "      <td>BOF</td>\n",
       "      <td>SONO</td>\n",
       "    </tr>\n",
       "    <tr>\n",
       "      <th>1</th>\n",
       "      <td>0</td>\n",
       "      <td>SONO</td>\n",
       "      <td>CI</td>\n",
       "      <td>FAT</td>\n",
       "      <td>1</td>\n",
       "      <td>CI</td>\n",
       "      <td>FATTORIE</td>\n",
       "    </tr>\n",
       "    <tr>\n",
       "      <th>2</th>\n",
       "      <td>0</td>\n",
       "      <td>FATTORIE</td>\n",
       "      <td>ONO</td>\n",
       "      <td>DID</td>\n",
       "      <td>1</td>\n",
       "      <td>SONO</td>\n",
       "      <td>DIDATTCHE</td>\n",
       "    </tr>\n",
       "    <tr>\n",
       "      <th>3</th>\n",
       "      <td>0</td>\n",
       "      <td>DIDATTCHE</td>\n",
       "      <td>RIE</td>\n",
       "      <td>AD</td>\n",
       "      <td>1</td>\n",
       "      <td>FATTORIE</td>\n",
       "      <td>AD</td>\n",
       "    </tr>\n",
       "    <tr>\n",
       "      <th>4</th>\n",
       "      <td>0</td>\n",
       "      <td>AD</td>\n",
       "      <td>CHE</td>\n",
       "      <td>EBO</td>\n",
       "      <td>1</td>\n",
       "      <td>DIDATTCHE</td>\n",
       "      <td>EBOLI</td>\n",
       "    </tr>\n",
       "    <tr>\n",
       "      <th>5</th>\n",
       "      <td>0</td>\n",
       "      <td>EBOLI</td>\n",
       "      <td>AD</td>\n",
       "      <td>EOF</td>\n",
       "      <td>1</td>\n",
       "      <td>AD</td>\n",
       "      <td>EOF</td>\n",
       "    </tr>\n",
       "    <tr>\n",
       "      <th>6</th>\n",
       "      <td>1</td>\n",
       "      <td>CI</td>\n",
       "      <td>BOF</td>\n",
       "      <td>SON</td>\n",
       "      <td>1</td>\n",
       "      <td>BOF</td>\n",
       "      <td>SONO</td>\n",
       "    </tr>\n",
       "    <tr>\n",
       "      <th>7</th>\n",
       "      <td>1</td>\n",
       "      <td>SONO</td>\n",
       "      <td>CI</td>\n",
       "      <td>FAT</td>\n",
       "      <td>1</td>\n",
       "      <td>CI</td>\n",
       "      <td>FATTORIE</td>\n",
       "    </tr>\n",
       "    <tr>\n",
       "      <th>8</th>\n",
       "      <td>1</td>\n",
       "      <td>FATTORIE</td>\n",
       "      <td>ONO</td>\n",
       "      <td>DID</td>\n",
       "      <td>1</td>\n",
       "      <td>SONO</td>\n",
       "      <td>DIDATTICHE</td>\n",
       "    </tr>\n",
       "    <tr>\n",
       "      <th>9</th>\n",
       "      <td>1</td>\n",
       "      <td>DIDATTICHE</td>\n",
       "      <td>RIE</td>\n",
       "      <td>IN</td>\n",
       "      <td>1</td>\n",
       "      <td>FATTORIE</td>\n",
       "      <td>IN</td>\n",
       "    </tr>\n",
       "  </tbody>\n",
       "</table>\n",
       "</div>"
      ],
      "text/plain": [
       "   n_frase        word shift-3 shift+3  bias   shift-10    shift+10\n",
       "0        0          CI     BOF     SON     1        BOF        SONO\n",
       "1        0        SONO      CI     FAT     1         CI    FATTORIE\n",
       "2        0    FATTORIE     ONO     DID     1       SONO   DIDATTCHE\n",
       "3        0   DIDATTCHE     RIE      AD     1   FATTORIE          AD\n",
       "4        0          AD     CHE     EBO     1  DIDATTCHE       EBOLI\n",
       "5        0       EBOLI      AD     EOF     1         AD         EOF\n",
       "6        1          CI     BOF     SON     1        BOF        SONO\n",
       "7        1        SONO      CI     FAT     1         CI    FATTORIE\n",
       "8        1    FATTORIE     ONO     DID     1       SONO  DIDATTICHE\n",
       "9        1  DIDATTICHE     RIE      IN     1   FATTORIE          IN"
      ]
     },
     "execution_count": 34,
     "metadata": {},
     "output_type": "execute_result"
    }
   ],
   "source": [
    "df = extend_data(df)\n",
    "df.head(10)"
   ]
  },
  {
   "cell_type": "markdown",
   "id": "e0ebf5e1",
   "metadata": {},
   "source": [
    "#### Preparazione dei varibili di training ( X per renderli più familiari... )"
   ]
  },
  {
   "cell_type": "code",
   "execution_count": 35,
   "id": "45dbb798",
   "metadata": {},
   "outputs": [],
   "source": [
    "X = list()\n",
    "\n",
    "for k, v in df.groupby('n_frase'):\n",
    "    \n",
    "    v.drop(columns='n_frase', inplace=True)\n",
    "\n",
    "    X.append(v.to_dict('records'))"
   ]
  },
  {
   "cell_type": "code",
   "execution_count": 36,
   "id": "1c53fddf",
   "metadata": {},
   "outputs": [
    {
     "data": {
      "text/plain": [
       "[{'word': 'CI',\n",
       "  'shift-3': 'BOF',\n",
       "  'shift+3': 'SON',\n",
       "  'bias': 1,\n",
       "  'shift-10': 'BOF',\n",
       "  'shift+10': 'SONO'},\n",
       " {'word': 'SONO',\n",
       "  'shift-3': 'CI',\n",
       "  'shift+3': 'FAT',\n",
       "  'bias': 1,\n",
       "  'shift-10': 'CI',\n",
       "  'shift+10': 'FATTORIE'},\n",
       " {'word': 'FATTORIE',\n",
       "  'shift-3': 'ONO',\n",
       "  'shift+3': 'DID',\n",
       "  'bias': 1,\n",
       "  'shift-10': 'SONO',\n",
       "  'shift+10': 'DIDATTCHE'},\n",
       " {'word': 'DIDATTCHE',\n",
       "  'shift-3': 'RIE',\n",
       "  'shift+3': 'AD',\n",
       "  'bias': 1,\n",
       "  'shift-10': 'FATTORIE',\n",
       "  'shift+10': 'AD'},\n",
       " {'word': 'AD',\n",
       "  'shift-3': 'CHE',\n",
       "  'shift+3': 'EBO',\n",
       "  'bias': 1,\n",
       "  'shift-10': 'DIDATTCHE',\n",
       "  'shift+10': 'EBOLI'},\n",
       " {'word': 'EBOLI',\n",
       "  'shift-3': 'AD',\n",
       "  'shift+3': 'EOF',\n",
       "  'bias': 1,\n",
       "  'shift-10': 'AD',\n",
       "  'shift+10': 'EOF'}]"
      ]
     },
     "execution_count": 36,
     "metadata": {},
     "output_type": "execute_result"
    }
   ],
   "source": [
    "X[0]"
   ]
  },
  {
   "cell_type": "markdown",
   "id": "8d903ee8",
   "metadata": {},
   "source": [
    "##### Adesso trasformiamo tutto in una funzione"
   ]
  },
  {
   "cell_type": "code",
   "execution_count": 37,
   "id": "4273994c",
   "metadata": {},
   "outputs": [],
   "source": [
    "def prepare_data_crf(df:pd.DataFrame) -> list:\n",
    "    \n",
    "    \"\"\"\n",
    "    Ultimo step per preparare i dati per addestrare l'algoritmo\n",
    "    \n",
    "    Parameters:\n",
    "    -----------\n",
    "    \n",
    "    df : pd.DataFrame\n",
    "    \n",
    "        il numero di colonne del DataFrame dipende da come è stata impostata\n",
    "        la Data Augmentation... l'importante è che il df contenga\n",
    "        la colonna 'n_frase' usata come indice\n",
    "    \n",
    "    \n",
    "    Returns:\n",
    "    -----------\n",
    "    y : list\n",
    "    \n",
    "        una lista annidata di dictionary\n",
    "    \n",
    "    \"\"\"\n",
    "\n",
    "    \n",
    "    X = list()\n",
    "\n",
    "    for k, v in df.groupby('n_frase'):\n",
    "\n",
    "        v.drop(columns='n_frase', inplace=True)\n",
    "\n",
    "        X.append(v.to_dict('records'))\n",
    "    \n",
    "    return X"
   ]
  },
  {
   "cell_type": "code",
   "execution_count": 38,
   "id": "8436a8e3",
   "metadata": {},
   "outputs": [],
   "source": [
    "X = prepare_data_crf(df)"
   ]
  },
  {
   "cell_type": "markdown",
   "id": "b244a9d1",
   "metadata": {},
   "source": [
    "#### L'algoritmo di Conditional Random Field"
   ]
  },
  {
   "cell_type": "code",
   "execution_count": 39,
   "id": "c27da336",
   "metadata": {},
   "outputs": [],
   "source": [
    "import sklearn_crfsuite"
   ]
  },
  {
   "cell_type": "code",
   "execution_count": 40,
   "id": "7bf38e9c",
   "metadata": {},
   "outputs": [],
   "source": [
    "crf = sklearn_crfsuite.CRF(\n",
    "    algorithm='lbfgs',\n",
    "    c1=0.1,\n",
    "    c2=0.1,\n",
    "    max_iterations=100,\n",
    "    all_possible_states=False,     # Default\n",
    "    all_possible_transitions=False # Default\n",
    ")"
   ]
  },
  {
   "cell_type": "code",
   "execution_count": 41,
   "id": "613879d3",
   "metadata": {},
   "outputs": [
    {
     "name": "stderr",
     "output_type": "stream",
     "text": [
      "/home/ubuntupc/.local/lib/python3.8/site-packages/sklearn/base.py:193: FutureWarning: From version 0.24, get_params will raise an AttributeError if a parameter cannot be retrieved as an instance attribute. Previously it would return None.\n",
      "  warnings.warn('From version 0.24, get_params will raise an '\n"
     ]
    },
    {
     "data": {
      "text/plain": [
       "CRF(algorithm='lbfgs', all_possible_states=False,\n",
       "    all_possible_transitions=False, averaging=None, c=None, c1=0.1, c2=0.1,\n",
       "    calibration_candidates=None, calibration_eta=None,\n",
       "    calibration_max_trials=None, calibration_rate=None,\n",
       "    calibration_samples=None, delta=None, epsilon=None, error_sensitive=None,\n",
       "    gamma=None, keep_tempfiles=None, linesearch=None, max_iterations=100,\n",
       "    max_linesearch=None, min_freq=None, model_filename=None, num_memories=None,\n",
       "    pa_type=None, period=None, trainer_cls=None, variance=None, verbose=False)"
      ]
     },
     "execution_count": 41,
     "metadata": {},
     "output_type": "execute_result"
    }
   ],
   "source": [
    "crf.fit(X, y)"
   ]
  },
  {
   "cell_type": "markdown",
   "id": "a1aaea2c",
   "metadata": {},
   "source": [
    "#### Un esempio su una frase del trainset"
   ]
  },
  {
   "cell_type": "code",
   "execution_count": 42,
   "id": "70852c0b",
   "metadata": {},
   "outputs": [
    {
     "data": {
      "text/plain": [
       "'CI SONO FATTORIE DIDATTICHE IN PROVINCIA DI [PROVINCIA](SALERNO)?'"
      ]
     },
     "execution_count": 42,
     "metadata": {},
     "output_type": "execute_result"
    }
   ],
   "source": [
    "sentences[5].split(\"|\")[0]"
   ]
  },
  {
   "cell_type": "code",
   "execution_count": 43,
   "id": "8d588177",
   "metadata": {},
   "outputs": [
    {
     "name": "stdout",
     "output_type": "stream",
     "text": [
      "0 --> CI\n",
      "1 --> SONO\n",
      "2 --> FATTORIE\n",
      "3 --> DIDATTICHE\n",
      "4 --> IN\n",
      "5 --> PROVINCIA\n",
      "6 --> DI\n",
      "7 --> SALERNO\n"
     ]
    }
   ],
   "source": [
    "for n, word in enumerate(X[5]):\n",
    "    \n",
    "    print(f\"{n} --> {word['word']}\")"
   ]
  },
  {
   "cell_type": "code",
   "execution_count": 44,
   "id": "f1dab3e7",
   "metadata": {},
   "outputs": [
    {
     "name": "stdout",
     "output_type": "stream",
     "text": [
      "0 --> O\n",
      "1 --> O\n",
      "2 --> O\n",
      "3 --> O\n",
      "4 --> O\n",
      "5 --> O\n",
      "6 --> O\n",
      "7 --> PROVINCIA\n"
     ]
    }
   ],
   "source": [
    "y_pred = crf.predict_single(X[5])\n",
    "\n",
    "for n, pred in enumerate(y_pred):\n",
    "    \n",
    "    print(f\"{n} --> {pred}\")"
   ]
  },
  {
   "cell_type": "markdown",
   "id": "dd6fb6b5",
   "metadata": {},
   "source": [
    "#### Test su una nuova frase"
   ]
  },
  {
   "cell_type": "code",
   "execution_count": 45,
   "id": "d1ae6f37",
   "metadata": {},
   "outputs": [],
   "source": [
    "nuova_frase = 'CI SONO FATTORIE DIDATTICHE, AD AFRAGOLA'"
   ]
  },
  {
   "cell_type": "code",
   "execution_count": 46,
   "id": "16ccadf9",
   "metadata": {},
   "outputs": [],
   "source": [
    "def prepare_sentence(sentence:str) -> [pd.DataFrame, list]:\n",
    "    \n",
    "    \"\"\"\n",
    "    Prepare la frase per il predict\n",
    "    \n",
    "    Parameters:\n",
    "    -----------\n",
    "    \n",
    "    sentence : str\n",
    "    \n",
    "        è la frase che sarà elaborata\n",
    "    \n",
    "    \n",
    "    Returns:\n",
    "    -----------\n",
    "    df : DataFrame\n",
    "    \n",
    "    X_arr[0] : array\n",
    "        \n",
    "        dati in formato utile a CRF per il predict\n",
    "    \n",
    "    \"\"\"\n",
    "\n",
    "    sentence = rimuovi_punteggiatura(sentence)\n",
    "    \n",
    "    X_arr = list()\n",
    "    \n",
    "    df = pd.DataFrame(data = [i for i in sentence.split()], columns=['word'])\n",
    "    df['n_frase'] = 1\n",
    "    \n",
    "    df = extend_data(df)\n",
    "    \n",
    "    \n",
    "    for k, v in df.groupby('n_frase'):\n",
    "\n",
    "        v.drop(columns='n_frase', inplace=True)\n",
    "\n",
    "        X_arr.append(v.to_dict('records'))\n",
    "    \n",
    "    \n",
    "    return df, X_arr[0]"
   ]
  },
  {
   "cell_type": "code",
   "execution_count": 47,
   "id": "f0dbda81",
   "metadata": {},
   "outputs": [],
   "source": [
    "new_df = pd.DataFrame()\n",
    "\n",
    "new_df = pd.DataFrame({'n_frase':1,\n",
    "                       'word':[i for i in nuova_frase.split()]})"
   ]
  },
  {
   "cell_type": "code",
   "execution_count": 48,
   "id": "5a86528d",
   "metadata": {},
   "outputs": [
    {
     "data": {
      "text/plain": [
       "['O', 'O', 'O', 'O', 'O', 'SEDE']"
      ]
     },
     "execution_count": 48,
     "metadata": {},
     "output_type": "execute_result"
    }
   ],
   "source": [
    "df, X_arr = prepare_sentence(nuova_frase)\n",
    "\n",
    "crf.predict_single(X_arr)"
   ]
  },
  {
   "cell_type": "markdown",
   "id": "8fdaed00",
   "metadata": {},
   "source": [
    "##### L'algoritmo ha classificato bene... costruiamo adesso lo \"Slots extractor\""
   ]
  },
  {
   "cell_type": "code",
   "execution_count": 49,
   "id": "34d36a61",
   "metadata": {},
   "outputs": [],
   "source": [
    "def extend_sentence(sentence:str, model:sklearn_crfsuite.estimator.CRF) -> pd.DataFrame:\n",
    "    \n",
    "   \n",
    "    \"\"\"\n",
    "    Estrae slots e lo aggiunge al DataFrame come colonna\n",
    "    \n",
    "    Parameters:\n",
    "    -----------\n",
    "    \n",
    "    sentence : str\n",
    "    \n",
    "        è la stringa che contiene la frase\n",
    "        \n",
    "    model : sklearn_crfsuite.estimator.CRF\n",
    "        \n",
    "        è il modello addestrato di ConditionalRandomField\n",
    "    \n",
    "    \n",
    "    Returns:\n",
    "    -----------\n",
    "    df : DataFrame\n",
    "    \n",
    "        al DataFrame di partenza viene aggiunta una colonna \n",
    "        con l'indicazione del tipo di slot individuato\n",
    "       \n",
    "    \"\"\"\n",
    "    \n",
    "    \n",
    "    df, X_arr = prepare_sentence(sentence)\n",
    "    \n",
    "    df['slots'] = model.predict_single(X_arr)\n",
    "    \n",
    "    return df"
   ]
  },
  {
   "cell_type": "code",
   "execution_count": 50,
   "id": "31a9d315",
   "metadata": {},
   "outputs": [
    {
     "data": {
      "text/html": [
       "<div>\n",
       "<style scoped>\n",
       "    .dataframe tbody tr th:only-of-type {\n",
       "        vertical-align: middle;\n",
       "    }\n",
       "\n",
       "    .dataframe tbody tr th {\n",
       "        vertical-align: top;\n",
       "    }\n",
       "\n",
       "    .dataframe thead th {\n",
       "        text-align: right;\n",
       "    }\n",
       "</style>\n",
       "<table border=\"1\" class=\"dataframe\">\n",
       "  <thead>\n",
       "    <tr style=\"text-align: right;\">\n",
       "      <th></th>\n",
       "      <th>word</th>\n",
       "      <th>n_frase</th>\n",
       "      <th>shift-3</th>\n",
       "      <th>shift+3</th>\n",
       "      <th>shift-10</th>\n",
       "      <th>shift+10</th>\n",
       "      <th>bias</th>\n",
       "      <th>slots</th>\n",
       "    </tr>\n",
       "  </thead>\n",
       "  <tbody>\n",
       "    <tr>\n",
       "      <th>0</th>\n",
       "      <td>CI</td>\n",
       "      <td>1</td>\n",
       "      <td>BOF</td>\n",
       "      <td>SON</td>\n",
       "      <td>BOF</td>\n",
       "      <td>SONO</td>\n",
       "      <td>1</td>\n",
       "      <td>O</td>\n",
       "    </tr>\n",
       "    <tr>\n",
       "      <th>1</th>\n",
       "      <td>SONO</td>\n",
       "      <td>1</td>\n",
       "      <td>CI</td>\n",
       "      <td>FAT</td>\n",
       "      <td>CI</td>\n",
       "      <td>FATTORIE</td>\n",
       "      <td>1</td>\n",
       "      <td>O</td>\n",
       "    </tr>\n",
       "    <tr>\n",
       "      <th>2</th>\n",
       "      <td>FATTORIE</td>\n",
       "      <td>1</td>\n",
       "      <td>ONO</td>\n",
       "      <td>DID</td>\n",
       "      <td>SONO</td>\n",
       "      <td>DIDATTICHE</td>\n",
       "      <td>1</td>\n",
       "      <td>O</td>\n",
       "    </tr>\n",
       "    <tr>\n",
       "      <th>3</th>\n",
       "      <td>DIDATTICHE</td>\n",
       "      <td>1</td>\n",
       "      <td>RIE</td>\n",
       "      <td>AD</td>\n",
       "      <td>FATTORIE</td>\n",
       "      <td>AD</td>\n",
       "      <td>1</td>\n",
       "      <td>O</td>\n",
       "    </tr>\n",
       "    <tr>\n",
       "      <th>4</th>\n",
       "      <td>AD</td>\n",
       "      <td>1</td>\n",
       "      <td>CHE</td>\n",
       "      <td>AFR</td>\n",
       "      <td>DIDATTICHE</td>\n",
       "      <td>AFRAGOLA</td>\n",
       "      <td>1</td>\n",
       "      <td>O</td>\n",
       "    </tr>\n",
       "    <tr>\n",
       "      <th>5</th>\n",
       "      <td>AFRAGOLA</td>\n",
       "      <td>1</td>\n",
       "      <td>AD</td>\n",
       "      <td>EOF</td>\n",
       "      <td>AD</td>\n",
       "      <td>EOF</td>\n",
       "      <td>1</td>\n",
       "      <td>SEDE</td>\n",
       "    </tr>\n",
       "  </tbody>\n",
       "</table>\n",
       "</div>"
      ],
      "text/plain": [
       "         word  n_frase shift-3 shift+3    shift-10    shift+10  bias slots\n",
       "0          CI        1     BOF     SON         BOF        SONO     1     O\n",
       "1        SONO        1      CI     FAT          CI    FATTORIE     1     O\n",
       "2    FATTORIE        1     ONO     DID        SONO  DIDATTICHE     1     O\n",
       "3  DIDATTICHE        1     RIE      AD    FATTORIE          AD     1     O\n",
       "4          AD        1     CHE     AFR  DIDATTICHE    AFRAGOLA     1     O\n",
       "5    AFRAGOLA        1      AD     EOF          AD         EOF     1  SEDE"
      ]
     },
     "execution_count": 50,
     "metadata": {},
     "output_type": "execute_result"
    }
   ],
   "source": [
    "extend_sentence(nuova_frase, crf)"
   ]
  },
  {
   "cell_type": "code",
   "execution_count": 58,
   "id": "3acc2a8c",
   "metadata": {},
   "outputs": [],
   "source": [
    "import requests\n",
    "import json\n",
    "import datetime\n",
    "import dateparser\n",
    "\n",
    "def extract_datetime(text:str, url = \"http://0.0.0.0:8000/parse\"):\n",
    "    \n",
    "    data = {\"locale\":\"it_IT\",\n",
    "        \"text\":text}\n",
    "    \n",
    "#     resp = dict()\n",
    "#     resp['datetime'] = list()\n",
    "\n",
    "    resp = None\n",
    "    \n",
    "    datetimes = list()\n",
    "    \n",
    "    try:\n",
    "    \n",
    "        response = requests.post(url, data=data)\n",
    "        \n",
    "        try:\n",
    "        \n",
    "            if response.status_code == 200:\n",
    "\n",
    "                for dt in response.json():\n",
    "                    \n",
    "                    if dt['dim'] == \"time\":\n",
    "\n",
    "                        dtime = dt['value']['value']\n",
    "                        dtime = dateparser.parse(dtime)\n",
    "\n",
    "                        datetimes.append(dtime)\n",
    "\n",
    "            resp = dict()\n",
    "            \n",
    "            if len(datetimes) > 1:\n",
    "                resp['datetime'] = list([min(datetimes), max(datetimes)])\n",
    "            else:\n",
    "                resp['datetime'] = list(datetimes)\n",
    "            \n",
    "        except:\n",
    "            pass\n",
    "        \n",
    "    except:\n",
    "        pass\n",
    "    \n",
    "    \n",
    "    return resp"
   ]
  },
  {
   "cell_type": "code",
   "execution_count": 180,
   "id": "2181276b",
   "metadata": {},
   "outputs": [],
   "source": [
    "def slots_extractor(sentence:str, model:sklearn_crfsuite.estimator.CRF) -> defaultdict:\n",
    "    \n",
    "    \n",
    "    \"\"\"\n",
    "    Restituisce un dictionary degli slots individuati\n",
    "    \n",
    "    Parameters:\n",
    "    -----------\n",
    "    \n",
    "    sentence : str\n",
    "    \n",
    "        è la stringa che contiene la frase\n",
    "        \n",
    "    model : sklearn_crfsuite.estimator.CRF\n",
    "        \n",
    "        è il modello addestrato di ConditionalRandomField\n",
    "    \n",
    "    \n",
    "    Returns:\n",
    "    -----------\n",
    "    dd : dictionary\n",
    "           \n",
    "    \"\"\"\n",
    "    \n",
    "    df = extend_sentence(sentence, model)\n",
    "    \n",
    "    dd = defaultdict(list)\n",
    "\n",
    "    for k, v in df.query(\"slots != 'O'\").groupby('slots'):\n",
    "        dd[k] = \" \".join(v['word'])\n",
    "        \n",
    "    \n",
    "    \n",
    "    \"\"\"\n",
    "    Estrazione date ed orari tramite duckling    \n",
    "    \"\"\"\n",
    "    \n",
    "    date_time = extract_datetime(sentence)\n",
    "\n",
    "    if date_time is not None and len(date_time) > 0:\n",
    "        dd['DATETIMES'] = date_time['datetime']\n",
    "#     else:\n",
    "#         sentence_dict['datetimes'] = False\n",
    "\n",
    "\n",
    "    return dd"
   ]
  },
  {
   "cell_type": "code",
   "execution_count": 199,
   "id": "487c7c4b",
   "metadata": {},
   "outputs": [
    {
     "data": {
      "text/plain": [
       "defaultdict(list,\n",
       "            {'CATEGORIA': '8',\n",
       "             'DATETIMES': [datetime.datetime(2021, 9, 5, 8, 0, tzinfo=<StaticTzInfo 'UTC\\-07:00'>)]})"
      ]
     },
     "execution_count": 199,
     "metadata": {},
     "output_type": "execute_result"
    }
   ],
   "source": [
    "slots_extractor('CI SONO FATTORIE DIDATTICHE, AD AFRAGOLA CHE SONO APERTE DOMANI ALLE 8 ?', crf)"
   ]
  },
  {
   "cell_type": "markdown",
   "id": "32dfc526",
   "metadata": {},
   "source": [
    "## Parte 3"
   ]
  },
  {
   "cell_type": "markdown",
   "id": "3e01708b",
   "metadata": {},
   "source": [
    "### La costruzione dell'algoritmo del la classificazione degli intents"
   ]
  },
  {
   "cell_type": "markdown",
   "id": "da29bf95",
   "metadata": {},
   "source": [
    "L'addestramento deve avvenire con le frasi \"ripulite\" dai dati per addestrare il ConditionalRandomField... ovvero useremo solo gli slots per diminuire lo spazio dimensionale"
   ]
  },
  {
   "cell_type": "code",
   "execution_count": 53,
   "id": "8f1daf9f",
   "metadata": {},
   "outputs": [
    {
     "data": {
      "text/html": [
       "<div>\n",
       "<style scoped>\n",
       "    .dataframe tbody tr th:only-of-type {\n",
       "        vertical-align: middle;\n",
       "    }\n",
       "\n",
       "    .dataframe tbody tr th {\n",
       "        vertical-align: top;\n",
       "    }\n",
       "\n",
       "    .dataframe thead th {\n",
       "        text-align: right;\n",
       "    }\n",
       "</style>\n",
       "<table border=\"1\" class=\"dataframe\">\n",
       "  <thead>\n",
       "    <tr style=\"text-align: right;\">\n",
       "      <th></th>\n",
       "      <th>sentences</th>\n",
       "      <th>intents</th>\n",
       "    </tr>\n",
       "  </thead>\n",
       "  <tbody>\n",
       "    <tr>\n",
       "      <th>0</th>\n",
       "      <td>CI SONO FATTORIE DIDATTCHE AD [SEDE](EBOLI)?</td>\n",
       "      <td>user_AskCity</td>\n",
       "    </tr>\n",
       "    <tr>\n",
       "      <th>1</th>\n",
       "      <td>CI SONO FATTORIE DIDATTICHE IN PROVINCIA DI [P...</td>\n",
       "      <td>user_AskProvWithParams</td>\n",
       "    </tr>\n",
       "    <tr>\n",
       "      <th>2</th>\n",
       "      <td>CI SONO FATTORIE DIDATTICHE NELLA PROVINCIA DI...</td>\n",
       "      <td>user_AskProv</td>\n",
       "    </tr>\n",
       "    <tr>\n",
       "      <th>3</th>\n",
       "      <td>CI SONO FATTORIE DIDATTICHE NELLA PROVINCIA DI...</td>\n",
       "      <td>user_AskProv</td>\n",
       "    </tr>\n",
       "    <tr>\n",
       "      <th>4</th>\n",
       "      <td>CI SONO FATTORIE DIDATTICHE NELLA PROVINCIA DI...</td>\n",
       "      <td>user_AskProv</td>\n",
       "    </tr>\n",
       "  </tbody>\n",
       "</table>\n",
       "</div>"
      ],
      "text/plain": [
       "                                           sentences                 intents\n",
       "0       CI SONO FATTORIE DIDATTCHE AD [SEDE](EBOLI)?            user_AskCity\n",
       "1  CI SONO FATTORIE DIDATTICHE IN PROVINCIA DI [P...  user_AskProvWithParams\n",
       "2  CI SONO FATTORIE DIDATTICHE NELLA PROVINCIA DI...            user_AskProv\n",
       "3  CI SONO FATTORIE DIDATTICHE NELLA PROVINCIA DI...            user_AskProv\n",
       "4  CI SONO FATTORIE DIDATTICHE NELLA PROVINCIA DI...            user_AskProv"
      ]
     },
     "execution_count": 53,
     "metadata": {},
     "output_type": "execute_result"
    }
   ],
   "source": [
    "df = pd.read_csv(sentences_file_generated,sep=\"|\", header=None)\n",
    "\n",
    "df.columns = ['sentences', 'intents']\n",
    "df.head()"
   ]
  },
  {
   "cell_type": "code",
   "execution_count": 182,
   "id": "f18a3367",
   "metadata": {},
   "outputs": [],
   "source": [
    "def conserva_solo_slot_name(text:str) -> str:\n",
    "    \n",
    "    \"\"\"\n",
    "    Per facilitare la riduzione dello spazio dimensionale \n",
    "        vengono eliminati i valori degli slots\n",
    "        mentre vengono conservati i loro nomi\n",
    "        \n",
    "        \n",
    "    Parameters:\n",
    "    -----------\n",
    "    \n",
    "    text : str\n",
    "    \n",
    "        è la stringa che contiene la frase\n",
    "        \n",
    "    \n",
    "    Returns:\n",
    "    -----------\n",
    "    text : str\n",
    "    \n",
    "    \"\"\"\n",
    "        \n",
    "    text = rimuovi_punteggiatura(text)\n",
    "    \n",
    "    pattern = r'(\\([A-Za-z0-9 ]+\\)|\\[|\\])'\n",
    "    \n",
    "    text = re.sub(pattern, \"\", text)\n",
    "    \n",
    "    return text"
   ]
  },
  {
   "cell_type": "code",
   "execution_count": 55,
   "id": "f8ec019d",
   "metadata": {},
   "outputs": [
    {
     "data": {
      "text/plain": [
       "'CI SONO FATTORIE DIDATTICHE IN PROVINCIA DI [PROVINCIA](SALERNO)?'"
      ]
     },
     "execution_count": 55,
     "metadata": {},
     "output_type": "execute_result"
    }
   ],
   "source": [
    "df['sentences'][5]"
   ]
  },
  {
   "cell_type": "code",
   "execution_count": 56,
   "id": "cce11f14",
   "metadata": {},
   "outputs": [
    {
     "data": {
      "text/plain": [
       "'CI SONO FATTORIE DIDATTICHE NELLA PROVINCIA DI PROVINCIA '"
      ]
     },
     "execution_count": 56,
     "metadata": {},
     "output_type": "execute_result"
    }
   ],
   "source": [
    "conserva_solo_slot_name(df['sentences'][100])"
   ]
  },
  {
   "cell_type": "code",
   "execution_count": 57,
   "id": "7ae7aca2",
   "metadata": {},
   "outputs": [
    {
     "data": {
      "text/html": [
       "<div>\n",
       "<style scoped>\n",
       "    .dataframe tbody tr th:only-of-type {\n",
       "        vertical-align: middle;\n",
       "    }\n",
       "\n",
       "    .dataframe tbody tr th {\n",
       "        vertical-align: top;\n",
       "    }\n",
       "\n",
       "    .dataframe thead th {\n",
       "        text-align: right;\n",
       "    }\n",
       "</style>\n",
       "<table border=\"1\" class=\"dataframe\">\n",
       "  <thead>\n",
       "    <tr style=\"text-align: right;\">\n",
       "      <th></th>\n",
       "      <th>sentences</th>\n",
       "      <th>intents</th>\n",
       "    </tr>\n",
       "  </thead>\n",
       "  <tbody>\n",
       "    <tr>\n",
       "      <th>0</th>\n",
       "      <td>CI SONO FATTORIE DIDATTCHE AD SEDE</td>\n",
       "      <td>user_AskCity</td>\n",
       "    </tr>\n",
       "    <tr>\n",
       "      <th>1</th>\n",
       "      <td>CI SONO FATTORIE DIDATTICHE IN PROVINCIA DI PR...</td>\n",
       "      <td>user_AskProvWithParams</td>\n",
       "    </tr>\n",
       "    <tr>\n",
       "      <th>2</th>\n",
       "      <td>CI SONO FATTORIE DIDATTICHE NELLA PROVINCIA DI...</td>\n",
       "      <td>user_AskProv</td>\n",
       "    </tr>\n",
       "    <tr>\n",
       "      <th>3</th>\n",
       "      <td>CI SONO FATTORIE DIDATTICHE NELLA PROVINCIA DI...</td>\n",
       "      <td>user_AskProv</td>\n",
       "    </tr>\n",
       "    <tr>\n",
       "      <th>4</th>\n",
       "      <td>CI SONO FATTORIE DIDATTICHE NELLA PROVINCIA DI...</td>\n",
       "      <td>user_AskProv</td>\n",
       "    </tr>\n",
       "  </tbody>\n",
       "</table>\n",
       "</div>"
      ],
      "text/plain": [
       "                                           sentences                 intents\n",
       "0                CI SONO FATTORIE DIDATTCHE AD SEDE             user_AskCity\n",
       "1  CI SONO FATTORIE DIDATTICHE IN PROVINCIA DI PR...  user_AskProvWithParams\n",
       "2  CI SONO FATTORIE DIDATTICHE NELLA PROVINCIA DI...            user_AskProv\n",
       "3  CI SONO FATTORIE DIDATTICHE NELLA PROVINCIA DI...            user_AskProv\n",
       "4  CI SONO FATTORIE DIDATTICHE NELLA PROVINCIA DI...            user_AskProv"
      ]
     },
     "execution_count": 57,
     "metadata": {},
     "output_type": "execute_result"
    }
   ],
   "source": [
    "df['sentences'] = df['sentences'].apply(conserva_solo_slot_name)\n",
    "\n",
    "df.head()"
   ]
  },
  {
   "cell_type": "markdown",
   "id": "64b68c9b",
   "metadata": {},
   "source": [
    "#### Funzioni per addestrare l'algoritmo di classificazione"
   ]
  },
  {
   "cell_type": "markdown",
   "id": "258796aa",
   "metadata": {},
   "source": [
    "...le due funzioni che seguono si spiegano meglio con un esempio..."
   ]
  },
  {
   "cell_type": "code",
   "execution_count": 200,
   "id": "f2296553",
   "metadata": {},
   "outputs": [],
   "source": [
    "def replace_slot_values(sentence_dict:dict) -> dict:\n",
    "    \n",
    "    \"\"\"\n",
    "    Integrazione dictionary - parte 1 di 2\n",
    "    \n",
    "    \n",
    "    Per operare una riduzione delle variabili\n",
    "    sostituisce il valore con il relativo slot\n",
    "    \"\"\"\n",
    "    \n",
    "    sentence_dict['replaced_sentence'] =  sentence_dict['sentence']\n",
    "    \n",
    "    for k, v in sentence_dict['slots'].items():\n",
    "        \n",
    "        if k != 'DATETIMES':\n",
    "        \n",
    "            sentence_dict['replaced_sentence'] = re.sub(v, k, sentence_dict['replaced_sentence'])\n",
    "    \n",
    "    \n",
    "    return sentence_dict"
   ]
  },
  {
   "cell_type": "code",
   "execution_count": 201,
   "id": "74a9fc09",
   "metadata": {},
   "outputs": [],
   "source": [
    "def add_slots(sentence:str, model:sklearn_crfsuite.estimator.CRF) -> dict:\n",
    "    \n",
    "    \"\"\"\n",
    "    Integrazione dictionary - parte 2 di 2\n",
    "    \"\"\"\n",
    "    \n",
    "    sentence_dict = {}\n",
    "    \n",
    "    sentence = rimuovi_punteggiatura(sentence)\n",
    "    \n",
    "    slots_dict = slots_extractor(sentence, model)\n",
    "    \n",
    "    sentence_dict['sentence'] = sentence\n",
    "    sentence_dict['slots'] = slots_dict\n",
    "    \n",
    "    sentence_dict = replace_slot_values(sentence_dict)\n",
    "    \n",
    "#     date_time = extract_datetime(sentence)\n",
    "    \n",
    "#     if date_time is not None and len(date_time) > 0:\n",
    "#         sentence_dict['datetimes'] = date_time['datetime']\n",
    "#     else:\n",
    "#         sentence_dict['datetimes'] = False\n",
    "    \n",
    "    return sentence_dict"
   ]
  },
  {
   "cell_type": "code",
   "execution_count": 202,
   "id": "f27c8af6",
   "metadata": {},
   "outputs": [
    {
     "data": {
      "text/plain": [
       "'CI SONO FATTORIE DIDATTICHE, AD AFRAGOLA'"
      ]
     },
     "execution_count": 202,
     "metadata": {},
     "output_type": "execute_result"
    }
   ],
   "source": [
    "nuova_frase"
   ]
  },
  {
   "cell_type": "code",
   "execution_count": 204,
   "id": "a32bc6b4",
   "metadata": {},
   "outputs": [
    {
     "data": {
      "text/plain": [
       "{'sentence': 'CI SONO FATTORIE DIDATTICHE AD AFRAGOLA CHE SONO APERTE DOMANI ALLE 8 DI SERA ',\n",
       " 'slots': defaultdict(list,\n",
       "             {'PROVINCIA': 'SERA',\n",
       "              'DATETIMES': [datetime.datetime(2021, 9, 5, 20, 0, tzinfo=<StaticTzInfo 'UTC\\-07:00'>)]}),\n",
       " 'replaced_sentence': 'CI SONO FATTORIE DIDATTICHE AD AFRAGOLA CHE SONO APERTE DOMANI ALLE 8 DI PROVINCIA '}"
      ]
     },
     "execution_count": 204,
     "metadata": {},
     "output_type": "execute_result"
    }
   ],
   "source": [
    "add_slots('CI SONO FATTORIE DIDATTICHE, AD AFRAGOLA CHE SONO APERTE DOMANI ALLE 8 DI SERA ?', crf)"
   ]
  },
  {
   "cell_type": "markdown",
   "id": "b64ac5f4",
   "metadata": {},
   "source": [
    "#### Inizio preparazione dati per training modello di classificazione"
   ]
  },
  {
   "cell_type": "code",
   "execution_count": 205,
   "id": "1cda32fb",
   "metadata": {},
   "outputs": [],
   "source": [
    "from sklearn.feature_extraction.text import CountVectorizer\n",
    "cv = CountVectorizer()"
   ]
  },
  {
   "cell_type": "code",
   "execution_count": 206,
   "id": "bd5a8938",
   "metadata": {},
   "outputs": [
    {
     "data": {
      "text/plain": [
       "CountVectorizer(analyzer='word', binary=False, decode_error='strict',\n",
       "                dtype=<class 'numpy.int64'>, encoding='utf-8', input='content',\n",
       "                lowercase=True, max_df=1.0, max_features=None, min_df=1,\n",
       "                ngram_range=(1, 1), preprocessor=None, stop_words=None,\n",
       "                strip_accents=None, token_pattern='(?u)\\\\b\\\\w\\\\w+\\\\b',\n",
       "                tokenizer=None, vocabulary=None)"
      ]
     },
     "execution_count": 206,
     "metadata": {},
     "output_type": "execute_result"
    }
   ],
   "source": [
    "cv.fit(df.sentences)"
   ]
  },
  {
   "cell_type": "code",
   "execution_count": 66,
   "id": "59a699ce",
   "metadata": {},
   "outputs": [
    {
     "name": "stdout",
     "output_type": "stream",
     "text": [
      "Il vocabolario contiene 18 parole\n"
     ]
    },
    {
     "data": {
      "text/plain": [
       "{'ci': 3,\n",
       " 'sono': 17,\n",
       " 'fattorie': 9,\n",
       " 'didattiche': 8,\n",
       " 'in': 10,\n",
       " 'provincia': 14,\n",
       " 'di': 6,\n",
       " 'con': 5,\n",
       " 'produzione': 13,\n",
       " 'categoria': 1,\n",
       " 'quante': 15,\n",
       " 'sede': 16,\n",
       " 'nella': 11,\n",
       " 'che': 2,\n",
       " 'producono': 12,\n",
       " 'didattche': 7,\n",
       " 'ad': 0,\n",
       " 'coltivazione': 4}"
      ]
     },
     "execution_count": 66,
     "metadata": {},
     "output_type": "execute_result"
    }
   ],
   "source": [
    "print(f\"Il vocabolario contiene {len(cv.vocabulary_)} parole\")\n",
    "\n",
    "cv.vocabulary_"
   ]
  },
  {
   "cell_type": "code",
   "execution_count": 68,
   "id": "4d6e04ee",
   "metadata": {},
   "outputs": [],
   "source": [
    "fake_list = list()\n",
    "\n",
    "for i in range(300):\n",
    "    fake_list.append(\" \".join(random.choices(list(cv.vocabulary_.keys()), k = 10)))"
   ]
  },
  {
   "cell_type": "code",
   "execution_count": 69,
   "id": "ce7d84f8",
   "metadata": {},
   "outputs": [
    {
     "data": {
      "text/plain": [
       "['ad ad con didattche coltivazione didattche ci producono nella che',\n",
       " 'in di produzione didattiche categoria sono provincia sono produzione con',\n",
       " 'con fattorie coltivazione di nella ci ad quante con che',\n",
       " 'didattche fattorie didattche categoria sono nella ad di didattche categoria',\n",
       " 'sono coltivazione nella didattche didattche categoria nella provincia quante con',\n",
       " 'didattche coltivazione con produzione in sede categoria categoria didattche quante',\n",
       " 'didattche provincia nella in ad sede produzione categoria in provincia',\n",
       " 'ad didattche categoria ci ad sono ci ci di ad',\n",
       " 'ci categoria produzione che provincia con in sono sede sede',\n",
       " 'nella nella con producono in con didattche didattiche quante coltivazione']"
      ]
     },
     "execution_count": 69,
     "metadata": {},
     "output_type": "execute_result"
    }
   ],
   "source": [
    "fake_list[:10]"
   ]
  },
  {
   "cell_type": "code",
   "execution_count": 70,
   "id": "bf0f449c",
   "metadata": {},
   "outputs": [
    {
     "data": {
      "text/html": [
       "<div>\n",
       "<style scoped>\n",
       "    .dataframe tbody tr th:only-of-type {\n",
       "        vertical-align: middle;\n",
       "    }\n",
       "\n",
       "    .dataframe tbody tr th {\n",
       "        vertical-align: top;\n",
       "    }\n",
       "\n",
       "    .dataframe thead th {\n",
       "        text-align: right;\n",
       "    }\n",
       "</style>\n",
       "<table border=\"1\" class=\"dataframe\">\n",
       "  <thead>\n",
       "    <tr style=\"text-align: right;\">\n",
       "      <th></th>\n",
       "      <th>sentences</th>\n",
       "      <th>intents</th>\n",
       "    </tr>\n",
       "  </thead>\n",
       "  <tbody>\n",
       "    <tr>\n",
       "      <th>0</th>\n",
       "      <td>ad ad con didattche coltivazione didattche ci ...</td>\n",
       "      <td>fake</td>\n",
       "    </tr>\n",
       "    <tr>\n",
       "      <th>1</th>\n",
       "      <td>in di produzione didattiche categoria sono pro...</td>\n",
       "      <td>fake</td>\n",
       "    </tr>\n",
       "    <tr>\n",
       "      <th>2</th>\n",
       "      <td>con fattorie coltivazione di nella ci ad quant...</td>\n",
       "      <td>fake</td>\n",
       "    </tr>\n",
       "    <tr>\n",
       "      <th>3</th>\n",
       "      <td>didattche fattorie didattche categoria sono ne...</td>\n",
       "      <td>fake</td>\n",
       "    </tr>\n",
       "    <tr>\n",
       "      <th>4</th>\n",
       "      <td>sono coltivazione nella didattche didattche ca...</td>\n",
       "      <td>fake</td>\n",
       "    </tr>\n",
       "  </tbody>\n",
       "</table>\n",
       "</div>"
      ],
      "text/plain": [
       "                                           sentences intents\n",
       "0  ad ad con didattche coltivazione didattche ci ...    fake\n",
       "1  in di produzione didattiche categoria sono pro...    fake\n",
       "2  con fattorie coltivazione di nella ci ad quant...    fake\n",
       "3  didattche fattorie didattche categoria sono ne...    fake\n",
       "4  sono coltivazione nella didattche didattche ca...    fake"
      ]
     },
     "execution_count": 70,
     "metadata": {},
     "output_type": "execute_result"
    }
   ],
   "source": [
    "df_fake = pd.DataFrame({\"sentences\":fake_list, \"intents\":\"fake\"})\n",
    "df_fake.head()"
   ]
  },
  {
   "cell_type": "code",
   "execution_count": 71,
   "id": "b7c388ef",
   "metadata": {},
   "outputs": [
    {
     "data": {
      "text/html": [
       "<div>\n",
       "<style scoped>\n",
       "    .dataframe tbody tr th:only-of-type {\n",
       "        vertical-align: middle;\n",
       "    }\n",
       "\n",
       "    .dataframe tbody tr th {\n",
       "        vertical-align: top;\n",
       "    }\n",
       "\n",
       "    .dataframe thead th {\n",
       "        text-align: right;\n",
       "    }\n",
       "</style>\n",
       "<table border=\"1\" class=\"dataframe\">\n",
       "  <thead>\n",
       "    <tr style=\"text-align: right;\">\n",
       "      <th></th>\n",
       "      <th>sentences</th>\n",
       "      <th>intents</th>\n",
       "    </tr>\n",
       "  </thead>\n",
       "  <tbody>\n",
       "    <tr>\n",
       "      <th>1295</th>\n",
       "      <td>fattorie di didattche didattche fattorie didat...</td>\n",
       "      <td>fake</td>\n",
       "    </tr>\n",
       "    <tr>\n",
       "      <th>1296</th>\n",
       "      <td>ad quante coltivazione nella provincia produco...</td>\n",
       "      <td>fake</td>\n",
       "    </tr>\n",
       "    <tr>\n",
       "      <th>1297</th>\n",
       "      <td>didattiche quante in sede ad nella ad in categ...</td>\n",
       "      <td>fake</td>\n",
       "    </tr>\n",
       "    <tr>\n",
       "      <th>1298</th>\n",
       "      <td>produzione producono ci producono quante didat...</td>\n",
       "      <td>fake</td>\n",
       "    </tr>\n",
       "    <tr>\n",
       "      <th>1299</th>\n",
       "      <td>nella didattiche didattiche quante sede produc...</td>\n",
       "      <td>fake</td>\n",
       "    </tr>\n",
       "  </tbody>\n",
       "</table>\n",
       "</div>"
      ],
      "text/plain": [
       "                                              sentences intents\n",
       "1295  fattorie di didattche didattche fattorie didat...    fake\n",
       "1296  ad quante coltivazione nella provincia produco...    fake\n",
       "1297  didattiche quante in sede ad nella ad in categ...    fake\n",
       "1298  produzione producono ci producono quante didat...    fake\n",
       "1299  nella didattiche didattiche quante sede produc...    fake"
      ]
     },
     "execution_count": 71,
     "metadata": {},
     "output_type": "execute_result"
    }
   ],
   "source": [
    "df = pd.concat([df, df_fake], axis=0, ignore_index=True)\n",
    "df.tail()"
   ]
  },
  {
   "cell_type": "code",
   "execution_count": 72,
   "id": "b3f2d6ff",
   "metadata": {},
   "outputs": [],
   "source": [
    "import sklearn"
   ]
  },
  {
   "cell_type": "markdown",
   "id": "3090a817",
   "metadata": {},
   "source": [
    "#### Preparazione del target per il training"
   ]
  },
  {
   "cell_type": "code",
   "execution_count": 73,
   "id": "28435281",
   "metadata": {},
   "outputs": [],
   "source": [
    "from sklearn.preprocessing import LabelEncoder\n",
    "le = LabelEncoder()"
   ]
  },
  {
   "cell_type": "code",
   "execution_count": 74,
   "id": "78ad1111",
   "metadata": {},
   "outputs": [
    {
     "name": "stdout",
     "output_type": "stream",
     "text": [
      "fake --> 0\n",
      "user_AskCity --> 1\n",
      "user_AskProv --> 2\n",
      "user_AskProvWithParams --> 3\n"
     ]
    }
   ],
   "source": [
    "le.fit(df.intents.unique())\n",
    "\n",
    "for n, cls in enumerate(le.classes_):\n",
    "    print(f\"{cls} --> {n}\")"
   ]
  },
  {
   "cell_type": "code",
   "execution_count": 75,
   "id": "c5e076b9",
   "metadata": {},
   "outputs": [],
   "source": [
    "labels_categories = le.transform(df.intents.values)"
   ]
  },
  {
   "cell_type": "code",
   "execution_count": 76,
   "id": "9015ab2e",
   "metadata": {},
   "outputs": [
    {
     "data": {
      "text/plain": [
       "'user_AskCity'"
      ]
     },
     "execution_count": 76,
     "metadata": {},
     "output_type": "execute_result"
    }
   ],
   "source": [
    "le.inverse_transform([1])[0]"
   ]
  },
  {
   "cell_type": "markdown",
   "id": "50474ce6",
   "metadata": {},
   "source": [
    "#### Trasformazione e preprocessing della frase per il training del modello"
   ]
  },
  {
   "cell_type": "code",
   "execution_count": 77,
   "id": "77961625",
   "metadata": {},
   "outputs": [
    {
     "name": "stdout",
     "output_type": "stream",
     "text": [
      "CI SONO FATTORIE DIDATTICHE IN PROVINCIA DI PROVINCIA CON PRODUZIONE DI CATEGORIA \n"
     ]
    },
    {
     "data": {
      "text/plain": [
       "array([0, 1, 0, 1, 0, 1, 1, 0, 1, 1, 1, 0, 0, 1, 1, 0, 0, 1])"
      ]
     },
     "execution_count": 77,
     "metadata": {},
     "output_type": "execute_result"
    }
   ],
   "source": [
    "print(df.sentences[0])\n",
    "\n",
    "np.max(cv.transform(df.sentences[0].split()).toarray(), axis=0)"
   ]
  },
  {
   "cell_type": "code",
   "execution_count": 78,
   "id": "2d0f9173",
   "metadata": {},
   "outputs": [
    {
     "name": "stdout",
     "output_type": "stream",
     "text": [
      "\n",
      "Il dataset si compone di 1300 frasi\n",
      "con n.18 colonne \n",
      "(infatti il vocabolario contiene 18 parole)\n",
      "\n"
     ]
    }
   ],
   "source": [
    "print(f\"\"\"\n",
    "Il dataset si compone di {cv.transform(df['sentences'].values).toarray().shape[0]} frasi\n",
    "con n.{cv.transform(df['sentences'].values).toarray().shape[1]} colonne \n",
    "(infatti il vocabolario contiene 18 parole)\n",
    "\"\"\")"
   ]
  },
  {
   "cell_type": "code",
   "execution_count": 79,
   "id": "89d37c4b",
   "metadata": {},
   "outputs": [],
   "source": [
    "from sklearn.linear_model import SGDClassifier\n",
    "\n",
    "classifier = SGDClassifier(fit_intercept=False, loss='log')"
   ]
  },
  {
   "cell_type": "code",
   "execution_count": 80,
   "id": "3b1aab0f",
   "metadata": {},
   "outputs": [
    {
     "data": {
      "text/plain": [
       "SGDClassifier(alpha=0.0001, average=False, class_weight=None,\n",
       "              early_stopping=False, epsilon=0.1, eta0=0.0, fit_intercept=False,\n",
       "              l1_ratio=0.15, learning_rate='optimal', loss='log', max_iter=1000,\n",
       "              n_iter_no_change=5, n_jobs=None, penalty='l2', power_t=0.5,\n",
       "              random_state=None, shuffle=True, tol=0.001,\n",
       "              validation_fraction=0.1, verbose=0, warm_start=False)"
      ]
     },
     "execution_count": 80,
     "metadata": {},
     "output_type": "execute_result"
    }
   ],
   "source": [
    "classifier.fit(X=cv.transform(df['sentences'].values).toarray(), y=labels_categories)"
   ]
  },
  {
   "cell_type": "markdown",
   "id": "1aa86067",
   "metadata": {},
   "source": [
    "#### Esempio su una frase contenuta nel training set"
   ]
  },
  {
   "cell_type": "code",
   "execution_count": 81,
   "id": "5a718280",
   "metadata": {},
   "outputs": [
    {
     "data": {
      "text/plain": [
       "'user_AskProvWithParams'"
      ]
     },
     "execution_count": 81,
     "metadata": {},
     "output_type": "execute_result"
    }
   ],
   "source": [
    "df['intents'].values[0]"
   ]
  },
  {
   "cell_type": "code",
   "execution_count": 82,
   "id": "4ca1009b",
   "metadata": {},
   "outputs": [
    {
     "data": {
      "text/plain": [
       "'CI SONO FATTORIE DIDATTICHE IN PROVINCIA DI PROVINCIA CON PRODUZIONE DI CATEGORIA '"
      ]
     },
     "execution_count": 82,
     "metadata": {},
     "output_type": "execute_result"
    }
   ],
   "source": [
    "df['sentences'].values[0]"
   ]
  },
  {
   "cell_type": "code",
   "execution_count": 83,
   "id": "d1485655",
   "metadata": {},
   "outputs": [],
   "source": [
    "y_pred = classifier.predict([np.max(cv.transform(df['sentences'].values[0].split()).toarray(), axis = 0)])"
   ]
  },
  {
   "cell_type": "code",
   "execution_count": 84,
   "id": "87474b09",
   "metadata": {},
   "outputs": [
    {
     "data": {
      "text/plain": [
       "'user_AskProvWithParams'"
      ]
     },
     "execution_count": 84,
     "metadata": {},
     "output_type": "execute_result"
    }
   ],
   "source": [
    "le.inverse_transform(y_pred)[0]"
   ]
  },
  {
   "cell_type": "code",
   "execution_count": 85,
   "id": "51fb60bd",
   "metadata": {},
   "outputs": [],
   "source": [
    "from sklearn.metrics import confusion_matrix"
   ]
  },
  {
   "cell_type": "code",
   "execution_count": 86,
   "id": "5b3c98c1",
   "metadata": {},
   "outputs": [],
   "source": [
    "predicted_categories = [classifier.predict([np.max(cv.transform(sentence.split()).toarray(), axis = 0)])[0] for sentence in df.sentences.values]"
   ]
  },
  {
   "cell_type": "code",
   "execution_count": 87,
   "id": "a81f1a2d",
   "metadata": {},
   "outputs": [
    {
     "data": {
      "text/plain": [
       "array([[290,   2,   0,   8],\n",
       "       [  0, 210,   0,   0],\n",
       "       [  0,   0, 332,   0],\n",
       "       [  0,   0,   0, 458]])"
      ]
     },
     "execution_count": 87,
     "metadata": {},
     "output_type": "execute_result"
    }
   ],
   "source": [
    "cm = confusion_matrix(labels_categories, predicted_categories)\n",
    "cm"
   ]
  },
  {
   "cell_type": "code",
   "execution_count": 88,
   "id": "f54551dc",
   "metadata": {},
   "outputs": [
    {
     "name": "stdout",
     "output_type": "stream",
     "text": [
      "Accuracy: 99.23076923076923%\n"
     ]
    }
   ],
   "source": [
    "print(f\"Accuracy: {sum(cm.diagonal()) / cm.sum() * 100}%\")"
   ]
  },
  {
   "cell_type": "markdown",
   "id": "7f002479",
   "metadata": {},
   "source": [
    "#### Test classificazione su nuova frase"
   ]
  },
  {
   "cell_type": "code",
   "execution_count": 89,
   "id": "e6f356c2",
   "metadata": {},
   "outputs": [
    {
     "data": {
      "text/plain": [
       "'CI SONO FATTORIE DIDATTICHE AD SEDE'"
      ]
     },
     "execution_count": 89,
     "metadata": {},
     "output_type": "execute_result"
    }
   ],
   "source": [
    "processed_sentence = add_slots(nuova_frase, crf)['replaced_sentence']\n",
    "processed_sentence"
   ]
  },
  {
   "cell_type": "code",
   "execution_count": 90,
   "id": "45991809",
   "metadata": {},
   "outputs": [
    {
     "data": {
      "text/plain": [
       "'user_AskCity'"
      ]
     },
     "execution_count": 90,
     "metadata": {},
     "output_type": "execute_result"
    }
   ],
   "source": [
    "y_pred = classifier.predict([np.max(cv.transform(processed_sentence.split()).toarray(), axis = 0)])[0]\n",
    "le.inverse_transform([y_pred])[0]"
   ]
  },
  {
   "cell_type": "markdown",
   "id": "61bf43a8",
   "metadata": {},
   "source": [
    "##### Trasformiamo tutto in una funzione"
   ]
  },
  {
   "cell_type": "code",
   "execution_count": 91,
   "id": "d16396f4",
   "metadata": {},
   "outputs": [],
   "source": [
    "def get_intents_and_slots(sentence:str, model:sklearn_crfsuite.estimator.CRF, cv:sklearn.feature_extraction.text.CountVectorizer, le:sklearn.preprocessing._label.LabelEncoder, threasold = 0.25) -> dict:\n",
    "    \n",
    "    \"\"\"\n",
    "    Estrae gli intents e gli slots dalla frase\n",
    "    \"\"\"\n",
    "    \n",
    "    sentence_dict = add_slots(sentence, crf)\n",
    "    \n",
    "    sentence = sentence_dict['replaced_sentence']\n",
    "    \n",
    "    arr = cv.transform(add_slots(sentence, crf)['replaced_sentence'].split()).toarray()\n",
    "    \n",
    "    arr = np.max(arr, axis = 0)\n",
    "    \n",
    "    probs = model.predict_proba([arr])[0]\n",
    "            \n",
    "    df = pd.DataFrame({\"classes\":le.classes_, \"probs\":probs})\n",
    "    df.sort_values(\"probs\", ascending=False, inplace=True)    \n",
    "    classes_with_prob = df[df['probs']>threasold].to_dict('records')\n",
    "    sentence_dict['intents'] = classes_with_prob\n",
    "    \n",
    "    max_intent = le.classes_[np.argmax(probs)]\n",
    "    sentence_dict['max_intent'] = max_intent\n",
    "\n",
    "    \n",
    "    return sentence_dict\n",
    "    "
   ]
  },
  {
   "cell_type": "code",
   "execution_count": 92,
   "id": "e2d21453",
   "metadata": {},
   "outputs": [],
   "source": [
    "data = get_intents_and_slots(nuova_frase, classifier, cv, le)"
   ]
  },
  {
   "cell_type": "code",
   "execution_count": 95,
   "id": "1c3b67d8",
   "metadata": {},
   "outputs": [
    {
     "name": "stdout",
     "output_type": "stream",
     "text": [
      "{'intents': [{'classes': 'user_AskCity', 'probs': 0.9996863126884761}],\n",
      " 'max_intent': 'user_AskCity',\n",
      " 'replaced_sentence': 'CI SONO FATTORIE DIDATTICHE AD SEDE',\n",
      " 'sentence': 'CI SONO FATTORIE DIDATTICHE AD AFRAGOLA',\n",
      " 'slots': defaultdict(None, {'SEDE': 'AFRAGOLA'})}\n"
     ]
    }
   ],
   "source": [
    "pprint.pprint(data)"
   ]
  },
  {
   "cell_type": "markdown",
   "id": "39db58eb",
   "metadata": {},
   "source": [
    "## Parte 4"
   ]
  },
  {
   "cell_type": "markdown",
   "id": "310053c7",
   "metadata": {},
   "source": [
    "### Combinare le info estratte dalla frase per filtrare un semplice dataset OpenData"
   ]
  },
  {
   "cell_type": "markdown",
   "id": "9805dbdb",
   "metadata": {},
   "source": [
    "Comprensione del dialogo e della costruzione della risposta"
   ]
  },
  {
   "cell_type": "code",
   "execution_count": 235,
   "id": "610209af",
   "metadata": {},
   "outputs": [
    {
     "name": "stdout",
     "output_type": "stream",
     "text": [
      "{'user_AskCity': 'bot_ReplyCity ',\n",
      " 'user_AskProv': 'bot_ReplyProv',\n",
      " 'user_AskProvWithParams': 'bot_ReplyProvWithParams'}\n"
     ]
    }
   ],
   "source": [
    "dialogs = {v[0]:v[1] for v in list(dialogs.values())}\n",
    "\n",
    "pprint.pprint(dialogs)"
   ]
  },
  {
   "cell_type": "code",
   "execution_count": 236,
   "id": "a7f4d6db",
   "metadata": {},
   "outputs": [
    {
     "data": {
      "text/plain": [
       "{'bot_ReplyProv': ['Nella provincia di [PROVINCIA] ci sono %d fattorie didattiche'],\n",
       " 'bot_ReplyCity ': ['Nella città di [SEDE] ci sono %d fattorie didattiche'],\n",
       " 'bot_ReplyProvWithParams': ['Nella provincia di [PROVINCIA] ci sono %d fattorie didattiche con le caratteristiche richieste']}"
      ]
     },
     "execution_count": 236,
     "metadata": {},
     "output_type": "execute_result"
    }
   ],
   "source": [
    "bot_sentences"
   ]
  },
  {
   "cell_type": "code",
   "execution_count": 259,
   "id": "a51c093f",
   "metadata": {},
   "outputs": [
    {
     "data": {
      "text/plain": [
       "'fake'"
      ]
     },
     "execution_count": 259,
     "metadata": {},
     "output_type": "execute_result"
    }
   ],
   "source": [
    "\"\"\"\n",
    "Estrazione intent\n",
    "\"\"\"\n",
    "\n",
    "if data['intents'][0]['probs'] > 0.75:\n",
    "\n",
    "    intent = data['max_intent']\n",
    "    \n",
    "else:\n",
    "    \n",
    "    intent = 'fake'\n",
    "\n",
    "intent"
   ]
  },
  {
   "cell_type": "code",
   "execution_count": 260,
   "id": "ca2382e3",
   "metadata": {},
   "outputs": [],
   "source": [
    "# data['intents'][0]['probs'] > 0.75"
   ]
  },
  {
   "cell_type": "code",
   "execution_count": 261,
   "id": "d91874b9",
   "metadata": {},
   "outputs": [
    {
     "data": {
      "text/plain": [
       "'fake'"
      ]
     },
     "execution_count": 261,
     "metadata": {},
     "output_type": "execute_result"
    }
   ],
   "source": [
    "\"\"\"\n",
    "Estrazione risposta\n",
    "\"\"\"\n",
    "\n",
    "try:\n",
    "\n",
    "    reply = dialogs[intent]\n",
    "\n",
    "except:\n",
    "    \n",
    "    reply = \"fake\"\n",
    "    \n",
    "reply"
   ]
  },
  {
   "cell_type": "code",
   "execution_count": 266,
   "id": "22c99d72",
   "metadata": {},
   "outputs": [
    {
     "data": {
      "text/plain": [
       "'Nella provincia di [PROVINdf ci sono %d fattorie didattiche con le caratteristiche richieste'"
      ]
     },
     "execution_count": 266,
     "metadata": {},
     "output_type": "execute_result"
    }
   ],
   "source": [
    "\"\"\"\n",
    "Estrazione frase con parametri\n",
    "\"\"\"\n",
    "\n",
    "if reply != \"fake\":\n",
    "\n",
    "    reply_str = random.choice(bot_sentences[reply])\n",
    "\n",
    "reply_str"
   ]
  },
  {
   "cell_type": "markdown",
   "id": "e5f8f1f7",
   "metadata": {},
   "source": [
    "Estrazione dei dati per la sostituzione dei parametri"
   ]
  },
  {
   "cell_type": "code",
   "execution_count": 267,
   "id": "1c23e609",
   "metadata": {},
   "outputs": [
    {
     "name": "stdout",
     "output_type": "stream",
     "text": [
      "CATEGORIA == 'df'\n"
     ]
    }
   ],
   "source": [
    "query_list = list()\n",
    "\n",
    "for k,v in data['slots'].items():\n",
    "    query_list.append(f\"{k} == '{v}'\")\n",
    "    \n",
    "    k = list(data['slots'].keys())[0]\n",
    "    k = f\"[{k}]\"\n",
    "    \n",
    "    v = list(data['slots'].values())[0]\n",
    "    \n",
    "    reply_str = re.sub(f\"[{k}+]\", v, reply_str)\n",
    "        \n",
    "query = \" and \".join(query_list)\n",
    "print(query)"
   ]
  },
  {
   "cell_type": "code",
   "execution_count": 268,
   "id": "b436a2fa",
   "metadata": {},
   "outputs": [
    {
     "data": {
      "text/plain": [
       "'Nella provincia di [PROVINdf ci sono %d fattorie didattiche con le caratteristiche richieste'"
      ]
     },
     "execution_count": 268,
     "metadata": {},
     "output_type": "execute_result"
    }
   ],
   "source": [
    "reply_str"
   ]
  },
  {
   "cell_type": "code",
   "execution_count": 269,
   "id": "01e42e49",
   "metadata": {},
   "outputs": [
    {
     "data": {
      "text/html": [
       "<div>\n",
       "<style scoped>\n",
       "    .dataframe tbody tr th:only-of-type {\n",
       "        vertical-align: middle;\n",
       "    }\n",
       "\n",
       "    .dataframe tbody tr th {\n",
       "        vertical-align: top;\n",
       "    }\n",
       "\n",
       "    .dataframe thead th {\n",
       "        text-align: right;\n",
       "    }\n",
       "</style>\n",
       "<table border=\"1\" class=\"dataframe\">\n",
       "  <thead>\n",
       "    <tr style=\"text-align: right;\">\n",
       "      <th></th>\n",
       "      <th>NOME</th>\n",
       "      <th>SEDE</th>\n",
       "      <th>PROVINCIA</th>\n",
       "      <th>CATEGORIA</th>\n",
       "    </tr>\n",
       "  </thead>\n",
       "  <tbody>\n",
       "    <tr>\n",
       "      <th>0</th>\n",
       "      <td>Azienda Sperimentale Regionale Improsta</td>\n",
       "      <td>EBOLI</td>\n",
       "      <td>SALERNO</td>\n",
       "      <td>ALLEVAMENTO</td>\n",
       "    </tr>\n",
       "    <tr>\n",
       "      <th>1</th>\n",
       "      <td>Museo della Civiltà Contadina \"Michele Russo\"</td>\n",
       "      <td>SOMMA VESUVIANA</td>\n",
       "      <td>NAPOLI</td>\n",
       "      <td>ALLEVAMENTO</td>\n",
       "    </tr>\n",
       "    <tr>\n",
       "      <th>2</th>\n",
       "      <td>Masseria Panico di Eredi Beneduce Ettore</td>\n",
       "      <td>SOMMA VESUVIANA</td>\n",
       "      <td>NAPOLI</td>\n",
       "      <td>ALLEVAMENTO</td>\n",
       "    </tr>\n",
       "    <tr>\n",
       "      <th>3</th>\n",
       "      <td>Cooperativa Agrituristica La Ginestra</td>\n",
       "      <td>VICO EQUENSE</td>\n",
       "      <td>NAPOLI</td>\n",
       "      <td>ALLEVAMENTO</td>\n",
       "    </tr>\n",
       "    <tr>\n",
       "      <th>4</th>\n",
       "      <td>Agriturismo Costiera Amalfitana</td>\n",
       "      <td>TRAMONTI</td>\n",
       "      <td>SALERNO</td>\n",
       "      <td>ALLEVAMENTO</td>\n",
       "    </tr>\n",
       "  </tbody>\n",
       "</table>\n",
       "</div>"
      ],
      "text/plain": [
       "                                            NOME             SEDE PROVINCIA  \\\n",
       "0        Azienda Sperimentale Regionale Improsta            EBOLI   SALERNO   \n",
       "1  Museo della Civiltà Contadina \"Michele Russo\"  SOMMA VESUVIANA    NAPOLI   \n",
       "2       Masseria Panico di Eredi Beneduce Ettore  SOMMA VESUVIANA    NAPOLI   \n",
       "3          Cooperativa Agrituristica La Ginestra     VICO EQUENSE    NAPOLI   \n",
       "4                Agriturismo Costiera Amalfitana         TRAMONTI   SALERNO   \n",
       "\n",
       "     CATEGORIA  \n",
       "0  ALLEVAMENTO  \n",
       "1  ALLEVAMENTO  \n",
       "2  ALLEVAMENTO  \n",
       "3  ALLEVAMENTO  \n",
       "4  ALLEVAMENTO  "
      ]
     },
     "execution_count": 269,
     "metadata": {},
     "output_type": "execute_result"
    }
   ],
   "source": [
    "df_query = pd.read_csv('db_esempio.csv')\n",
    "df_query.head()"
   ]
  },
  {
   "cell_type": "code",
   "execution_count": 270,
   "id": "38c39ab3",
   "metadata": {},
   "outputs": [
    {
     "name": "stdout",
     "output_type": "stream",
     "text": [
      "Nella provincia di [PROVINdf ci sono 0 fattorie didattiche con le caratteristiche richieste\n"
     ]
    }
   ],
   "source": [
    "n = df_query.query(query)['NOME'].drop_duplicates().count()\n",
    "\n",
    "print(reply_str % (n))"
   ]
  },
  {
   "cell_type": "code",
   "execution_count": 96,
   "id": "faf3a5da",
   "metadata": {},
   "outputs": [],
   "source": [
    "# if data['max_intent'] == 'user_AskProvWithParams':\n",
    "    \n",
    "#     n = df_query.query(query)['NOME'].drop_duplicates().count()\n",
    "    \n",
    "#     print(reply_str % (n))\n",
    "    \n",
    "# elif data['max_intent'] == 'user_AskProv':\n",
    "    \n",
    "#     n = df_query.query(query)['NOME'].drop_duplicates().count()\n",
    "    \n",
    "#     print(reply_str % (n))\n",
    "\n",
    "# elif data['max_intent'] == 'user_AskCity':\n",
    "    \n",
    "#     n = df_query.query(query)['NOME'].drop_duplicates().count()\n",
    "    \n",
    "#     print(reply_str % (n))\n",
    "\n",
    "# else:\n",
    "#     print(\"Non ho capito\")"
   ]
  },
  {
   "cell_type": "markdown",
   "id": "b099b4ef",
   "metadata": {},
   "source": [
    "##### Adesso raggruppiamo tutto in una funzione"
   ]
  },
  {
   "cell_type": "code",
   "execution_count": 296,
   "id": "1ba91fd4",
   "metadata": {},
   "outputs": [],
   "source": [
    "def bot_reply(sentence:str, model:sklearn_crfsuite.estimator.CRF, cv:sklearn.feature_extraction.text.CountVectorizer, le:sklearn.preprocessing._label.LabelEncoder, dialogs:dict, bot_sentences:dict, db:str = 'db_esempio.csv', threasold = 0.25) -> dict:\n",
    "    \n",
    "    \"\"\"\n",
    "    Genera la risposta\n",
    "    \"\"\"\n",
    "    \n",
    "    sentence = sentence.upper()\n",
    "    \n",
    "    data = get_intents_and_slots(sentence, model, cv, le, threasold)\n",
    "    \n",
    "#     intent = data['max_intent']\n",
    "\n",
    "    pprint.pprint(data)\n",
    "    print(\"---------------------------------------------\")\n",
    "    \n",
    "    if data['intents'][0]['probs'] > 0.75 and not 'fake':\n",
    "        \n",
    "        intent = data['max_intent']\n",
    "        \n",
    "        reply = dialogs[intent]\n",
    "\n",
    "        reply_str = random.choice(bot_sentences[reply])\n",
    "       \n",
    "        query_list = list()\n",
    "\n",
    "        for k,v in data['slots'].items():\n",
    "            query_list.append(f\"{k} == '{v}'\")\n",
    "\n",
    "            k = list(data['slots'].keys())[0]\n",
    "            k = f\"[{k}]\"\n",
    "\n",
    "            print(k)\n",
    "\n",
    "            v = list(data['slots'].values())[0]\n",
    "\n",
    "            reply_str = re.sub(fr\"[{k}+]\", v, reply_str)\n",
    "\n",
    "        query = \" and \".join(query_list)\n",
    "\n",
    "        df_query = pd.read_csv(db)\n",
    "\n",
    "        n = df_query.query(query)['NOME'].drop_duplicates().count()\n",
    "        \n",
    "        return reply_str % (n)\n",
    "    \n",
    "    else:\n",
    "\n",
    "        intent = 'Non ho capito, riformula meglio la tua domanda'\n",
    "\n",
    "        return intent"
   ]
  },
  {
   "cell_type": "code",
   "execution_count": 297,
   "id": "3997a07a",
   "metadata": {},
   "outputs": [
    {
     "name": "stdout",
     "output_type": "stream",
     "text": [
      "{'intents': [{'classes': 'user_AskCity', 'probs': 0.9592778810017446}],\n",
      " 'max_intent': 'user_AskCity',\n",
      " 'replaced_sentence': 'QUANTE FATTORIE DIDATTICHE CI SONO AD SEDE ',\n",
      " 'sentence': 'QUANTE FATTORIE DIDATTICHE CI SONO AD ACCIAROLI ',\n",
      " 'slots': defaultdict(None, {'SEDE': 'ACCIAROLI'})}\n",
      "---------------------------------------------\n"
     ]
    },
    {
     "data": {
      "text/plain": [
       "'Non ho capito, riformula meglio la tua domanda'"
      ]
     },
     "execution_count": 297,
     "metadata": {},
     "output_type": "execute_result"
    }
   ],
   "source": [
    "nuova_frase = \"QUANTE FATTORIE DIDATTICHE CI SONO AD ACCIAROLI ?\"\n",
    "\n",
    "bot_reply(nuova_frase, classifier, cv, le, dialogs, bot_sentences)"
   ]
  },
  {
   "cell_type": "code",
   "execution_count": 294,
   "id": "3a1eff57",
   "metadata": {},
   "outputs": [
    {
     "name": "stdout",
     "output_type": "stream",
     "text": [
      "Chiedi qualcosa:Il primo aereo per Milano ?\n",
      "{'intents': [{'classes': 'user_AskProvWithParams', 'probs': 0.5732029556565345},\n",
      "             {'classes': 'fake', 'probs': 0.4136310947671571}],\n",
      " 'max_intent': 'user_AskProvWithParams',\n",
      " 'replaced_sentence': 'IL PRIMO AEREO PER CATEGORIA ',\n",
      " 'sentence': 'IL PRIMO AEREO PER MILANO ',\n",
      " 'slots': defaultdict(None, {'CATEGORIA': 'MILANO'})}\n",
      "Non ho capito, riformula meglio la tua domanda\n"
     ]
    },
    {
     "ename": "KeyboardInterrupt",
     "evalue": "Interrupted by user",
     "output_type": "error",
     "traceback": [
      "\u001b[0;31m---------------------------------------------------------------------------\u001b[0m",
      "\u001b[0;31mKeyboardInterrupt\u001b[0m                         Traceback (most recent call last)",
      "\u001b[0;32m<ipython-input-294-da5643523bec>\u001b[0m in \u001b[0;36m<module>\u001b[0;34m\u001b[0m\n\u001b[1;32m      3\u001b[0m     \u001b[0;32mtry\u001b[0m\u001b[0;34m:\u001b[0m\u001b[0;34m\u001b[0m\u001b[0;34m\u001b[0m\u001b[0m\n\u001b[1;32m      4\u001b[0m \u001b[0;34m\u001b[0m\u001b[0m\n\u001b[0;32m----> 5\u001b[0;31m         \u001b[0mnuova_frase\u001b[0m \u001b[0;34m=\u001b[0m \u001b[0minput\u001b[0m\u001b[0;34m(\u001b[0m\u001b[0;34m\"Chiedi qualcosa:\"\u001b[0m\u001b[0;34m)\u001b[0m\u001b[0;34m\u001b[0m\u001b[0;34m\u001b[0m\u001b[0m\n\u001b[0m\u001b[1;32m      6\u001b[0m \u001b[0;34m\u001b[0m\u001b[0m\n\u001b[1;32m      7\u001b[0m         \u001b[0mprint\u001b[0m\u001b[0;34m(\u001b[0m\u001b[0mbot_reply\u001b[0m\u001b[0;34m(\u001b[0m\u001b[0mnuova_frase\u001b[0m\u001b[0;34m,\u001b[0m \u001b[0mclassifier\u001b[0m\u001b[0;34m,\u001b[0m \u001b[0mcv\u001b[0m\u001b[0;34m,\u001b[0m \u001b[0mle\u001b[0m\u001b[0;34m,\u001b[0m \u001b[0mdialogs\u001b[0m\u001b[0;34m,\u001b[0m \u001b[0mbot_sentences\u001b[0m\u001b[0;34m)\u001b[0m\u001b[0;34m)\u001b[0m\u001b[0;34m\u001b[0m\u001b[0;34m\u001b[0m\u001b[0m\n",
      "\u001b[0;32m~/.local/lib/python3.8/site-packages/ipykernel/kernelbase.py\u001b[0m in \u001b[0;36mraw_input\u001b[0;34m(self, prompt)\u001b[0m\n\u001b[1;32m    855\u001b[0m                 \u001b[0;34m\"raw_input was called, but this frontend does not support input requests.\"\u001b[0m\u001b[0;34m\u001b[0m\u001b[0;34m\u001b[0m\u001b[0m\n\u001b[1;32m    856\u001b[0m             )\n\u001b[0;32m--> 857\u001b[0;31m         return self._input_request(str(prompt),\n\u001b[0m\u001b[1;32m    858\u001b[0m             \u001b[0mself\u001b[0m\u001b[0;34m.\u001b[0m\u001b[0m_parent_ident\u001b[0m\u001b[0;34m,\u001b[0m\u001b[0;34m\u001b[0m\u001b[0;34m\u001b[0m\u001b[0m\n\u001b[1;32m    859\u001b[0m             \u001b[0mself\u001b[0m\u001b[0;34m.\u001b[0m\u001b[0m_parent_header\u001b[0m\u001b[0;34m,\u001b[0m\u001b[0;34m\u001b[0m\u001b[0;34m\u001b[0m\u001b[0m\n",
      "\u001b[0;32m~/.local/lib/python3.8/site-packages/ipykernel/kernelbase.py\u001b[0m in \u001b[0;36m_input_request\u001b[0;34m(self, prompt, ident, parent, password)\u001b[0m\n\u001b[1;32m    899\u001b[0m             \u001b[0;32mexcept\u001b[0m \u001b[0mKeyboardInterrupt\u001b[0m\u001b[0;34m:\u001b[0m\u001b[0;34m\u001b[0m\u001b[0;34m\u001b[0m\u001b[0m\n\u001b[1;32m    900\u001b[0m                 \u001b[0;31m# re-raise KeyboardInterrupt, to truncate traceback\u001b[0m\u001b[0;34m\u001b[0m\u001b[0;34m\u001b[0m\u001b[0;34m\u001b[0m\u001b[0m\n\u001b[0;32m--> 901\u001b[0;31m                 \u001b[0;32mraise\u001b[0m \u001b[0mKeyboardInterrupt\u001b[0m\u001b[0;34m(\u001b[0m\u001b[0;34m\"Interrupted by user\"\u001b[0m\u001b[0;34m)\u001b[0m \u001b[0;32mfrom\u001b[0m \u001b[0;32mNone\u001b[0m\u001b[0;34m\u001b[0m\u001b[0;34m\u001b[0m\u001b[0m\n\u001b[0m\u001b[1;32m    902\u001b[0m             \u001b[0;32mexcept\u001b[0m \u001b[0mException\u001b[0m \u001b[0;32mas\u001b[0m \u001b[0me\u001b[0m\u001b[0;34m:\u001b[0m\u001b[0;34m\u001b[0m\u001b[0;34m\u001b[0m\u001b[0m\n\u001b[1;32m    903\u001b[0m                 \u001b[0mself\u001b[0m\u001b[0;34m.\u001b[0m\u001b[0mlog\u001b[0m\u001b[0;34m.\u001b[0m\u001b[0mwarning\u001b[0m\u001b[0;34m(\u001b[0m\u001b[0;34m\"Invalid Message:\"\u001b[0m\u001b[0;34m,\u001b[0m \u001b[0mexc_info\u001b[0m\u001b[0;34m=\u001b[0m\u001b[0;32mTrue\u001b[0m\u001b[0;34m)\u001b[0m\u001b[0;34m\u001b[0m\u001b[0;34m\u001b[0m\u001b[0m\n",
      "\u001b[0;31mKeyboardInterrupt\u001b[0m: Interrupted by user"
     ]
    }
   ],
   "source": [
    "while True:\n",
    "    \n",
    "    try:\n",
    "    \n",
    "        nuova_frase = input(\"Chiedi qualcosa:\")\n",
    "\n",
    "        print(bot_reply(nuova_frase, classifier, cv, le, dialogs, bot_sentences))\n",
    "        \n",
    "    except Exception as KeyboardInterrupt:\n",
    "        break"
   ]
  }
 ],
 "metadata": {
  "kernelspec": {
   "display_name": "Python 3",
   "language": "python",
   "name": "python3"
  },
  "language_info": {
   "codemirror_mode": {
    "name": "ipython",
    "version": 3
   },
   "file_extension": ".py",
   "mimetype": "text/x-python",
   "name": "python",
   "nbconvert_exporter": "python",
   "pygments_lexer": "ipython3",
   "version": "3.8.5"
  }
 },
 "nbformat": 4,
 "nbformat_minor": 5
}
