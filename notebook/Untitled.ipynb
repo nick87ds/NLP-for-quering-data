{
 "cells": [
  {
   "cell_type": "code",
   "execution_count": 11,
   "id": "4b8991a9",
   "metadata": {},
   "outputs": [],
   "source": [
    "import re\n",
    "import pandas as pd"
   ]
  },
  {
   "cell_type": "code",
   "execution_count": 3,
   "id": "1a017c60",
   "metadata": {},
   "outputs": [],
   "source": [
    "spz = re.compile(\" \")"
   ]
  },
  {
   "cell_type": "code",
   "execution_count": 17,
   "id": "8fa7fd10",
   "metadata": {},
   "outputs": [],
   "source": [
    "stringa = \"1 000 000\""
   ]
  },
  {
   "cell_type": "code",
   "execution_count": 5,
   "id": "36c9207b",
   "metadata": {},
   "outputs": [
    {
     "data": {
      "text/plain": [
       "'1000000'"
      ]
     },
     "execution_count": 5,
     "metadata": {},
     "output_type": "execute_result"
    }
   ],
   "source": [
    "spz.sub(\"\", stringa)"
   ]
  },
  {
   "cell_type": "code",
   "execution_count": 12,
   "id": "a8a1ff9e",
   "metadata": {},
   "outputs": [
    {
     "data": {
      "text/plain": [
       "1000000"
      ]
     },
     "execution_count": 12,
     "metadata": {},
     "output_type": "execute_result"
    }
   ],
   "source": [
    "pd.to_numeric(re.sub(\" \", \"\", stringa))"
   ]
  },
  {
   "cell_type": "code",
   "execution_count": 26,
   "id": "a6f6f99a",
   "metadata": {},
   "outputs": [],
   "source": [
    "def from_txt(txt):\n",
    "    \n",
    "    txt = re.sub(\" \", \"\", txt)\n",
    "    \n",
    "    return txt"
   ]
  },
  {
   "cell_type": "code",
   "execution_count": 14,
   "id": "d9f5d2f0",
   "metadata": {},
   "outputs": [],
   "source": [
    "df = pd.DataFrame()"
   ]
  },
  {
   "cell_type": "code",
   "execution_count": 22,
   "id": "ccbc676e",
   "metadata": {},
   "outputs": [],
   "source": [
    "df.loc[1,'col'] = stringa"
   ]
  },
  {
   "cell_type": "code",
   "execution_count": 23,
   "id": "104e6b66",
   "metadata": {},
   "outputs": [
    {
     "data": {
      "text/html": [
       "<div>\n",
       "<style scoped>\n",
       "    .dataframe tbody tr th:only-of-type {\n",
       "        vertical-align: middle;\n",
       "    }\n",
       "\n",
       "    .dataframe tbody tr th {\n",
       "        vertical-align: top;\n",
       "    }\n",
       "\n",
       "    .dataframe thead th {\n",
       "        text-align: right;\n",
       "    }\n",
       "</style>\n",
       "<table border=\"1\" class=\"dataframe\">\n",
       "  <thead>\n",
       "    <tr style=\"text-align: right;\">\n",
       "      <th></th>\n",
       "      <th>col</th>\n",
       "    </tr>\n",
       "  </thead>\n",
       "  <tbody>\n",
       "    <tr>\n",
       "      <th>1</th>\n",
       "      <td>1 000 000</td>\n",
       "    </tr>\n",
       "  </tbody>\n",
       "</table>\n",
       "</div>"
      ],
      "text/plain": [
       "         col\n",
       "1  1 000 000"
      ]
     },
     "execution_count": 23,
     "metadata": {},
     "output_type": "execute_result"
    }
   ],
   "source": [
    "df"
   ]
  },
  {
   "cell_type": "code",
   "execution_count": 27,
   "id": "b28a8377",
   "metadata": {},
   "outputs": [
    {
     "data": {
      "text/plain": [
       "1    1000000\n",
       "Name: col, dtype: object"
      ]
     },
     "execution_count": 27,
     "metadata": {},
     "output_type": "execute_result"
    }
   ],
   "source": [
    "df['col'].apply(from_txt)"
   ]
  }
 ],
 "metadata": {
  "kernelspec": {
   "display_name": "Python 3",
   "language": "python",
   "name": "python3"
  },
  "language_info": {
   "codemirror_mode": {
    "name": "ipython",
    "version": 3
   },
   "file_extension": ".py",
   "mimetype": "text/x-python",
   "name": "python",
   "nbconvert_exporter": "python",
   "pygments_lexer": "ipython3",
   "version": "3.8.5"
  }
 },
 "nbformat": 4,
 "nbformat_minor": 5
}
