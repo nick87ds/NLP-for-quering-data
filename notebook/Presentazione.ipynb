{
 "cells": [
  {
   "cell_type": "code",
   "execution_count": 1,
   "id": "eccc1723",
   "metadata": {},
   "outputs": [],
   "source": [
    "import numpy as np\n",
    "import pandas as pd\n",
    "import re\n",
    "import os\n",
    "import random\n",
    "import pprint\n",
    "from collections import defaultdict"
   ]
  },
  {
   "cell_type": "code",
   "execution_count": 4,
   "id": "0eb64f20",
   "metadata": {},
   "outputs": [],
   "source": [
    "def remove_nan(df:pd.DataFrame) -> dict:\n",
    "    \n",
    "    \"\"\"\n",
    "    Rimuove i valori nulli da una lista\n",
    "    \"\"\"\n",
    "\n",
    "    lookup_dict = df.to_dict('list')\n",
    "\n",
    "    for k, v in lookup_dict.items():\n",
    "\n",
    "        while np.nan in lookup_dict[k]:\n",
    "            lookup_dict[k].remove(np.nan)\n",
    "\n",
    "    return lookup_dict"
   ]
  },
  {
   "cell_type": "code",
   "execution_count": 2,
   "id": "e99ed7b6",
   "metadata": {},
   "outputs": [],
   "source": [
    "df_entities = pd.read_excel(\"dataset.xlsx\", sheet_name='entities_slots')"
   ]
  },
  {
   "cell_type": "code",
   "execution_count": 5,
   "id": "121756d6",
   "metadata": {},
   "outputs": [
    {
     "data": {
      "text/plain": [
       "{'SEDE': ['EBOLI',\n",
       "  'SOMMA VESUVIANA',\n",
       "  'NAPOLI',\n",
       "  'CASERTA',\n",
       "  'SALERNO',\n",
       "  'BENEVENTO',\n",
       "  'AVELLINO',\n",
       "  'VICO EQUENSE',\n",
       "  'ASCEA',\n",
       "  'ACERNO',\n",
       "  'ALVIGNANO',\n",
       "  'PASTORANO',\n",
       "  'ROCCABASCERANA',\n",
       "  'TRAMONTI',\n",
       "  'MONTECORVINO ROVELLA',\n",
       "  'CAPACCIO',\n",
       "  'NOCERA INFERIORE',\n",
       "  'MONTECALVO IRPINO',\n",
       "  'CIORLANO',\n",
       "  'MONTELLA',\n",
       "  'MONTECORVINO PUGLIANO'],\n",
       " 'PROVINCIA': ['NAPOLI', 'CASERTA', 'SALERNO', 'BENEVENTO', 'AVELLINO'],\n",
       " 'CATEGORIA': ['ALLEVAMENTO', 'FRUTTA', 'FORMAGGI']}"
      ]
     },
     "execution_count": 5,
     "metadata": {},
     "output_type": "execute_result"
    }
   ],
   "source": [
    "lookups =  remove_nan(df_entities)\n",
    "lookups"
   ]
  },
  {
   "cell_type": "code",
   "execution_count": 9,
   "id": "cf1de0f4",
   "metadata": {},
   "outputs": [],
   "source": [
    "df_user = pd.read_excel('dataset.xlsx',sheet_name='user', header=None)\n",
    "df_user.columns = ['user','sentences']\n",
    "df_user['user'] = df_user['user'].fillna(method='ffill', axis=0)\n",
    "\n",
    "sentences = defaultdict(list)\n",
    "\n",
    "df_grouped = df_user.groupby('user')\n",
    "\n",
    "for group in df_grouped.groups:\n",
    "    \n",
    "    sentences[group] = df_grouped.get_group(group)['sentences'].tolist()"
   ]
  },
  {
   "cell_type": "code",
   "execution_count": 10,
   "id": "57f35415",
   "metadata": {},
   "outputs": [
    {
     "data": {
      "text/plain": [
       "defaultdict(list,\n",
       "            {'user_AskCity': ['Ci sono fattorie didattiche ad [SEDE](Eboli)?',\n",
       "              'Quante fattorie didattiche ci sono a [SEDE](Salerno)?'],\n",
       "             'user_AskProv': ['Quante fattorie didattiche ci sono in provincia di [PROVINCIA](Salerno)?',\n",
       "              'Ci sono fattorie didattiche in provincia di [PROVINCIA](Salerno)?',\n",
       "              'Ci sono fattorie didattiche nella provincia di [PROVINCIA](Napoli)?'],\n",
       "             'user_AskProvWithParams': ['Quante fattorie didattiche ci sono in provincia di [PROVINCIA](Salerno) con [categoria](allevamento)?',\n",
       "              'Ci sono fattorie didattiche in provincia di [PROVINCIA](Salerno) con produzione di [CATEGORIA](formaggi)?',\n",
       "              'Ci sono fattorie didattiche nella provincia di [PROVINCIA](Napoli) che producono [CATEGORIA](formaggi)?',\n",
       "              'Ci sono fattorie didattiche nella provincia di [PROVINCIA](Napoli) con coltivazione di [CATEGORIA](frutta)?']})"
      ]
     },
     "execution_count": 10,
     "metadata": {},
     "output_type": "execute_result"
    }
   ],
   "source": [
    "sentences"
   ]
  },
  {
   "cell_type": "code",
   "execution_count": 11,
   "id": "40bf2431",
   "metadata": {},
   "outputs": [
    {
     "data": {
      "text/plain": [
       "defaultdict(list,\n",
       "            {'bot_ReplyCity ': ['Nella città di [SEDE] ci sono %d fattorie didattiche'],\n",
       "             'bot_ReplyProv': ['Nella provincia di [PROVINCIA] ci sono %d fattorie didattiche'],\n",
       "             'bot_ReplyProvWithParams': ['Nella provincia di [PROVINCIA] ci sono %d fattorie didattiche con le caratteristiche richieste']})"
      ]
     },
     "execution_count": 11,
     "metadata": {},
     "output_type": "execute_result"
    }
   ],
   "source": [
    "df_bot = pd.read_excel('dataset.xlsx',sheet_name='bot', header=None)\n",
    "df_bot.columns = ['bot','sentences']\n",
    "df_bot['bot'] = df_bot['bot'].fillna(method='ffill', axis=0)\n",
    "\n",
    "bot_sentences = defaultdict(list)\n",
    "\n",
    "df_grouped = df_bot.groupby('bot')\n",
    "\n",
    "for group in df_grouped.groups:\n",
    "    \n",
    "    bot_sentences[group] = df_grouped.get_group(group)['sentences'].tolist()\n",
    "    \n",
    "bot_sentences"
   ]
  },
  {
   "cell_type": "code",
   "execution_count": 12,
   "id": "8bf18c4f",
   "metadata": {},
   "outputs": [
    {
     "data": {
      "text/plain": [
       "{'Dialog_1': ['user_AskProv', 'bot_ReplyProv'],\n",
       " 'Dialog_2': ['user_AskCity', 'bot_ReplyCity '],\n",
       " 'Dialog_3': ['user_AskProvWithParams', 'bot_ReplyProvWithParams']}"
      ]
     },
     "execution_count": 12,
     "metadata": {},
     "output_type": "execute_result"
    }
   ],
   "source": [
    "df_dialogs = pd.read_excel('dataset.xlsx',sheet_name='dialogs')\n",
    "dialogs = remove_nan(df_dialogs) \n",
    "dialogs"
   ]
  },
  {
   "cell_type": "code",
   "execution_count": 13,
   "id": "80859f82",
   "metadata": {},
   "outputs": [],
   "source": [
    "sentences_file = \"sentences_origin.txt\"\n",
    "\n",
    "i = True\n",
    "\n",
    "for k, v in sentences.items():\n",
    "    \n",
    "    for values in v:\n",
    "        \n",
    "        if i:\n",
    "            with open(sentences_file, 'w+') as f:\n",
    "                f.writelines(f'{values}|{k}\\n')\n",
    "                i = False\n",
    "        else:\n",
    "            with open(sentences_file, 'a+') as f:\n",
    "                f.writelines(f'{values}|{k}\\n')"
   ]
  },
  {
   "cell_type": "code",
   "execution_count": 14,
   "id": "11bd258f",
   "metadata": {},
   "outputs": [],
   "source": [
    "sentences, categories = [], []\n",
    "\n",
    "with open(sentences_file, encoding='utf-8') as f:\n",
    "    dataset = f.read()\n",
    "    dataset = dataset.split(\"\\n\")\n",
    "\n",
    "for data in dataset:\n",
    "    sentence = data.split(\"|\")\n",
    "    \n",
    "    if len(sentence) > 1:\n",
    "        \n",
    "        sentences.append(sentence[0].upper())\n",
    "        categories.append(sentence[1])\n",
    "        \n",
    "assert len(sentences) == len(categories)"
   ]
  },
  {
   "cell_type": "code",
   "execution_count": 15,
   "id": "7551259f",
   "metadata": {},
   "outputs": [
    {
     "data": {
      "text/plain": [
       "'CI SONO FATTORIE DIDATTICHE AD [SEDE](EBOLI)?'"
      ]
     },
     "execution_count": 15,
     "metadata": {},
     "output_type": "execute_result"
    }
   ],
   "source": [
    "sentences[0]"
   ]
  },
  {
   "cell_type": "code",
   "execution_count": 16,
   "id": "fb8dc87e",
   "metadata": {},
   "outputs": [
    {
     "data": {
      "text/plain": [
       "'user_AskCity'"
      ]
     },
     "execution_count": 16,
     "metadata": {},
     "output_type": "execute_result"
    }
   ],
   "source": [
    "categories[0]"
   ]
  },
  {
   "cell_type": "code",
   "execution_count": 18,
   "id": "31054bd6",
   "metadata": {},
   "outputs": [],
   "source": [
    "sentences_file_generated = \"sentences_generated.txt\"\n",
    "\n",
    "n_sentences = 1000"
   ]
  },
  {
   "cell_type": "code",
   "execution_count": 21,
   "id": "ab15eeb4",
   "metadata": {},
   "outputs": [
    {
     "data": {
      "text/plain": [
       "['SEDE', 'PROVINCIA', 'CATEGORIA']"
      ]
     },
     "execution_count": 21,
     "metadata": {},
     "output_type": "execute_result"
    }
   ],
   "source": [
    "slots = list(lookups.keys())\n",
    "\n",
    "slots"
   ]
  },
  {
   "cell_type": "code",
   "execution_count": 22,
   "id": "a814d3cf",
   "metadata": {},
   "outputs": [],
   "source": [
    "for i in range(n_sentences):\n",
    "        \n",
    "    index = random.randint(0, len(sentences)-1)\n",
    "\n",
    "    sentence = sentences[index]\n",
    "    category = categories[index]\n",
    "    \n",
    "    for key in slots:\n",
    "        \n",
    "        \"\"\"\n",
    "        Ogni volta che regex individua lo slot nella frase\n",
    "            sostituisce il valore con uno estratto in modo casuale\n",
    "        \"\"\"\n",
    "        \n",
    "        regex_str = fr'\\[{key}]\\((?P<value>[a-z ]+)\\)+'\n",
    "        \n",
    "        slot_match = re.compile(regex_str)\n",
    "\n",
    "        repl = f\"[{key}]({random.choice(lookups[key])})\"\n",
    "\n",
    "        sentence = slot_match.sub(repl, sentence)\n",
    "        \n",
    "        \n",
    "        \"\"\"\n",
    "        Poi riassocia la categoria di partenza\n",
    "        \"\"\"\n",
    "        \n",
    "    if i == 0:\n",
    "        \n",
    "        with open(sentences_file_generated, 'w+') as f:\n",
    "            f.writelines(f'{sentence}|{category}\\n')\n",
    "        \n",
    "    else:\n",
    "    \n",
    "        with open(sentences_file_generated, 'a+') as f:\n",
    "            f.writelines(f'{sentence}|{category}\\n')"
   ]
  },
  {
   "cell_type": "code",
   "execution_count": 23,
   "id": "801bb46d",
   "metadata": {},
   "outputs": [],
   "source": [
    "def rimuovi_punteggiatura(text):\n",
    "    \n",
    "    \"\"\"\n",
    "    I dati di training contengono parentesi quadre e tonde, \n",
    "        quindi non vanno eliminate in questa fase\n",
    "    \"\"\"\n",
    "    \n",
    "    text = re.sub(r'[\\.,;:!?]' , \" \", text)\n",
    "    text = re.sub(r'\\s+' , \" \", text)\n",
    "    \n",
    "    return text"
   ]
  },
  {
   "cell_type": "code",
   "execution_count": 24,
   "id": "d691e759",
   "metadata": {},
   "outputs": [],
   "source": [
    "with open(sentences_file_generated, encoding='utf-8') as f:\n",
    "    sentences = f.read()\n",
    "    sentences = sentences.split(\"\\n\")"
   ]
  },
  {
   "cell_type": "code",
   "execution_count": 25,
   "id": "ceacd9e6",
   "metadata": {},
   "outputs": [
    {
     "name": "stdout",
     "output_type": "stream",
     "text": [
      "Before: CI SONO FATTORIE DIDATTICHE IN PROVINCIA DI [PROVINCIA](SALERNO) CON PRODUZIONE DI [CATEGORIA](FORMAGGI)?\n",
      "After: CI SONO FATTORIE DIDATTICHE IN PROVINCIA DI SALERNO CON PRODUZIONE DI FORMAGGI?\n"
     ]
    }
   ],
   "source": [
    "example = random.choice(sentences)\n",
    "example, _ = example.split(\"|\")\n",
    "print(\"Before:\",example)\n",
    "\n",
    "example = re.sub(r'\\[(?P<name>[a-zA-Z_]+)\\]|\\(|\\)+', \"\", example)\n",
    "print(\"After:\",example)"
   ]
  },
  {
   "cell_type": "code",
   "execution_count": 26,
   "id": "f3c4e0ca",
   "metadata": {},
   "outputs": [
    {
     "name": "stdout",
     "output_type": "stream",
     "text": [
      "Fase iniziale: CI SONO FATTORIE DIDATTICHE IN PROVINCIA DI [PROVINCIA](SALERNO)?|user_AskProv \n",
      "\n",
      "Fase finale: CI SONO FATTORIE DIDATTICHE IN PROVINCIA DI [PROVINCIA](SALERNO) \n"
     ]
    }
   ],
   "source": [
    "sentence = sentences[10]\n",
    "print(f\"Fase iniziale: {sentence} \\n\")\n",
    "\n",
    "sentence, categ = sentence.split(\"|\")\n",
    "sentence = rimuovi_punteggiatura(sentence)\n",
    "\n",
    "print(f\"Fase finale: {sentence}\")"
   ]
  },
  {
   "cell_type": "code",
   "execution_count": 27,
   "id": "24195558",
   "metadata": {},
   "outputs": [],
   "source": [
    "regex_str = r'\\[(?P<name>[a-zA-Z_]+)\\]\\((?P<value>[a-zA-Z\\' ]+)\\)+'\n",
    "slot_match = re.compile(regex_str)"
   ]
  },
  {
   "cell_type": "code",
   "execution_count": 28,
   "id": "1273a85e",
   "metadata": {},
   "outputs": [
    {
     "data": {
      "text/plain": [
       "['CI SONO FATTORIE DIDATTICHE IN PROVINCIA DI ', 'PROVINCIA', 'SALERNO', ' ']"
      ]
     },
     "execution_count": 28,
     "metadata": {},
     "output_type": "execute_result"
    }
   ],
   "source": [
    "splits = slot_match.split(sentence)\n",
    "\n",
    "splits"
   ]
  },
  {
   "cell_type": "code",
   "execution_count": 29,
   "id": "9a7ca8bf",
   "metadata": {},
   "outputs": [
    {
     "data": {
      "text/plain": [
       "{'PROVINCIA': 'SALERNO'}"
      ]
     },
     "execution_count": 29,
     "metadata": {},
     "output_type": "execute_result"
    }
   ],
   "source": [
    "matches = slot_match.findall(sentence)\n",
    "\n",
    "dct = {k:v for k,v in matches}\n",
    "dct"
   ]
  },
  {
   "cell_type": "code",
   "execution_count": 31,
   "id": "d82f46be",
   "metadata": {},
   "outputs": [
    {
     "name": "stdout",
     "output_type": "stream",
     "text": [
      "CI -> 0\n",
      "SONO -> 0\n",
      "FATTORIE -> 0\n",
      "DIDATTICHE -> 0\n",
      "IN -> 0\n",
      "PROVINCIA -> 0\n",
      "DI -> 0\n",
      "SALERNO -> PROVINCIA\n"
     ]
    }
   ],
   "source": [
    "for split in splits:\n",
    "   \n",
    "    if split in list(dct.values()):\n",
    "        for value in split.split():\n",
    "            \n",
    "            index = list(dct.values()).index(split)\n",
    "            key = list(dct.keys())[index]\n",
    "            \n",
    "            print(value, \"->\", key)\n",
    "    elif split in list(dct.keys()):\n",
    "        pass\n",
    "    else:\n",
    "        for splt in split.split():\n",
    "            print(splt, \"->\", '0')"
   ]
  },
  {
   "cell_type": "code",
   "execution_count": 32,
   "id": "dee2a29e",
   "metadata": {},
   "outputs": [
    {
     "data": {
      "text/plain": [
       "[[0, 'QUANTE', 'O'],\n",
       " [0, 'FATTORIE', 'O'],\n",
       " [0, 'DIDATTICHE', 'O'],\n",
       " [0, 'CI', 'O'],\n",
       " [0, 'SONO', 'O'],\n",
       " [0, 'IN', 'O'],\n",
       " [0, 'PROVINCIA', 'O'],\n",
       " [0, 'DI', 'O'],\n",
       " [0, 'SALERNO', 'PROVINCIA'],\n",
       " [0, 'CON', 'O']]"
      ]
     },
     "execution_count": 32,
     "metadata": {},
     "output_type": "execute_result"
    }
   ],
   "source": [
    "arr_sentences = list()\n",
    "arr_categories = list()\n",
    "\n",
    "for n, sentence in enumerate(sentences):\n",
    "\n",
    "    try:\n",
    "    \n",
    "        sentence, categ = sentence.split(\"|\")\n",
    "        \n",
    "        sentence = rimuovi_punteggiatura(sentence)\n",
    "\n",
    "        arr_categories.append(categ)\n",
    "\n",
    "        splits = slot_match.split(sentence)\n",
    "\n",
    "#         match = slot_match.search(frase)\n",
    "        matches = slot_match.findall(sentence)\n",
    "    \n",
    "        dct = {k:v for k,v in matches}        \n",
    "\n",
    "        if matches is not None:\n",
    "            \n",
    "            for split in splits:\n",
    "                if split in list(dct.values()):\n",
    "                    for value in split.split():\n",
    "                        \n",
    "                        index = list(dct.values()).index(split)\n",
    "                        key = list(dct.keys())[index]\n",
    "                        \n",
    "                        arr_sentences.append([n, value, key])\n",
    "                elif split in list(dct.keys()):\n",
    "                    pass\n",
    "                else:\n",
    "                    for value in split.split():\n",
    "                        arr_sentences.append([n, value, 'O'])\n",
    "                        \n",
    "        else:\n",
    "            \"\"\"\n",
    "            Serve per verificare se in qualche frase non avviene il match\n",
    "            \"\"\"\n",
    "            print(n, frase)\n",
    "            \n",
    "    except Exception as err:\n",
    "        pass\n",
    "\n",
    "\n",
    "arr_sentences[:10]"
   ]
  },
  {
   "cell_type": "code",
   "execution_count": 34,
   "id": "c5463bed",
   "metadata": {},
   "outputs": [
    {
     "data": {
      "text/html": [
       "<div>\n",
       "<style scoped>\n",
       "    .dataframe tbody tr th:only-of-type {\n",
       "        vertical-align: middle;\n",
       "    }\n",
       "\n",
       "    .dataframe tbody tr th {\n",
       "        vertical-align: top;\n",
       "    }\n",
       "\n",
       "    .dataframe thead th {\n",
       "        text-align: right;\n",
       "    }\n",
       "</style>\n",
       "<table border=\"1\" class=\"dataframe\">\n",
       "  <thead>\n",
       "    <tr style=\"text-align: right;\">\n",
       "      <th></th>\n",
       "      <th>n_frase</th>\n",
       "      <th>word</th>\n",
       "      <th>tag</th>\n",
       "    </tr>\n",
       "  </thead>\n",
       "  <tbody>\n",
       "    <tr>\n",
       "      <th>0</th>\n",
       "      <td>0</td>\n",
       "      <td>QUANTE</td>\n",
       "      <td>O</td>\n",
       "    </tr>\n",
       "    <tr>\n",
       "      <th>1</th>\n",
       "      <td>0</td>\n",
       "      <td>FATTORIE</td>\n",
       "      <td>O</td>\n",
       "    </tr>\n",
       "    <tr>\n",
       "      <th>2</th>\n",
       "      <td>0</td>\n",
       "      <td>DIDATTICHE</td>\n",
       "      <td>O</td>\n",
       "    </tr>\n",
       "    <tr>\n",
       "      <th>3</th>\n",
       "      <td>0</td>\n",
       "      <td>CI</td>\n",
       "      <td>O</td>\n",
       "    </tr>\n",
       "    <tr>\n",
       "      <th>4</th>\n",
       "      <td>0</td>\n",
       "      <td>SONO</td>\n",
       "      <td>O</td>\n",
       "    </tr>\n",
       "    <tr>\n",
       "      <th>5</th>\n",
       "      <td>0</td>\n",
       "      <td>IN</td>\n",
       "      <td>O</td>\n",
       "    </tr>\n",
       "    <tr>\n",
       "      <th>6</th>\n",
       "      <td>0</td>\n",
       "      <td>PROVINCIA</td>\n",
       "      <td>O</td>\n",
       "    </tr>\n",
       "    <tr>\n",
       "      <th>7</th>\n",
       "      <td>0</td>\n",
       "      <td>DI</td>\n",
       "      <td>O</td>\n",
       "    </tr>\n",
       "    <tr>\n",
       "      <th>8</th>\n",
       "      <td>0</td>\n",
       "      <td>SALERNO</td>\n",
       "      <td>PROVINCIA</td>\n",
       "    </tr>\n",
       "    <tr>\n",
       "      <th>9</th>\n",
       "      <td>0</td>\n",
       "      <td>CON</td>\n",
       "      <td>O</td>\n",
       "    </tr>\n",
       "    <tr>\n",
       "      <th>10</th>\n",
       "      <td>0</td>\n",
       "      <td>ALLEVAMENTO</td>\n",
       "      <td>CATEGORIA</td>\n",
       "    </tr>\n",
       "    <tr>\n",
       "      <th>11</th>\n",
       "      <td>1</td>\n",
       "      <td>QUANTE</td>\n",
       "      <td>O</td>\n",
       "    </tr>\n",
       "    <tr>\n",
       "      <th>12</th>\n",
       "      <td>1</td>\n",
       "      <td>FATTORIE</td>\n",
       "      <td>O</td>\n",
       "    </tr>\n",
       "    <tr>\n",
       "      <th>13</th>\n",
       "      <td>1</td>\n",
       "      <td>DIDATTICHE</td>\n",
       "      <td>O</td>\n",
       "    </tr>\n",
       "    <tr>\n",
       "      <th>14</th>\n",
       "      <td>1</td>\n",
       "      <td>CI</td>\n",
       "      <td>O</td>\n",
       "    </tr>\n",
       "  </tbody>\n",
       "</table>\n",
       "</div>"
      ],
      "text/plain": [
       "    n_frase         word        tag\n",
       "0         0       QUANTE          O\n",
       "1         0     FATTORIE          O\n",
       "2         0   DIDATTICHE          O\n",
       "3         0           CI          O\n",
       "4         0         SONO          O\n",
       "5         0           IN          O\n",
       "6         0    PROVINCIA          O\n",
       "7         0           DI          O\n",
       "8         0      SALERNO  PROVINCIA\n",
       "9         0          CON          O\n",
       "10        0  ALLEVAMENTO  CATEGORIA\n",
       "11        1       QUANTE          O\n",
       "12        1     FATTORIE          O\n",
       "13        1   DIDATTICHE          O\n",
       "14        1           CI          O"
      ]
     },
     "execution_count": 34,
     "metadata": {},
     "output_type": "execute_result"
    }
   ],
   "source": [
    "df = pd.DataFrame(arr_sentences, columns=['n_frase','word','tag'])\n",
    "df.head(15)"
   ]
  },
  {
   "cell_type": "code",
   "execution_count": 35,
   "id": "26959329",
   "metadata": {},
   "outputs": [
    {
     "data": {
      "text/html": [
       "<div>\n",
       "<style scoped>\n",
       "    .dataframe tbody tr th:only-of-type {\n",
       "        vertical-align: middle;\n",
       "    }\n",
       "\n",
       "    .dataframe tbody tr th {\n",
       "        vertical-align: top;\n",
       "    }\n",
       "\n",
       "    .dataframe thead th {\n",
       "        text-align: right;\n",
       "    }\n",
       "</style>\n",
       "<table border=\"1\" class=\"dataframe\">\n",
       "  <thead>\n",
       "    <tr style=\"text-align: right;\">\n",
       "      <th></th>\n",
       "      <th>n_frase</th>\n",
       "      <th>tag</th>\n",
       "    </tr>\n",
       "  </thead>\n",
       "  <tbody>\n",
       "    <tr>\n",
       "      <th>0</th>\n",
       "      <td>0</td>\n",
       "      <td>O</td>\n",
       "    </tr>\n",
       "    <tr>\n",
       "      <th>1</th>\n",
       "      <td>0</td>\n",
       "      <td>O</td>\n",
       "    </tr>\n",
       "    <tr>\n",
       "      <th>2</th>\n",
       "      <td>0</td>\n",
       "      <td>O</td>\n",
       "    </tr>\n",
       "    <tr>\n",
       "      <th>3</th>\n",
       "      <td>0</td>\n",
       "      <td>O</td>\n",
       "    </tr>\n",
       "    <tr>\n",
       "      <th>4</th>\n",
       "      <td>0</td>\n",
       "      <td>O</td>\n",
       "    </tr>\n",
       "    <tr>\n",
       "      <th>5</th>\n",
       "      <td>0</td>\n",
       "      <td>O</td>\n",
       "    </tr>\n",
       "    <tr>\n",
       "      <th>6</th>\n",
       "      <td>0</td>\n",
       "      <td>O</td>\n",
       "    </tr>\n",
       "    <tr>\n",
       "      <th>7</th>\n",
       "      <td>0</td>\n",
       "      <td>O</td>\n",
       "    </tr>\n",
       "    <tr>\n",
       "      <th>8</th>\n",
       "      <td>0</td>\n",
       "      <td>PROVINCIA</td>\n",
       "    </tr>\n",
       "    <tr>\n",
       "      <th>9</th>\n",
       "      <td>0</td>\n",
       "      <td>O</td>\n",
       "    </tr>\n",
       "  </tbody>\n",
       "</table>\n",
       "</div>"
      ],
      "text/plain": [
       "   n_frase        tag\n",
       "0        0          O\n",
       "1        0          O\n",
       "2        0          O\n",
       "3        0          O\n",
       "4        0          O\n",
       "5        0          O\n",
       "6        0          O\n",
       "7        0          O\n",
       "8        0  PROVINCIA\n",
       "9        0          O"
      ]
     },
     "execution_count": 35,
     "metadata": {},
     "output_type": "execute_result"
    }
   ],
   "source": [
    "df_target = df[['n_frase','tag']]\n",
    "df_target.head(10)"
   ]
  },
  {
   "cell_type": "code",
   "execution_count": 37,
   "id": "8a413ac5",
   "metadata": {},
   "outputs": [],
   "source": [
    "def prepare_target_crf(df:pd.DataFrame) -> list:\n",
    "    \n",
    "    \"\"\"\n",
    "    Ultimo step per preparare i target per addestrare l'algoritmo\n",
    "    \n",
    "    Parameters:\n",
    "    -----------\n",
    "    \n",
    "    df : pd.DataFrame\n",
    "    \n",
    "        il DataFrame deve contenere due colonne, una che indicizza la frase\n",
    "        e l'altra che indica se il valore è uno slot o meno\n",
    "    \n",
    "    \n",
    "    Returns:\n",
    "    -----------\n",
    "    y : list\n",
    "    \n",
    "        una lista annidata\n",
    "    \n",
    "    \"\"\"\n",
    "    \n",
    "    y = list()\n",
    "\n",
    "    for k, v in df.groupby('n_frase'):\n",
    "\n",
    "        y.append(v['tag'].tolist())\n",
    "    \n",
    "    return y"
   ]
  },
  {
   "cell_type": "code",
   "execution_count": 38,
   "id": "c764ac15",
   "metadata": {},
   "outputs": [
    {
     "data": {
      "text/plain": [
       "[['O', 'O', 'O', 'O', 'O', 'O', 'O', 'O', 'PROVINCIA', 'O', 'CATEGORIA'],\n",
       " ['O', 'O', 'O', 'O', 'O', 'O', 'O', 'O', 'PROVINCIA'],\n",
       " ['O', 'O', 'O', 'O', 'O', 'O', 'O', 'PROVINCIA', 'O', 'O', 'CATEGORIA'],\n",
       " ['O', 'O', 'O', 'O', 'O', 'O', 'O', 'PROVINCIA', 'O', 'O', 'O', 'CATEGORIA'],\n",
       " ['O', 'O', 'O', 'O', 'O', 'O', 'O', 'PROVINCIA', 'O', 'O', 'O', 'CATEGORIA']]"
      ]
     },
     "execution_count": 38,
     "metadata": {},
     "output_type": "execute_result"
    }
   ],
   "source": [
    "y = prepare_target_crf(df_target)\n",
    "y[:5]"
   ]
  },
  {
   "cell_type": "code",
   "execution_count": 39,
   "id": "1c427780",
   "metadata": {},
   "outputs": [],
   "source": [
    "df_sample = df.head(100).copy()"
   ]
  },
  {
   "cell_type": "code",
   "execution_count": 45,
   "id": "9b3d55ec",
   "metadata": {},
   "outputs": [],
   "source": [
    "import spacy\n",
    "\n",
    "nlp = spacy.load(\"it_core_news_lg\")"
   ]
  },
  {
   "cell_type": "code",
   "execution_count": 46,
   "id": "6848ec65",
   "metadata": {},
   "outputs": [],
   "source": [
    "def spacy_entities_extractor(txt):\n",
    "    \n",
    "    doc = nlp(txt.capitalize())\n",
    "    token = doc[0]\n",
    "    \n",
    "    if token.ent_type_ != '':\n",
    "        return token.ent_type_ # pos_\n",
    "    else:\n",
    "        return 'O'"
   ]
  },
  {
   "cell_type": "code",
   "execution_count": 47,
   "id": "812310c2",
   "metadata": {},
   "outputs": [
    {
     "data": {
      "text/html": [
       "<div>\n",
       "<style scoped>\n",
       "    .dataframe tbody tr th:only-of-type {\n",
       "        vertical-align: middle;\n",
       "    }\n",
       "\n",
       "    .dataframe tbody tr th {\n",
       "        vertical-align: top;\n",
       "    }\n",
       "\n",
       "    .dataframe thead th {\n",
       "        text-align: right;\n",
       "    }\n",
       "</style>\n",
       "<table border=\"1\" class=\"dataframe\">\n",
       "  <thead>\n",
       "    <tr style=\"text-align: right;\">\n",
       "      <th></th>\n",
       "      <th>n_frase</th>\n",
       "      <th>word</th>\n",
       "      <th>tag</th>\n",
       "      <th>shift-3</th>\n",
       "      <th>shift+3</th>\n",
       "      <th>bias</th>\n",
       "      <th>spacy</th>\n",
       "    </tr>\n",
       "  </thead>\n",
       "  <tbody>\n",
       "    <tr>\n",
       "      <th>0</th>\n",
       "      <td>0</td>\n",
       "      <td>QUANTE</td>\n",
       "      <td>O</td>\n",
       "      <td>BOF</td>\n",
       "      <td>FAT</td>\n",
       "      <td>1</td>\n",
       "      <td>O</td>\n",
       "    </tr>\n",
       "    <tr>\n",
       "      <th>1</th>\n",
       "      <td>0</td>\n",
       "      <td>FATTORIE</td>\n",
       "      <td>O</td>\n",
       "      <td>NTE</td>\n",
       "      <td>DID</td>\n",
       "      <td>1</td>\n",
       "      <td>O</td>\n",
       "    </tr>\n",
       "    <tr>\n",
       "      <th>2</th>\n",
       "      <td>0</td>\n",
       "      <td>DIDATTICHE</td>\n",
       "      <td>O</td>\n",
       "      <td>RIE</td>\n",
       "      <td>CI</td>\n",
       "      <td>1</td>\n",
       "      <td>O</td>\n",
       "    </tr>\n",
       "    <tr>\n",
       "      <th>3</th>\n",
       "      <td>0</td>\n",
       "      <td>CI</td>\n",
       "      <td>O</td>\n",
       "      <td>CHE</td>\n",
       "      <td>SON</td>\n",
       "      <td>1</td>\n",
       "      <td>O</td>\n",
       "    </tr>\n",
       "    <tr>\n",
       "      <th>4</th>\n",
       "      <td>0</td>\n",
       "      <td>SONO</td>\n",
       "      <td>O</td>\n",
       "      <td>CI</td>\n",
       "      <td>IN</td>\n",
       "      <td>1</td>\n",
       "      <td>O</td>\n",
       "    </tr>\n",
       "    <tr>\n",
       "      <th>...</th>\n",
       "      <td>...</td>\n",
       "      <td>...</td>\n",
       "      <td>...</td>\n",
       "      <td>...</td>\n",
       "      <td>...</td>\n",
       "      <td>...</td>\n",
       "      <td>...</td>\n",
       "    </tr>\n",
       "    <tr>\n",
       "      <th>95</th>\n",
       "      <td>9</td>\n",
       "      <td>IN</td>\n",
       "      <td>O</td>\n",
       "      <td>ONO</td>\n",
       "      <td>PRO</td>\n",
       "      <td>1</td>\n",
       "      <td>O</td>\n",
       "    </tr>\n",
       "    <tr>\n",
       "      <th>96</th>\n",
       "      <td>9</td>\n",
       "      <td>PROVINCIA</td>\n",
       "      <td>O</td>\n",
       "      <td>IN</td>\n",
       "      <td>DI</td>\n",
       "      <td>1</td>\n",
       "      <td>O</td>\n",
       "    </tr>\n",
       "    <tr>\n",
       "      <th>97</th>\n",
       "      <td>9</td>\n",
       "      <td>DI</td>\n",
       "      <td>O</td>\n",
       "      <td>CIA</td>\n",
       "      <td>SAL</td>\n",
       "      <td>1</td>\n",
       "      <td>O</td>\n",
       "    </tr>\n",
       "    <tr>\n",
       "      <th>98</th>\n",
       "      <td>9</td>\n",
       "      <td>SALERNO</td>\n",
       "      <td>PROVINCIA</td>\n",
       "      <td>DI</td>\n",
       "      <td>EOF</td>\n",
       "      <td>1</td>\n",
       "      <td>LOC</td>\n",
       "    </tr>\n",
       "    <tr>\n",
       "      <th>99</th>\n",
       "      <td>10</td>\n",
       "      <td>CI</td>\n",
       "      <td>O</td>\n",
       "      <td>BOF</td>\n",
       "      <td>EOF</td>\n",
       "      <td>1</td>\n",
       "      <td>O</td>\n",
       "    </tr>\n",
       "  </tbody>\n",
       "</table>\n",
       "<p>100 rows × 7 columns</p>\n",
       "</div>"
      ],
      "text/plain": [
       "    n_frase        word        tag shift-3 shift+3  bias spacy\n",
       "0         0      QUANTE          O     BOF     FAT     1     O\n",
       "1         0    FATTORIE          O     NTE     DID     1     O\n",
       "2         0  DIDATTICHE          O     RIE      CI     1     O\n",
       "3         0          CI          O     CHE     SON     1     O\n",
       "4         0        SONO          O      CI      IN     1     O\n",
       "..      ...         ...        ...     ...     ...   ...   ...\n",
       "95        9          IN          O     ONO     PRO     1     O\n",
       "96        9   PROVINCIA          O      IN      DI     1     O\n",
       "97        9          DI          O     CIA     SAL     1     O\n",
       "98        9     SALERNO  PROVINCIA      DI     EOF     1   LOC\n",
       "99       10          CI          O     BOF     EOF     1     O\n",
       "\n",
       "[100 rows x 7 columns]"
      ]
     },
     "execution_count": 47,
     "metadata": {},
     "output_type": "execute_result"
    }
   ],
   "source": [
    "df_sample['shift-3'] = df_sample.groupby('n_frase')['word'].shift(1).str.slice(-3)\n",
    "df_sample['shift+3'] = df_sample.groupby('n_frase')['word'].shift(-1).str.slice(0,3)\n",
    "\n",
    "df_sample['shift-3'].fillna('BOF', inplace=True)\n",
    "df_sample['shift+3'].fillna('EOF', inplace=True)\n",
    "\n",
    "df_sample['spacy'] = df_sample['word'].apply(spacy_entities_extractor)\n",
    "\n",
    "df_sample['bias'] = 1\n",
    "\n",
    "df_sample"
   ]
  },
  {
   "cell_type": "code",
   "execution_count": 48,
   "id": "470be9e6",
   "metadata": {},
   "outputs": [],
   "source": [
    "def extend_data(df:pd.DataFrame, spacy:bool=False) -> pd.DataFrame:\n",
    "    \n",
    "    \"\"\"\n",
    "    Estende i dati attraverso un algortimo personalizzato\n",
    "    \"\"\"\n",
    "    \n",
    "    df['shift-3'] = df.groupby('n_frase')['word'].shift(1).str.slice(-3)\n",
    "    df['shift+3'] = df.groupby('n_frase')['word'].shift(-1).str.slice(0,3)\n",
    "    df['shift-10'] = df.groupby('n_frase')['word'].shift(1).str.slice(-10)\n",
    "    df['shift+10'] = df.groupby('n_frase')['word'].shift(-1).str.slice(0,10)\n",
    "\n",
    "    df['shift-3'].fillna('BOF', inplace=True)\n",
    "    df['shift+3'].fillna('EOF', inplace=True)\n",
    "    df['shift-10'].fillna('BOF', inplace=True)\n",
    "    df['shift+10'].fillna('EOF', inplace=True)\n",
    "    \n",
    "    if spacy:\n",
    "        df['spacy'] = df['word'].apply(spacy_entities_extractor)\n",
    "\n",
    "    df['bias'] = 1\n",
    "    \n",
    "    try:\n",
    "        df.drop(columns=['tag'], inplace=True)\n",
    "    except:\n",
    "        pass\n",
    "\n",
    "    \n",
    "    return df"
   ]
  },
  {
   "cell_type": "code",
   "execution_count": 49,
   "id": "faa74340",
   "metadata": {},
   "outputs": [
    {
     "data": {
      "text/html": [
       "<div>\n",
       "<style scoped>\n",
       "    .dataframe tbody tr th:only-of-type {\n",
       "        vertical-align: middle;\n",
       "    }\n",
       "\n",
       "    .dataframe tbody tr th {\n",
       "        vertical-align: top;\n",
       "    }\n",
       "\n",
       "    .dataframe thead th {\n",
       "        text-align: right;\n",
       "    }\n",
       "</style>\n",
       "<table border=\"1\" class=\"dataframe\">\n",
       "  <thead>\n",
       "    <tr style=\"text-align: right;\">\n",
       "      <th></th>\n",
       "      <th>n_frase</th>\n",
       "      <th>word</th>\n",
       "      <th>shift-3</th>\n",
       "      <th>shift+3</th>\n",
       "      <th>shift-10</th>\n",
       "      <th>shift+10</th>\n",
       "      <th>bias</th>\n",
       "    </tr>\n",
       "  </thead>\n",
       "  <tbody>\n",
       "    <tr>\n",
       "      <th>0</th>\n",
       "      <td>0</td>\n",
       "      <td>QUANTE</td>\n",
       "      <td>BOF</td>\n",
       "      <td>FAT</td>\n",
       "      <td>BOF</td>\n",
       "      <td>FATTORIE</td>\n",
       "      <td>1</td>\n",
       "    </tr>\n",
       "    <tr>\n",
       "      <th>1</th>\n",
       "      <td>0</td>\n",
       "      <td>FATTORIE</td>\n",
       "      <td>NTE</td>\n",
       "      <td>DID</td>\n",
       "      <td>QUANTE</td>\n",
       "      <td>DIDATTICHE</td>\n",
       "      <td>1</td>\n",
       "    </tr>\n",
       "    <tr>\n",
       "      <th>2</th>\n",
       "      <td>0</td>\n",
       "      <td>DIDATTICHE</td>\n",
       "      <td>RIE</td>\n",
       "      <td>CI</td>\n",
       "      <td>FATTORIE</td>\n",
       "      <td>CI</td>\n",
       "      <td>1</td>\n",
       "    </tr>\n",
       "    <tr>\n",
       "      <th>3</th>\n",
       "      <td>0</td>\n",
       "      <td>CI</td>\n",
       "      <td>CHE</td>\n",
       "      <td>SON</td>\n",
       "      <td>DIDATTICHE</td>\n",
       "      <td>SONO</td>\n",
       "      <td>1</td>\n",
       "    </tr>\n",
       "    <tr>\n",
       "      <th>4</th>\n",
       "      <td>0</td>\n",
       "      <td>SONO</td>\n",
       "      <td>CI</td>\n",
       "      <td>IN</td>\n",
       "      <td>CI</td>\n",
       "      <td>IN</td>\n",
       "      <td>1</td>\n",
       "    </tr>\n",
       "  </tbody>\n",
       "</table>\n",
       "</div>"
      ],
      "text/plain": [
       "   n_frase        word shift-3 shift+3    shift-10    shift+10  bias\n",
       "0        0      QUANTE     BOF     FAT         BOF    FATTORIE     1\n",
       "1        0    FATTORIE     NTE     DID      QUANTE  DIDATTICHE     1\n",
       "2        0  DIDATTICHE     RIE      CI    FATTORIE          CI     1\n",
       "3        0          CI     CHE     SON  DIDATTICHE        SONO     1\n",
       "4        0        SONO      CI      IN          CI          IN     1"
      ]
     },
     "execution_count": 49,
     "metadata": {},
     "output_type": "execute_result"
    }
   ],
   "source": [
    "df = extend_data(df, spacy=False)\n",
    "df.head()"
   ]
  },
  {
   "cell_type": "code",
   "execution_count": 50,
   "id": "fe1d7522",
   "metadata": {},
   "outputs": [],
   "source": [
    "X = list()\n",
    "\n",
    "for k, v in df.groupby('n_frase'):\n",
    "    \n",
    "    v.drop(columns='n_frase', inplace=True)\n",
    "\n",
    "    X.append(v.to_dict('records'))"
   ]
  },
  {
   "cell_type": "code",
   "execution_count": 51,
   "id": "3e18d924",
   "metadata": {},
   "outputs": [
    {
     "data": {
      "text/plain": [
       "[{'word': 'QUANTE',\n",
       "  'shift-3': 'BOF',\n",
       "  'shift+3': 'FAT',\n",
       "  'shift-10': 'BOF',\n",
       "  'shift+10': 'FATTORIE',\n",
       "  'bias': 1},\n",
       " {'word': 'FATTORIE',\n",
       "  'shift-3': 'NTE',\n",
       "  'shift+3': 'DID',\n",
       "  'shift-10': 'QUANTE',\n",
       "  'shift+10': 'DIDATTICHE',\n",
       "  'bias': 1},\n",
       " {'word': 'DIDATTICHE',\n",
       "  'shift-3': 'RIE',\n",
       "  'shift+3': 'CI',\n",
       "  'shift-10': 'FATTORIE',\n",
       "  'shift+10': 'CI',\n",
       "  'bias': 1},\n",
       " {'word': 'CI',\n",
       "  'shift-3': 'CHE',\n",
       "  'shift+3': 'SON',\n",
       "  'shift-10': 'DIDATTICHE',\n",
       "  'shift+10': 'SONO',\n",
       "  'bias': 1},\n",
       " {'word': 'SONO',\n",
       "  'shift-3': 'CI',\n",
       "  'shift+3': 'IN',\n",
       "  'shift-10': 'CI',\n",
       "  'shift+10': 'IN',\n",
       "  'bias': 1},\n",
       " {'word': 'IN',\n",
       "  'shift-3': 'ONO',\n",
       "  'shift+3': 'PRO',\n",
       "  'shift-10': 'SONO',\n",
       "  'shift+10': 'PROVINCIA',\n",
       "  'bias': 1},\n",
       " {'word': 'PROVINCIA',\n",
       "  'shift-3': 'IN',\n",
       "  'shift+3': 'DI',\n",
       "  'shift-10': 'IN',\n",
       "  'shift+10': 'DI',\n",
       "  'bias': 1},\n",
       " {'word': 'DI',\n",
       "  'shift-3': 'CIA',\n",
       "  'shift+3': 'SAL',\n",
       "  'shift-10': 'PROVINCIA',\n",
       "  'shift+10': 'SALERNO',\n",
       "  'bias': 1},\n",
       " {'word': 'SALERNO',\n",
       "  'shift-3': 'DI',\n",
       "  'shift+3': 'CON',\n",
       "  'shift-10': 'DI',\n",
       "  'shift+10': 'CON',\n",
       "  'bias': 1},\n",
       " {'word': 'CON',\n",
       "  'shift-3': 'RNO',\n",
       "  'shift+3': 'ALL',\n",
       "  'shift-10': 'SALERNO',\n",
       "  'shift+10': 'ALLEVAMENT',\n",
       "  'bias': 1},\n",
       " {'word': 'ALLEVAMENTO',\n",
       "  'shift-3': 'CON',\n",
       "  'shift+3': 'EOF',\n",
       "  'shift-10': 'CON',\n",
       "  'shift+10': 'EOF',\n",
       "  'bias': 1}]"
      ]
     },
     "execution_count": 51,
     "metadata": {},
     "output_type": "execute_result"
    }
   ],
   "source": [
    "X[0]"
   ]
  },
  {
   "cell_type": "code",
   "execution_count": 52,
   "id": "01ea5356",
   "metadata": {},
   "outputs": [
    {
     "data": {
      "text/plain": [
       "['O', 'O', 'O', 'O', 'O', 'O', 'O', 'O', 'PROVINCIA', 'O', 'CATEGORIA']"
      ]
     },
     "execution_count": 52,
     "metadata": {},
     "output_type": "execute_result"
    }
   ],
   "source": [
    "y[0]"
   ]
  },
  {
   "cell_type": "code",
   "execution_count": 53,
   "id": "feddca62",
   "metadata": {},
   "outputs": [],
   "source": [
    "def prepare_data_crf(df:pd.DataFrame) -> list:\n",
    "    \n",
    "    \"\"\"\n",
    "    Ultimo step per preparare i dati per addestrare l'algoritmo\n",
    "    \n",
    "    Parameters:\n",
    "    -----------\n",
    "    \n",
    "    df : pd.DataFrame\n",
    "    \n",
    "        il numero di colonne del DataFrame dipende da come è stata impostata\n",
    "        la Data Augmentation... l'importante è che il df contenga\n",
    "        la colonna 'n_frase' usata come indice\n",
    "    \n",
    "    \n",
    "    Returns:\n",
    "    -----------\n",
    "    y : list\n",
    "    \n",
    "        una lista annidata di dictionary\n",
    "    \n",
    "    \"\"\"\n",
    "\n",
    "    \n",
    "    X = list()\n",
    "\n",
    "    for k, v in df.groupby('n_frase'):\n",
    "\n",
    "        v.drop(columns='n_frase', inplace=True)\n",
    "\n",
    "        X.append(v.to_dict('records'))\n",
    "    \n",
    "    return X"
   ]
  },
  {
   "cell_type": "code",
   "execution_count": 54,
   "id": "95e5a20c",
   "metadata": {},
   "outputs": [],
   "source": [
    "X = prepare_data_crf(df)"
   ]
  },
  {
   "cell_type": "code",
   "execution_count": 55,
   "id": "ba3a02d5",
   "metadata": {},
   "outputs": [],
   "source": [
    "import sklearn_crfsuite"
   ]
  },
  {
   "cell_type": "code",
   "execution_count": 56,
   "id": "51587f6d",
   "metadata": {},
   "outputs": [],
   "source": [
    "crf = sklearn_crfsuite.CRF(\n",
    "    algorithm='lbfgs',\n",
    "    c1=0.1,\n",
    "    c2=0.1,\n",
    "    max_iterations=100,\n",
    "    all_possible_states=False,     # Default\n",
    "    all_possible_transitions=False # Default\n",
    ")"
   ]
  },
  {
   "cell_type": "code",
   "execution_count": 57,
   "id": "d850497f",
   "metadata": {},
   "outputs": [
    {
     "name": "stderr",
     "output_type": "stream",
     "text": [
      "/home/ubuntupc/.local/lib/python3.8/site-packages/sklearn/base.py:193: FutureWarning: From version 0.24, get_params will raise an AttributeError if a parameter cannot be retrieved as an instance attribute. Previously it would return None.\n",
      "  warnings.warn('From version 0.24, get_params will raise an '\n"
     ]
    },
    {
     "data": {
      "text/plain": [
       "CRF(algorithm='lbfgs', all_possible_states=False,\n",
       "    all_possible_transitions=False, averaging=None, c=None, c1=0.1, c2=0.1,\n",
       "    calibration_candidates=None, calibration_eta=None,\n",
       "    calibration_max_trials=None, calibration_rate=None,\n",
       "    calibration_samples=None, delta=None, epsilon=None, error_sensitive=None,\n",
       "    gamma=None, keep_tempfiles=None, linesearch=None, max_iterations=100,\n",
       "    max_linesearch=None, min_freq=None, model_filename=None, num_memories=None,\n",
       "    pa_type=None, period=None, trainer_cls=None, variance=None, verbose=False)"
      ]
     },
     "execution_count": 57,
     "metadata": {},
     "output_type": "execute_result"
    }
   ],
   "source": [
    "crf.fit(X, y)"
   ]
  },
  {
   "cell_type": "code",
   "execution_count": 58,
   "id": "10f5f4bb",
   "metadata": {},
   "outputs": [
    {
     "data": {
      "text/plain": [
       "'CI SONO FATTORIE DIDATTICHE IN PROVINCIA DI [PROVINCIA](SALERNO) CON PRODUZIONE DI [CATEGORIA](FORMAGGI)?'"
      ]
     },
     "execution_count": 58,
     "metadata": {},
     "output_type": "execute_result"
    }
   ],
   "source": [
    "sentences[5].split(\"|\")[0]"
   ]
  },
  {
   "cell_type": "code",
   "execution_count": 59,
   "id": "c5216641",
   "metadata": {},
   "outputs": [
    {
     "name": "stdout",
     "output_type": "stream",
     "text": [
      "0 --> CI\n",
      "1 --> SONO\n",
      "2 --> FATTORIE\n",
      "3 --> DIDATTICHE\n",
      "4 --> IN\n",
      "5 --> PROVINCIA\n",
      "6 --> DI\n",
      "7 --> SALERNO\n",
      "8 --> CON\n",
      "9 --> PRODUZIONE\n",
      "10 --> DI\n",
      "11 --> FORMAGGI\n"
     ]
    }
   ],
   "source": [
    "for n, word in enumerate(X[5]):\n",
    "    \n",
    "    print(f\"{n} --> {word['word']}\")"
   ]
  },
  {
   "cell_type": "code",
   "execution_count": 60,
   "id": "6a9aeb1e",
   "metadata": {},
   "outputs": [
    {
     "name": "stdout",
     "output_type": "stream",
     "text": [
      "0 --> O\n",
      "1 --> O\n",
      "2 --> O\n",
      "3 --> O\n",
      "4 --> O\n",
      "5 --> O\n",
      "6 --> O\n",
      "7 --> PROVINCIA\n",
      "8 --> O\n",
      "9 --> O\n",
      "10 --> O\n",
      "11 --> CATEGORIA\n"
     ]
    }
   ],
   "source": [
    "y_pred = crf.predict_single(X[5])\n",
    "\n",
    "for n, pred in enumerate(y_pred):\n",
    "    \n",
    "    print(f\"{n} --> {pred}\")"
   ]
  },
  {
   "cell_type": "code",
   "execution_count": 61,
   "id": "2504c468",
   "metadata": {},
   "outputs": [],
   "source": [
    "def prepare_sentence(sentence:str) -> [pd.DataFrame, list]:\n",
    "    \n",
    "    \"\"\"\n",
    "    Prepare la frase per il predict\n",
    "    \n",
    "    Parameters:\n",
    "    -----------\n",
    "    \n",
    "    sentence : str\n",
    "    \n",
    "        è la frase che sarà elaborata\n",
    "    \n",
    "    \n",
    "    Returns:\n",
    "    -----------\n",
    "    df : DataFrame\n",
    "    \n",
    "    X_arr[0] : array\n",
    "        \n",
    "        dati in formato utile a CRF per il predict\n",
    "    \n",
    "    \"\"\"\n",
    "\n",
    "    sentence = rimuovi_punteggiatura(sentence)\n",
    "    \n",
    "    X_arr = list()\n",
    "    \n",
    "    df = pd.DataFrame(data = [i for i in sentence.split()], columns=['word'])\n",
    "    df['n_frase'] = 1\n",
    "    \n",
    "    df = extend_data(df)\n",
    "    \n",
    "    \n",
    "    for k, v in df.groupby('n_frase'):\n",
    "\n",
    "        v.drop(columns='n_frase', inplace=True)\n",
    "\n",
    "        X_arr.append(v.to_dict('records'))\n",
    "    \n",
    "    \n",
    "    return df, X_arr[0]"
   ]
  },
  {
   "cell_type": "code",
   "execution_count": 62,
   "id": "362cec33",
   "metadata": {},
   "outputs": [],
   "source": [
    "def extend_sentence(sentence:str, model:sklearn_crfsuite.estimator.CRF) -> pd.DataFrame:\n",
    "    \n",
    "   \n",
    "    \"\"\"\n",
    "    Estrae slots e lo aggiunge al DataFrame come colonna\n",
    "    \n",
    "    Parameters:\n",
    "    -----------\n",
    "    \n",
    "    sentence : str\n",
    "    \n",
    "        è la stringa che contiene la frase\n",
    "        \n",
    "    model : sklearn_crfsuite.estimator.CRF\n",
    "        \n",
    "        è il modello addestrato di ConditionalRandomField\n",
    "    \n",
    "    \n",
    "    Returns:\n",
    "    -----------\n",
    "    df : DataFrame\n",
    "    \n",
    "        al DataFrame di partenza viene aggiunta una colonna \n",
    "        con l'indicazione del tipo di slot individuato\n",
    "       \n",
    "    \"\"\"\n",
    "    \n",
    "    \n",
    "    df, X_arr = prepare_sentence(sentence)\n",
    "    \n",
    "    df['slots'] = model.predict_single(X_arr)\n",
    "    \n",
    "    return df"
   ]
  },
  {
   "cell_type": "code",
   "execution_count": 64,
   "id": "f62689c4",
   "metadata": {},
   "outputs": [],
   "source": [
    "nuova_frase = 'CI SONO FATTORIE DIDATTICHE AD AFRAGOLA'"
   ]
  },
  {
   "cell_type": "code",
   "execution_count": 65,
   "id": "1900a5bf",
   "metadata": {},
   "outputs": [
    {
     "data": {
      "text/html": [
       "<div>\n",
       "<style scoped>\n",
       "    .dataframe tbody tr th:only-of-type {\n",
       "        vertical-align: middle;\n",
       "    }\n",
       "\n",
       "    .dataframe tbody tr th {\n",
       "        vertical-align: top;\n",
       "    }\n",
       "\n",
       "    .dataframe thead th {\n",
       "        text-align: right;\n",
       "    }\n",
       "</style>\n",
       "<table border=\"1\" class=\"dataframe\">\n",
       "  <thead>\n",
       "    <tr style=\"text-align: right;\">\n",
       "      <th></th>\n",
       "      <th>word</th>\n",
       "      <th>n_frase</th>\n",
       "      <th>shift-3</th>\n",
       "      <th>shift+3</th>\n",
       "      <th>shift-10</th>\n",
       "      <th>shift+10</th>\n",
       "      <th>bias</th>\n",
       "      <th>slots</th>\n",
       "    </tr>\n",
       "  </thead>\n",
       "  <tbody>\n",
       "    <tr>\n",
       "      <th>0</th>\n",
       "      <td>CI</td>\n",
       "      <td>1</td>\n",
       "      <td>BOF</td>\n",
       "      <td>SON</td>\n",
       "      <td>BOF</td>\n",
       "      <td>SONO</td>\n",
       "      <td>1</td>\n",
       "      <td>O</td>\n",
       "    </tr>\n",
       "    <tr>\n",
       "      <th>1</th>\n",
       "      <td>SONO</td>\n",
       "      <td>1</td>\n",
       "      <td>CI</td>\n",
       "      <td>FAT</td>\n",
       "      <td>CI</td>\n",
       "      <td>FATTORIE</td>\n",
       "      <td>1</td>\n",
       "      <td>O</td>\n",
       "    </tr>\n",
       "    <tr>\n",
       "      <th>2</th>\n",
       "      <td>FATTORIE</td>\n",
       "      <td>1</td>\n",
       "      <td>ONO</td>\n",
       "      <td>DID</td>\n",
       "      <td>SONO</td>\n",
       "      <td>DIDATTICHE</td>\n",
       "      <td>1</td>\n",
       "      <td>O</td>\n",
       "    </tr>\n",
       "    <tr>\n",
       "      <th>3</th>\n",
       "      <td>DIDATTICHE</td>\n",
       "      <td>1</td>\n",
       "      <td>RIE</td>\n",
       "      <td>AD</td>\n",
       "      <td>FATTORIE</td>\n",
       "      <td>AD</td>\n",
       "      <td>1</td>\n",
       "      <td>O</td>\n",
       "    </tr>\n",
       "    <tr>\n",
       "      <th>4</th>\n",
       "      <td>AD</td>\n",
       "      <td>1</td>\n",
       "      <td>CHE</td>\n",
       "      <td>AFR</td>\n",
       "      <td>DIDATTICHE</td>\n",
       "      <td>AFRAGOLA</td>\n",
       "      <td>1</td>\n",
       "      <td>O</td>\n",
       "    </tr>\n",
       "    <tr>\n",
       "      <th>5</th>\n",
       "      <td>AFRAGOLA</td>\n",
       "      <td>1</td>\n",
       "      <td>AD</td>\n",
       "      <td>EOF</td>\n",
       "      <td>AD</td>\n",
       "      <td>EOF</td>\n",
       "      <td>1</td>\n",
       "      <td>SEDE</td>\n",
       "    </tr>\n",
       "  </tbody>\n",
       "</table>\n",
       "</div>"
      ],
      "text/plain": [
       "         word  n_frase shift-3 shift+3    shift-10    shift+10  bias slots\n",
       "0          CI        1     BOF     SON         BOF        SONO     1     O\n",
       "1        SONO        1      CI     FAT          CI    FATTORIE     1     O\n",
       "2    FATTORIE        1     ONO     DID        SONO  DIDATTICHE     1     O\n",
       "3  DIDATTICHE        1     RIE      AD    FATTORIE          AD     1     O\n",
       "4          AD        1     CHE     AFR  DIDATTICHE    AFRAGOLA     1     O\n",
       "5    AFRAGOLA        1      AD     EOF          AD         EOF     1  SEDE"
      ]
     },
     "execution_count": 65,
     "metadata": {},
     "output_type": "execute_result"
    }
   ],
   "source": [
    "extend_sentence(nuova_frase, crf)"
   ]
  },
  {
   "cell_type": "markdown",
   "id": "b6f661e3",
   "metadata": {},
   "source": [
    "## Duckling"
   ]
  },
  {
   "cell_type": "markdown",
   "id": "a9e8c570",
   "metadata": {},
   "source": [
    "[datetime.datetime(2021, 11, 21, 8, 0, tzinfo=<StaticTzInfo 'UTC\\-08:00'>)]}"
   ]
  },
  {
   "cell_type": "code",
   "execution_count": 66,
   "id": "3144c282",
   "metadata": {},
   "outputs": [],
   "source": [
    "def slots_extractor(sentence:str, model:sklearn_crfsuite.estimator.CRF) -> defaultdict:\n",
    "    \n",
    "    \n",
    "    \"\"\"\n",
    "    Restituisce un dictionary degli slots individuati\n",
    "    \n",
    "    Parameters:\n",
    "    -----------\n",
    "    \n",
    "    sentence : str\n",
    "    \n",
    "        è la stringa che contiene la frase\n",
    "        \n",
    "    model : sklearn_crfsuite.estimator.CRF\n",
    "        \n",
    "        è il modello addestrato di ConditionalRandomField\n",
    "    \n",
    "    \n",
    "    Returns:\n",
    "    -----------\n",
    "    dd : dictionary\n",
    "           \n",
    "    \"\"\"\n",
    "    \n",
    "    df = extend_sentence(sentence, model)\n",
    "    \n",
    "    dd = defaultdict(list)\n",
    "\n",
    "    for k, v in df.query(\"slots != 'O'\").groupby('slots'):\n",
    "        dd[k] = \" \".join(v['word'])\n",
    "        \n",
    "    \n",
    "    \n",
    "    \"\"\"\n",
    "    Estrazione date ed orari tramite duckling    \n",
    "    \"\"\"\n",
    "    \n",
    "    date_time = extract_datetime(sentence)\n",
    "\n",
    "    if date_time is not None and len(date_time) > 0:\n",
    "        dd['DATETIMES'] = date_time['datetime']\n",
    "#     else:\n",
    "#         sentence_dict['datetimes'] = False\n",
    "\n",
    "\n",
    "    return dd"
   ]
  },
  {
   "cell_type": "code",
   "execution_count": 67,
   "id": "e67023a7",
   "metadata": {},
   "outputs": [
    {
     "data": {
      "text/html": [
       "<div>\n",
       "<style scoped>\n",
       "    .dataframe tbody tr th:only-of-type {\n",
       "        vertical-align: middle;\n",
       "    }\n",
       "\n",
       "    .dataframe tbody tr th {\n",
       "        vertical-align: top;\n",
       "    }\n",
       "\n",
       "    .dataframe thead th {\n",
       "        text-align: right;\n",
       "    }\n",
       "</style>\n",
       "<table border=\"1\" class=\"dataframe\">\n",
       "  <thead>\n",
       "    <tr style=\"text-align: right;\">\n",
       "      <th></th>\n",
       "      <th>sentences</th>\n",
       "      <th>intents</th>\n",
       "    </tr>\n",
       "  </thead>\n",
       "  <tbody>\n",
       "    <tr>\n",
       "      <th>0</th>\n",
       "      <td>QUANTE FATTORIE DIDATTICHE CI SONO IN PROVINCI...</td>\n",
       "      <td>user_AskProvWithParams</td>\n",
       "    </tr>\n",
       "    <tr>\n",
       "      <th>1</th>\n",
       "      <td>QUANTE FATTORIE DIDATTICHE CI SONO IN PROVINCI...</td>\n",
       "      <td>user_AskProv</td>\n",
       "    </tr>\n",
       "    <tr>\n",
       "      <th>2</th>\n",
       "      <td>CI SONO FATTORIE DIDATTICHE NELLA PROVINCIA DI...</td>\n",
       "      <td>user_AskProvWithParams</td>\n",
       "    </tr>\n",
       "    <tr>\n",
       "      <th>3</th>\n",
       "      <td>CI SONO FATTORIE DIDATTICHE IN PROVINCIA DI [P...</td>\n",
       "      <td>user_AskProvWithParams</td>\n",
       "    </tr>\n",
       "    <tr>\n",
       "      <th>4</th>\n",
       "      <td>CI SONO FATTORIE DIDATTICHE IN PROVINCIA DI [P...</td>\n",
       "      <td>user_AskProvWithParams</td>\n",
       "    </tr>\n",
       "  </tbody>\n",
       "</table>\n",
       "</div>"
      ],
      "text/plain": [
       "                                           sentences                 intents\n",
       "0  QUANTE FATTORIE DIDATTICHE CI SONO IN PROVINCI...  user_AskProvWithParams\n",
       "1  QUANTE FATTORIE DIDATTICHE CI SONO IN PROVINCI...            user_AskProv\n",
       "2  CI SONO FATTORIE DIDATTICHE NELLA PROVINCIA DI...  user_AskProvWithParams\n",
       "3  CI SONO FATTORIE DIDATTICHE IN PROVINCIA DI [P...  user_AskProvWithParams\n",
       "4  CI SONO FATTORIE DIDATTICHE IN PROVINCIA DI [P...  user_AskProvWithParams"
      ]
     },
     "execution_count": 67,
     "metadata": {},
     "output_type": "execute_result"
    }
   ],
   "source": [
    "df = pd.read_csv(sentences_file_generated, sep=\"|\", header=None)\n",
    "\n",
    "df.columns = [\"sentences\", \"intents\"]\n",
    "df.head()"
   ]
  },
  {
   "cell_type": "code",
   "execution_count": 69,
   "id": "2624d498",
   "metadata": {},
   "outputs": [],
   "source": [
    "def conserva_solo_slot_name(text: str) -> str:\n",
    "\n",
    "    \"\"\"\n",
    "    Per facilitare la riduzione dello spazio dimensionale\n",
    "        vengono eliminati i valori degli slots\n",
    "        mentre vengono conservati i loro nomi\n",
    "\n",
    "\n",
    "    Parameters:\n",
    "    -----------\n",
    "\n",
    "    text : str\n",
    "\n",
    "        è la stringa che contiene la frase\n",
    "\n",
    "\n",
    "    Returns:\n",
    "    -----------\n",
    "    text : str\n",
    "\n",
    "    \"\"\"\n",
    "\n",
    "    text = rimuovi_punteggiatura(text)\n",
    "\n",
    "    pattern = r\"(\\([A-Za-z0-9 ]+\\)|\\[|\\])\"\n",
    "\n",
    "    text = re.sub(pattern, \"\", text)\n",
    "\n",
    "    return text"
   ]
  },
  {
   "cell_type": "code",
   "execution_count": 70,
   "id": "6572039d",
   "metadata": {},
   "outputs": [
    {
     "data": {
      "text/plain": [
       "'CI SONO FATTORIE DIDATTICHE IN PROVINCIA DI [PROVINCIA](SALERNO) CON PRODUZIONE DI [CATEGORIA](FORMAGGI)?'"
      ]
     },
     "execution_count": 70,
     "metadata": {},
     "output_type": "execute_result"
    }
   ],
   "source": [
    "df[\"sentences\"][5]"
   ]
  },
  {
   "cell_type": "code",
   "execution_count": 71,
   "id": "fc45d79d",
   "metadata": {},
   "outputs": [
    {
     "data": {
      "text/plain": [
       "'CI SONO FATTORIE DIDATTICHE IN PROVINCIA DI PROVINCIA CON PRODUZIONE DI CATEGORIA '"
      ]
     },
     "execution_count": 71,
     "metadata": {},
     "output_type": "execute_result"
    }
   ],
   "source": [
    "conserva_solob_slot_name(df[\"sentences\"][5])"
   ]
  },
  {
   "cell_type": "code",
   "execution_count": 74,
   "id": "7055fb9e",
   "metadata": {},
   "outputs": [
    {
     "data": {
      "text/plain": [
       "'QUANTE FATTORIE DIDATTICHE CI SONO IN PROVINCIA DI PROVINCIA CON CATEGORIA '"
      ]
     },
     "execution_count": 74,
     "metadata": {},
     "output_type": "execute_result"
    }
   ],
   "source": [
    "df[\"sentences\"] = df[\"sentences\"].apply(conserva_solo_slot_name)\n",
    "\n",
    "df.sentences[0]"
   ]
  },
  {
   "cell_type": "code",
   "execution_count": 75,
   "id": "4f32606b",
   "metadata": {},
   "outputs": [],
   "source": [
    "def replace_slot_values(sentence_dict: dict) -> dict:\n",
    "\n",
    "    \"\"\"\n",
    "    Integrazione dictionary - parte 1 di 2\n",
    "\n",
    "\n",
    "    Per operare una riduzione delle variabili\n",
    "    sostituisce il valore con il relativo slot\n",
    "    \"\"\"\n",
    "\n",
    "    sentence_dict[\"replaced_sentence\"] = sentence_dict[\"sentence\"]\n",
    "\n",
    "    for k, v in sentence_dict[\"slots\"].items():\n",
    "\n",
    "        if k != \"DATETIMES\":\n",
    "\n",
    "            sentence_dict[\"replaced_sentence\"] = re.sub(\n",
    "                v, k, sentence_dict[\"replaced_sentence\"]\n",
    "            )\n",
    "\n",
    "    return sentence_dict"
   ]
  },
  {
   "cell_type": "code",
   "execution_count": 79,
   "id": "a34f7329",
   "metadata": {},
   "outputs": [],
   "source": [
    "import requests\n",
    "import json\n",
    "import datetime\n",
    "import dateparser\n",
    "\n",
    "def extract_datetime(text:str, url = \"http://0.0.0.0:8000/parse\"):\n",
    "    \n",
    "    data = {\"locale\":\"it_IT\",\n",
    "        \"text\":text}\n",
    "    \n",
    "    resp = None\n",
    "    \n",
    "    datetimes = list()\n",
    "    \n",
    "    try:\n",
    "    \n",
    "        response = requests.post(url, data=data)\n",
    "        \n",
    "        try:\n",
    "        \n",
    "            if response.status_code == 200:\n",
    "\n",
    "                for dt in response.json():\n",
    "                    \n",
    "                    if dt['dim'] == \"time\":\n",
    "\n",
    "                        dtime = dt['value']['value']\n",
    "                        dtime = dateparser.parse(dtime)\n",
    "\n",
    "                        datetimes.append(dtime)\n",
    "\n",
    "            resp = dict()\n",
    "            \n",
    "            if len(datetimes) > 1:\n",
    "                resp['datetime'] = list([min(datetimes), max(datetimes)])\n",
    "            else:\n",
    "                resp['datetime'] = list(datetimes)\n",
    "            \n",
    "        except:\n",
    "            pass\n",
    "        \n",
    "    except:\n",
    "        pass\n",
    "    \n",
    "    \n",
    "    return resp"
   ]
  },
  {
   "cell_type": "code",
   "execution_count": 80,
   "id": "82f6d20b",
   "metadata": {},
   "outputs": [],
   "source": [
    "def add_slots(sentence: str, model: sklearn_crfsuite.estimator.CRF) -> dict:\n",
    "\n",
    "    \"\"\"\n",
    "    Integrazione dictionary - parte 2 di 2\n",
    "    \"\"\"\n",
    "\n",
    "    sentence_dict = {}\n",
    "\n",
    "    sentence = rimuovi_punteggiatura(sentence)\n",
    "\n",
    "    slots_dict = slots_extractor(sentence, model)\n",
    "\n",
    "    sentence_dict[\"sentence\"] = sentence\n",
    "    sentence_dict[\"slots\"] = slots_dict\n",
    "\n",
    "    sentence_dict = replace_slot_values(sentence_dict)\n",
    "\n",
    "    #     date_time = extract_datetime(sentence)\n",
    "\n",
    "    #     if date_time is not None and len(date_time) > 0:\n",
    "    #         sentence_dict['datetimes'] = date_time['datetime']\n",
    "    #     else:\n",
    "    #         sentence_dict['datetimes'] = False\n",
    "\n",
    "    return sentence_dict"
   ]
  },
  {
   "cell_type": "code",
   "execution_count": 81,
   "id": "406efb99",
   "metadata": {},
   "outputs": [
    {
     "data": {
      "text/plain": [
       "{'sentence': 'CI SONO FATTORIE DIDATTICHE AD AFRAGOLA CHE SONO APERTE DOMANI ALLE 8 DI SERA ',\n",
       " 'slots': defaultdict(list, {'PROVINCIA': 'SERA'}),\n",
       " 'replaced_sentence': 'CI SONO FATTORIE DIDATTICHE AD AFRAGOLA CHE SONO APERTE DOMANI ALLE 8 DI PROVINCIA '}"
      ]
     },
     "execution_count": 81,
     "metadata": {},
     "output_type": "execute_result"
    }
   ],
   "source": [
    "add_slots('CI SONO FATTORIE DIDATTICHE, AD AFRAGOLA CHE SONO APERTE DOMANI ALLE 8 DI SERA ?', crf)"
   ]
  },
  {
   "cell_type": "code",
   "execution_count": 82,
   "id": "0f0310a7",
   "metadata": {},
   "outputs": [],
   "source": [
    "from sklearn.feature_extraction.text import CountVectorizer\n",
    "\n",
    "cv = CountVectorizer()"
   ]
  },
  {
   "cell_type": "code",
   "execution_count": 83,
   "id": "5c859439",
   "metadata": {},
   "outputs": [
    {
     "data": {
      "text/plain": [
       "CountVectorizer(analyzer='word', binary=False, decode_error='strict',\n",
       "                dtype=<class 'numpy.int64'>, encoding='utf-8', input='content',\n",
       "                lowercase=True, max_df=1.0, max_features=None, min_df=1,\n",
       "                ngram_range=(1, 1), preprocessor=None, stop_words=None,\n",
       "                strip_accents=None, token_pattern='(?u)\\\\b\\\\w\\\\w+\\\\b',\n",
       "                tokenizer=None, vocabulary=None)"
      ]
     },
     "execution_count": 83,
     "metadata": {},
     "output_type": "execute_result"
    }
   ],
   "source": [
    "cv.fit(df.sentences)"
   ]
  },
  {
   "cell_type": "code",
   "execution_count": 84,
   "id": "0a0d774c",
   "metadata": {},
   "outputs": [
    {
     "name": "stdout",
     "output_type": "stream",
     "text": [
      "Il vocabolario contiene 17 parole\n"
     ]
    },
    {
     "data": {
      "text/plain": [
       "{'quante': 14,\n",
       " 'fattorie': 8,\n",
       " 'didattiche': 7,\n",
       " 'ci': 3,\n",
       " 'sono': 16,\n",
       " 'in': 9,\n",
       " 'provincia': 13,\n",
       " 'di': 6,\n",
       " 'con': 5,\n",
       " 'categoria': 1,\n",
       " 'nella': 10,\n",
       " 'che': 2,\n",
       " 'producono': 11,\n",
       " 'produzione': 12,\n",
       " 'ad': 0,\n",
       " 'sede': 15,\n",
       " 'coltivazione': 4}"
      ]
     },
     "execution_count": 84,
     "metadata": {},
     "output_type": "execute_result"
    }
   ],
   "source": [
    "print(f\"Il vocabolario contiene {len(cv.vocabulary_)} parole\")\n",
    "\n",
    "cv.vocabulary_"
   ]
  },
  {
   "cell_type": "code",
   "execution_count": 85,
   "id": "e2d28349",
   "metadata": {},
   "outputs": [],
   "source": [
    "fake_list = list()\n",
    "\n",
    "for i in range(30):\n",
    "    fake_list.append(\" \".join(random.choices(list(cv.vocabulary_.keys()), k=10)))"
   ]
  },
  {
   "cell_type": "code",
   "execution_count": 86,
   "id": "3e5b749c",
   "metadata": {},
   "outputs": [
    {
     "data": {
      "text/plain": [
       "['fattorie produzione in di nella sono fattorie nella produzione didattiche',\n",
       " 'producono sede produzione ci fattorie sono sede con quante provincia',\n",
       " 'sede quante sede di sede fattorie sono didattiche produzione di',\n",
       " 'in sede didattiche provincia producono ad produzione quante di coltivazione',\n",
       " 'di didattiche categoria provincia producono di coltivazione produzione ad di',\n",
       " 'ci quante in produzione fattorie coltivazione fattorie quante ad sono',\n",
       " 'nella in nella sono provincia sede sede che di produzione',\n",
       " 'nella provincia didattiche fattorie didattiche ci con ad in produzione',\n",
       " 'categoria coltivazione fattorie producono nella categoria didattiche in coltivazione categoria',\n",
       " 'sono in producono fattorie provincia provincia ad categoria producono che']"
      ]
     },
     "execution_count": 86,
     "metadata": {},
     "output_type": "execute_result"
    }
   ],
   "source": [
    "fake_list[:10]"
   ]
  },
  {
   "cell_type": "code",
   "execution_count": 87,
   "id": "e2df8cd1",
   "metadata": {},
   "outputs": [
    {
     "data": {
      "text/html": [
       "<div>\n",
       "<style scoped>\n",
       "    .dataframe tbody tr th:only-of-type {\n",
       "        vertical-align: middle;\n",
       "    }\n",
       "\n",
       "    .dataframe tbody tr th {\n",
       "        vertical-align: top;\n",
       "    }\n",
       "\n",
       "    .dataframe thead th {\n",
       "        text-align: right;\n",
       "    }\n",
       "</style>\n",
       "<table border=\"1\" class=\"dataframe\">\n",
       "  <thead>\n",
       "    <tr style=\"text-align: right;\">\n",
       "      <th></th>\n",
       "      <th>sentences</th>\n",
       "      <th>intents</th>\n",
       "    </tr>\n",
       "  </thead>\n",
       "  <tbody>\n",
       "    <tr>\n",
       "      <th>0</th>\n",
       "      <td>fattorie produzione in di nella sono fattorie ...</td>\n",
       "      <td>fake</td>\n",
       "    </tr>\n",
       "    <tr>\n",
       "      <th>1</th>\n",
       "      <td>producono sede produzione ci fattorie sono sed...</td>\n",
       "      <td>fake</td>\n",
       "    </tr>\n",
       "    <tr>\n",
       "      <th>2</th>\n",
       "      <td>sede quante sede di sede fattorie sono didatti...</td>\n",
       "      <td>fake</td>\n",
       "    </tr>\n",
       "    <tr>\n",
       "      <th>3</th>\n",
       "      <td>in sede didattiche provincia producono ad prod...</td>\n",
       "      <td>fake</td>\n",
       "    </tr>\n",
       "    <tr>\n",
       "      <th>4</th>\n",
       "      <td>di didattiche categoria provincia producono di...</td>\n",
       "      <td>fake</td>\n",
       "    </tr>\n",
       "  </tbody>\n",
       "</table>\n",
       "</div>"
      ],
      "text/plain": [
       "                                           sentences intents\n",
       "0  fattorie produzione in di nella sono fattorie ...    fake\n",
       "1  producono sede produzione ci fattorie sono sed...    fake\n",
       "2  sede quante sede di sede fattorie sono didatti...    fake\n",
       "3  in sede didattiche provincia producono ad prod...    fake\n",
       "4  di didattiche categoria provincia producono di...    fake"
      ]
     },
     "execution_count": 87,
     "metadata": {},
     "output_type": "execute_result"
    }
   ],
   "source": [
    "df_fake = pd.DataFrame({\"sentences\": fake_list, \"intents\": \"fake\"})\n",
    "df_fake.head()"
   ]
  },
  {
   "cell_type": "code",
   "execution_count": 88,
   "id": "90f911eb",
   "metadata": {},
   "outputs": [
    {
     "data": {
      "text/html": [
       "<div>\n",
       "<style scoped>\n",
       "    .dataframe tbody tr th:only-of-type {\n",
       "        vertical-align: middle;\n",
       "    }\n",
       "\n",
       "    .dataframe tbody tr th {\n",
       "        vertical-align: top;\n",
       "    }\n",
       "\n",
       "    .dataframe thead th {\n",
       "        text-align: right;\n",
       "    }\n",
       "</style>\n",
       "<table border=\"1\" class=\"dataframe\">\n",
       "  <thead>\n",
       "    <tr style=\"text-align: right;\">\n",
       "      <th></th>\n",
       "      <th>sentences</th>\n",
       "      <th>intents</th>\n",
       "    </tr>\n",
       "  </thead>\n",
       "  <tbody>\n",
       "    <tr>\n",
       "      <th>1025</th>\n",
       "      <td>didattiche quante ci ci ci sede ad ci in colti...</td>\n",
       "      <td>fake</td>\n",
       "    </tr>\n",
       "    <tr>\n",
       "      <th>1026</th>\n",
       "      <td>fattorie didattiche che produzione produzione ...</td>\n",
       "      <td>fake</td>\n",
       "    </tr>\n",
       "    <tr>\n",
       "      <th>1027</th>\n",
       "      <td>nella categoria didattiche coltivazione con pr...</td>\n",
       "      <td>fake</td>\n",
       "    </tr>\n",
       "    <tr>\n",
       "      <th>1028</th>\n",
       "      <td>quante ad didattiche sede con produzione di di...</td>\n",
       "      <td>fake</td>\n",
       "    </tr>\n",
       "    <tr>\n",
       "      <th>1029</th>\n",
       "      <td>producono nella sede ad con sono in ci con sono</td>\n",
       "      <td>fake</td>\n",
       "    </tr>\n",
       "  </tbody>\n",
       "</table>\n",
       "</div>"
      ],
      "text/plain": [
       "                                              sentences intents\n",
       "1025  didattiche quante ci ci ci sede ad ci in colti...    fake\n",
       "1026  fattorie didattiche che produzione produzione ...    fake\n",
       "1027  nella categoria didattiche coltivazione con pr...    fake\n",
       "1028  quante ad didattiche sede con produzione di di...    fake\n",
       "1029    producono nella sede ad con sono in ci con sono    fake"
      ]
     },
     "execution_count": 88,
     "metadata": {},
     "output_type": "execute_result"
    }
   ],
   "source": [
    "df = pd.concat([df, df_fake], axis=0, ignore_index=True)\n",
    "df.tail()"
   ]
  },
  {
   "cell_type": "code",
   "execution_count": 89,
   "id": "b0399d08",
   "metadata": {},
   "outputs": [],
   "source": [
    "import sklearn\n",
    "\n",
    "from sklearn.preprocessing import LabelEncoder\n",
    "\n",
    "le = LabelEncoder()"
   ]
  },
  {
   "cell_type": "code",
   "execution_count": 90,
   "id": "24e2b1dc",
   "metadata": {},
   "outputs": [
    {
     "data": {
      "text/plain": [
       "array(['user_AskProvWithParams', 'user_AskProv', 'user_AskCity', 'fake'],\n",
       "      dtype=object)"
      ]
     },
     "execution_count": 90,
     "metadata": {},
     "output_type": "execute_result"
    }
   ],
   "source": [
    "df.intents.unique()"
   ]
  },
  {
   "cell_type": "code",
   "execution_count": 91,
   "id": "7c256da9",
   "metadata": {},
   "outputs": [
    {
     "name": "stdout",
     "output_type": "stream",
     "text": [
      "fake --> 0\n",
      "user_AskCity --> 1\n",
      "user_AskProv --> 2\n",
      "user_AskProvWithParams --> 3\n"
     ]
    }
   ],
   "source": [
    "le.fit(df.intents.unique())\n",
    "\n",
    "for n, cls in enumerate(le.classes_):\n",
    "    print(f\"{cls} --> {n}\")"
   ]
  },
  {
   "cell_type": "code",
   "execution_count": 92,
   "id": "e6c5c31b",
   "metadata": {},
   "outputs": [],
   "source": [
    "labels_categories = le.transform(df.intents.values)"
   ]
  },
  {
   "cell_type": "code",
   "execution_count": 93,
   "id": "5142b2b1",
   "metadata": {},
   "outputs": [
    {
     "data": {
      "text/plain": [
       "'user_AskCity'"
      ]
     },
     "execution_count": 93,
     "metadata": {},
     "output_type": "execute_result"
    }
   ],
   "source": [
    "le.inverse_transform([1])[0]"
   ]
  },
  {
   "cell_type": "code",
   "execution_count": 95,
   "id": "207bf6bd",
   "metadata": {
    "scrolled": true
   },
   "outputs": [
    {
     "name": "stdout",
     "output_type": "stream",
     "text": [
      "QUANTE FATTORIE DIDATTICHE CI SONO IN PROVINCIA DI PROVINCIA CON CATEGORIA \n"
     ]
    },
    {
     "data": {
      "text/plain": [
       "array([0, 1, 0, 1, 0, 1, 1, 1, 1, 1, 0, 0, 0, 1, 1, 0, 1])"
      ]
     },
     "execution_count": 95,
     "metadata": {},
     "output_type": "execute_result"
    }
   ],
   "source": [
    "print(df.sentences[0])\n",
    "\n",
    "np.max(cv.transform(df.sentences[0].split()).toarray(), axis=0)"
   ]
  },
  {
   "cell_type": "code",
   "execution_count": 96,
   "id": "3a918dcc",
   "metadata": {},
   "outputs": [],
   "source": [
    "from sklearn.linear_model import SGDClassifier\n",
    "\n",
    "classifier = SGDClassifier(fit_intercept=False, loss=\"log\", random_state=200)"
   ]
  },
  {
   "cell_type": "code",
   "execution_count": 97,
   "id": "4def91d0",
   "metadata": {},
   "outputs": [
    {
     "data": {
      "text/plain": [
       "SGDClassifier(alpha=0.0001, average=False, class_weight=None,\n",
       "              early_stopping=False, epsilon=0.1, eta0=0.0, fit_intercept=False,\n",
       "              l1_ratio=0.15, learning_rate='optimal', loss='log', max_iter=1000,\n",
       "              n_iter_no_change=5, n_jobs=None, penalty='l2', power_t=0.5,\n",
       "              random_state=200, shuffle=True, tol=0.001,\n",
       "              validation_fraction=0.1, verbose=0, warm_start=False)"
      ]
     },
     "execution_count": 97,
     "metadata": {},
     "output_type": "execute_result"
    }
   ],
   "source": [
    "classifier.fit(X=cv.transform(df[\"sentences\"].values).toarray(), y=labels_categories)"
   ]
  },
  {
   "cell_type": "code",
   "execution_count": 98,
   "id": "a212b6f9",
   "metadata": {},
   "outputs": [
    {
     "data": {
      "text/plain": [
       "'user_AskProvWithParams'"
      ]
     },
     "execution_count": 98,
     "metadata": {},
     "output_type": "execute_result"
    }
   ],
   "source": [
    "df[\"intents\"].values[0]"
   ]
  },
  {
   "cell_type": "code",
   "execution_count": 99,
   "id": "119a1d30",
   "metadata": {},
   "outputs": [
    {
     "data": {
      "text/plain": [
       "'QUANTE FATTORIE DIDATTICHE CI SONO IN PROVINCIA DI PROVINCIA CON CATEGORIA '"
      ]
     },
     "execution_count": 99,
     "metadata": {},
     "output_type": "execute_result"
    }
   ],
   "source": [
    "df[\"sentences\"].values[0]"
   ]
  },
  {
   "cell_type": "code",
   "execution_count": 100,
   "id": "bd7c62f1",
   "metadata": {},
   "outputs": [],
   "source": [
    "y_pred = classifier.predict(\n",
    "    [np.max(cv.transform(df[\"sentences\"].values[0].split()).toarray(), axis=0)]\n",
    ")"
   ]
  },
  {
   "cell_type": "code",
   "execution_count": 101,
   "id": "85d85964",
   "metadata": {},
   "outputs": [
    {
     "data": {
      "text/plain": [
       "'user_AskProvWithParams'"
      ]
     },
     "execution_count": 101,
     "metadata": {},
     "output_type": "execute_result"
    }
   ],
   "source": [
    "le.inverse_transform(y_pred)[0]"
   ]
  },
  {
   "cell_type": "code",
   "execution_count": 102,
   "id": "3361cf23",
   "metadata": {},
   "outputs": [],
   "source": [
    "def get_intents_and_slots(\n",
    "    sentence: str,\n",
    "    model: sklearn_crfsuite.estimator.CRF,\n",
    "    cv: sklearn.feature_extraction.text.CountVectorizer,\n",
    "    le: sklearn.preprocessing._label.LabelEncoder,\n",
    "    threasold=0.25,\n",
    ") -> dict:\n",
    "\n",
    "    \"\"\"\n",
    "    Estrae gli intents e gli slots dalla frase\n",
    "    \"\"\"\n",
    "\n",
    "    sentence_dict = add_slots(sentence, crf)\n",
    "\n",
    "    sentence = sentence_dict[\"replaced_sentence\"]\n",
    "\n",
    "    arr = cv.transform(add_slots(sentence, crf)[\"replaced_sentence\"].split()).toarray()\n",
    "\n",
    "    arr = np.max(arr, axis=0)\n",
    "\n",
    "    probs = model.predict_proba([arr])[0]\n",
    "\n",
    "    df = pd.DataFrame({\"classes\": le.classes_, \"probs\": probs})\n",
    "    df.sort_values(\"probs\", ascending=False, inplace=True)\n",
    "    classes_with_prob = df[df[\"probs\"] > threasold].to_dict(\"records\")\n",
    "    sentence_dict[\"intents\"] = classes_with_prob\n",
    "\n",
    "    max_intent = le.classes_[np.argmax(probs)]\n",
    "    sentence_dict[\"max_intent\"] = max_intent\n",
    "\n",
    "    return sentence_dict"
   ]
  },
  {
   "cell_type": "code",
   "execution_count": 105,
   "id": "344e499e",
   "metadata": {},
   "outputs": [],
   "source": [
    "nuova_frase = \"QUANTE FATTORIE DIDATTICHE CI SONO IN PROVINCIA DI CASERTA CON ALLEVAMENTO\"\n",
    "\n",
    "data = get_intents_and_slots(nuova_frase, classifier, cv, le)"
   ]
  },
  {
   "cell_type": "code",
   "execution_count": 106,
   "id": "f2be8d3d",
   "metadata": {},
   "outputs": [
    {
     "data": {
      "text/plain": [
       "{'sentence': 'QUANTE FATTORIE DIDATTICHE CI SONO IN PROVINCIA DI CASERTA CON ALLEVAMENTO',\n",
       " 'slots': defaultdict(list,\n",
       "             {'CATEGORIA': 'ALLEVAMENTO', 'PROVINCIA': 'CASERTA'}),\n",
       " 'replaced_sentence': 'QUANTE FATTORIE DIDATTICHE CI SONO IN PROVINCIA DI PROVINCIA CON CATEGORIA',\n",
       " 'intents': [{'classes': 'user_AskProvWithParams',\n",
       "   'probs': 0.9995642844054845}],\n",
       " 'max_intent': 'user_AskProvWithParams'}"
      ]
     },
     "execution_count": 106,
     "metadata": {},
     "output_type": "execute_result"
    }
   ],
   "source": [
    "data"
   ]
  },
  {
   "cell_type": "code",
   "execution_count": 107,
   "id": "e4cec64d",
   "metadata": {},
   "outputs": [
    {
     "name": "stdout",
     "output_type": "stream",
     "text": [
      "{'user_AskCity': 'bot_ReplyCity ',\n",
      " 'user_AskProv': 'bot_ReplyProv',\n",
      " 'user_AskProvWithParams': 'bot_ReplyProvWithParams'}\n"
     ]
    }
   ],
   "source": [
    "dialogs = {v[0]: v[1] for v in list(dialogs.values())}\n",
    "\n",
    "pprint.pprint(dialogs)"
   ]
  },
  {
   "cell_type": "code",
   "execution_count": 108,
   "id": "2dfec8af",
   "metadata": {},
   "outputs": [
    {
     "data": {
      "text/plain": [
       "defaultdict(list,\n",
       "            {'bot_ReplyCity ': ['Nella città di [SEDE] ci sono %d fattorie didattiche'],\n",
       "             'bot_ReplyProv': ['Nella provincia di [PROVINCIA] ci sono %d fattorie didattiche'],\n",
       "             'bot_ReplyProvWithParams': ['Nella provincia di [PROVINCIA] ci sono %d fattorie didattiche con le caratteristiche richieste']})"
      ]
     },
     "execution_count": 108,
     "metadata": {},
     "output_type": "execute_result"
    }
   ],
   "source": [
    "bot_sentences"
   ]
  },
  {
   "cell_type": "code",
   "execution_count": 109,
   "id": "3670cbfa",
   "metadata": {},
   "outputs": [
    {
     "data": {
      "text/plain": [
       "'user_AskProvWithParams'"
      ]
     },
     "execution_count": 109,
     "metadata": {},
     "output_type": "execute_result"
    }
   ],
   "source": [
    "\"\"\"\n",
    "Estrazione intent\n",
    "\"\"\"\n",
    "\n",
    "if data[\"intents\"][0][\"probs\"] > 0.75:\n",
    "\n",
    "    intent = data[\"max_intent\"]\n",
    "\n",
    "else:\n",
    "\n",
    "    intent = \"fake\"\n",
    "\n",
    "intent"
   ]
  },
  {
   "cell_type": "code",
   "execution_count": 110,
   "id": "f5b162dc",
   "metadata": {},
   "outputs": [
    {
     "data": {
      "text/plain": [
       "'bot_ReplyProvWithParams'"
      ]
     },
     "execution_count": 110,
     "metadata": {},
     "output_type": "execute_result"
    }
   ],
   "source": [
    "\"\"\"\n",
    "Estrazione risposta\n",
    "\"\"\"\n",
    "\n",
    "try:\n",
    "\n",
    "    reply = dialogs[intent]\n",
    "\n",
    "except:\n",
    "\n",
    "    reply = \"fake\"\n",
    "\n",
    "reply"
   ]
  },
  {
   "cell_type": "code",
   "execution_count": 119,
   "id": "d8d397f5",
   "metadata": {},
   "outputs": [
    {
     "name": "stdout",
     "output_type": "stream",
     "text": [
      "Nella provincia di [PROVINCIA] ci sono %d fattorie didattiche con le caratteristiche richieste \n",
      "\n",
      "CATEGORIA == 'ALLEVAMENTO' and PROVINCIA == 'CASERTA'\n"
     ]
    }
   ],
   "source": []
  },
  {
   "cell_type": "markdown",
   "id": "e23c12fc",
   "metadata": {},
   "source": [
    "### Il file \"db_esempio\" è stato ottenuto rielaborando un dataset scaricato sul portale degli OpenData disponibile al seguente [https://dati.regione.campania.it/catalogo/resources/Fattorie-didattiche.csv](https://dati.regione.campania.it/catalogo/resources/Fattorie-didattiche.csv)"
   ]
  },
  {
   "cell_type": "code",
   "execution_count": 120,
   "id": "9721796b",
   "metadata": {},
   "outputs": [
    {
     "data": {
      "text/html": [
       "<div>\n",
       "<style scoped>\n",
       "    .dataframe tbody tr th:only-of-type {\n",
       "        vertical-align: middle;\n",
       "    }\n",
       "\n",
       "    .dataframe tbody tr th {\n",
       "        vertical-align: top;\n",
       "    }\n",
       "\n",
       "    .dataframe thead th {\n",
       "        text-align: right;\n",
       "    }\n",
       "</style>\n",
       "<table border=\"1\" class=\"dataframe\">\n",
       "  <thead>\n",
       "    <tr style=\"text-align: right;\">\n",
       "      <th></th>\n",
       "      <th>NOME</th>\n",
       "      <th>SEDE</th>\n",
       "      <th>PROVINCIA</th>\n",
       "      <th>CATEGORIA</th>\n",
       "    </tr>\n",
       "  </thead>\n",
       "  <tbody>\n",
       "    <tr>\n",
       "      <th>0</th>\n",
       "      <td>Azienda Sperimentale Regionale Improsta</td>\n",
       "      <td>EBOLI</td>\n",
       "      <td>SALERNO</td>\n",
       "      <td>ALLEVAMENTO</td>\n",
       "    </tr>\n",
       "    <tr>\n",
       "      <th>1</th>\n",
       "      <td>Museo della Civiltà Contadina \"Michele Russo\"</td>\n",
       "      <td>SOMMA VESUVIANA</td>\n",
       "      <td>NAPOLI</td>\n",
       "      <td>ALLEVAMENTO</td>\n",
       "    </tr>\n",
       "    <tr>\n",
       "      <th>2</th>\n",
       "      <td>Masseria Panico di Eredi Beneduce Ettore</td>\n",
       "      <td>SOMMA VESUVIANA</td>\n",
       "      <td>NAPOLI</td>\n",
       "      <td>ALLEVAMENTO</td>\n",
       "    </tr>\n",
       "    <tr>\n",
       "      <th>3</th>\n",
       "      <td>Cooperativa Agrituristica La Ginestra</td>\n",
       "      <td>VICO EQUENSE</td>\n",
       "      <td>NAPOLI</td>\n",
       "      <td>ALLEVAMENTO</td>\n",
       "    </tr>\n",
       "    <tr>\n",
       "      <th>4</th>\n",
       "      <td>Agriturismo Costiera Amalfitana</td>\n",
       "      <td>TRAMONTI</td>\n",
       "      <td>SALERNO</td>\n",
       "      <td>ALLEVAMENTO</td>\n",
       "    </tr>\n",
       "  </tbody>\n",
       "</table>\n",
       "</div>"
      ],
      "text/plain": [
       "                                            NOME             SEDE PROVINCIA  \\\n",
       "0        Azienda Sperimentale Regionale Improsta            EBOLI   SALERNO   \n",
       "1  Museo della Civiltà Contadina \"Michele Russo\"  SOMMA VESUVIANA    NAPOLI   \n",
       "2       Masseria Panico di Eredi Beneduce Ettore  SOMMA VESUVIANA    NAPOLI   \n",
       "3          Cooperativa Agrituristica La Ginestra     VICO EQUENSE    NAPOLI   \n",
       "4                Agriturismo Costiera Amalfitana         TRAMONTI   SALERNO   \n",
       "\n",
       "     CATEGORIA  \n",
       "0  ALLEVAMENTO  \n",
       "1  ALLEVAMENTO  \n",
       "2  ALLEVAMENTO  \n",
       "3  ALLEVAMENTO  \n",
       "4  ALLEVAMENTO  "
      ]
     },
     "execution_count": 120,
     "metadata": {},
     "output_type": "execute_result"
    }
   ],
   "source": [
    "df_query = pd.read_csv(\"db_esempio.csv\")\n",
    "df_query.head()"
   ]
  },
  {
   "cell_type": "code",
   "execution_count": 123,
   "id": "53c2c389",
   "metadata": {},
   "outputs": [
    {
     "name": "stdout",
     "output_type": "stream",
     "text": [
      "Nella provincia di [PROVINCIA] ci sono %d fattorie didattiche con le caratteristiche richieste \n",
      "\n"
     ]
    },
    {
     "name": "stderr",
     "output_type": "stream",
     "text": [
      "<ipython-input-123-374570fe609a>:27: FutureWarning: Possible nested set at position 1\n",
      "  reply_str = re.sub(f\"[{k}+]\", v, reply_str)\n"
     ]
    },
    {
     "ename": "TypeError",
     "evalue": "unhashable type: 'list'",
     "output_type": "error",
     "traceback": [
      "\u001b[0;31m---------------------------------------------------------------------------\u001b[0m",
      "\u001b[0;31mTypeError\u001b[0m                                 Traceback (most recent call last)",
      "\u001b[0;32m<ipython-input-123-374570fe609a>\u001b[0m in \u001b[0;36m<module>\u001b[0;34m\u001b[0m\n\u001b[1;32m     25\u001b[0m     \u001b[0mv\u001b[0m \u001b[0;34m=\u001b[0m \u001b[0mlist\u001b[0m\u001b[0;34m(\u001b[0m\u001b[0mdata\u001b[0m\u001b[0;34m[\u001b[0m\u001b[0;34m\"slots\"\u001b[0m\u001b[0;34m]\u001b[0m\u001b[0;34m.\u001b[0m\u001b[0mvalues\u001b[0m\u001b[0;34m(\u001b[0m\u001b[0;34m)\u001b[0m\u001b[0;34m)\u001b[0m\u001b[0;34m\u001b[0m\u001b[0;34m\u001b[0m\u001b[0m\n\u001b[1;32m     26\u001b[0m \u001b[0;34m\u001b[0m\u001b[0m\n\u001b[0;32m---> 27\u001b[0;31m     \u001b[0mreply_str\u001b[0m \u001b[0;34m=\u001b[0m \u001b[0mre\u001b[0m\u001b[0;34m.\u001b[0m\u001b[0msub\u001b[0m\u001b[0;34m(\u001b[0m\u001b[0;34mf\"[{k}+]\"\u001b[0m\u001b[0;34m,\u001b[0m \u001b[0mv\u001b[0m\u001b[0;34m,\u001b[0m \u001b[0mreply_str\u001b[0m\u001b[0;34m)\u001b[0m\u001b[0;34m\u001b[0m\u001b[0;34m\u001b[0m\u001b[0m\n\u001b[0m\u001b[1;32m     28\u001b[0m \u001b[0;34m\u001b[0m\u001b[0m\n\u001b[1;32m     29\u001b[0m \u001b[0mquery\u001b[0m \u001b[0;34m=\u001b[0m \u001b[0;34m\" and \"\u001b[0m\u001b[0;34m.\u001b[0m\u001b[0mjoin\u001b[0m\u001b[0;34m(\u001b[0m\u001b[0mquery_list\u001b[0m\u001b[0;34m)\u001b[0m\u001b[0;34m\u001b[0m\u001b[0;34m\u001b[0m\u001b[0m\n",
      "\u001b[0;32m~/.conda/envs/spacy/lib/python3.8/re.py\u001b[0m in \u001b[0;36msub\u001b[0;34m(pattern, repl, string, count, flags)\u001b[0m\n\u001b[1;32m    208\u001b[0m     \u001b[0ma\u001b[0m \u001b[0mcallable\u001b[0m\u001b[0;34m,\u001b[0m \u001b[0mit\u001b[0m\u001b[0;31m'\u001b[0m\u001b[0ms\u001b[0m \u001b[0mpassed\u001b[0m \u001b[0mthe\u001b[0m \u001b[0mMatch\u001b[0m \u001b[0mobject\u001b[0m \u001b[0;32mand\u001b[0m \u001b[0mmust\u001b[0m \u001b[0;32mreturn\u001b[0m\u001b[0;34m\u001b[0m\u001b[0;34m\u001b[0m\u001b[0m\n\u001b[1;32m    209\u001b[0m     a replacement string to be used.\"\"\"\n\u001b[0;32m--> 210\u001b[0;31m     \u001b[0;32mreturn\u001b[0m \u001b[0m_compile\u001b[0m\u001b[0;34m(\u001b[0m\u001b[0mpattern\u001b[0m\u001b[0;34m,\u001b[0m \u001b[0mflags\u001b[0m\u001b[0;34m)\u001b[0m\u001b[0;34m.\u001b[0m\u001b[0msub\u001b[0m\u001b[0;34m(\u001b[0m\u001b[0mrepl\u001b[0m\u001b[0;34m,\u001b[0m \u001b[0mstring\u001b[0m\u001b[0;34m,\u001b[0m \u001b[0mcount\u001b[0m\u001b[0;34m)\u001b[0m\u001b[0;34m\u001b[0m\u001b[0;34m\u001b[0m\u001b[0m\n\u001b[0m\u001b[1;32m    211\u001b[0m \u001b[0;34m\u001b[0m\u001b[0m\n\u001b[1;32m    212\u001b[0m \u001b[0;32mdef\u001b[0m \u001b[0msubn\u001b[0m\u001b[0;34m(\u001b[0m\u001b[0mpattern\u001b[0m\u001b[0;34m,\u001b[0m \u001b[0mrepl\u001b[0m\u001b[0;34m,\u001b[0m \u001b[0mstring\u001b[0m\u001b[0;34m,\u001b[0m \u001b[0mcount\u001b[0m\u001b[0;34m=\u001b[0m\u001b[0;36m0\u001b[0m\u001b[0;34m,\u001b[0m \u001b[0mflags\u001b[0m\u001b[0;34m=\u001b[0m\u001b[0;36m0\u001b[0m\u001b[0;34m)\u001b[0m\u001b[0;34m:\u001b[0m\u001b[0;34m\u001b[0m\u001b[0;34m\u001b[0m\u001b[0m\n",
      "\u001b[0;32m~/.conda/envs/spacy/lib/python3.8/re.py\u001b[0m in \u001b[0;36m_subx\u001b[0;34m(pattern, template)\u001b[0m\n\u001b[1;32m    325\u001b[0m \u001b[0;32mdef\u001b[0m \u001b[0m_subx\u001b[0m\u001b[0;34m(\u001b[0m\u001b[0mpattern\u001b[0m\u001b[0;34m,\u001b[0m \u001b[0mtemplate\u001b[0m\u001b[0;34m)\u001b[0m\u001b[0;34m:\u001b[0m\u001b[0;34m\u001b[0m\u001b[0;34m\u001b[0m\u001b[0m\n\u001b[1;32m    326\u001b[0m     \u001b[0;31m# internal: Pattern.sub/subn implementation helper\u001b[0m\u001b[0;34m\u001b[0m\u001b[0;34m\u001b[0m\u001b[0;34m\u001b[0m\u001b[0m\n\u001b[0;32m--> 327\u001b[0;31m     \u001b[0mtemplate\u001b[0m \u001b[0;34m=\u001b[0m \u001b[0m_compile_repl\u001b[0m\u001b[0;34m(\u001b[0m\u001b[0mtemplate\u001b[0m\u001b[0;34m,\u001b[0m \u001b[0mpattern\u001b[0m\u001b[0;34m)\u001b[0m\u001b[0;34m\u001b[0m\u001b[0;34m\u001b[0m\u001b[0m\n\u001b[0m\u001b[1;32m    328\u001b[0m     \u001b[0;32mif\u001b[0m \u001b[0;32mnot\u001b[0m \u001b[0mtemplate\u001b[0m\u001b[0;34m[\u001b[0m\u001b[0;36m0\u001b[0m\u001b[0;34m]\u001b[0m \u001b[0;32mand\u001b[0m \u001b[0mlen\u001b[0m\u001b[0;34m(\u001b[0m\u001b[0mtemplate\u001b[0m\u001b[0;34m[\u001b[0m\u001b[0;36m1\u001b[0m\u001b[0;34m]\u001b[0m\u001b[0;34m)\u001b[0m \u001b[0;34m==\u001b[0m \u001b[0;36m1\u001b[0m\u001b[0;34m:\u001b[0m\u001b[0;34m\u001b[0m\u001b[0;34m\u001b[0m\u001b[0m\n\u001b[1;32m    329\u001b[0m         \u001b[0;31m# literal replacement\u001b[0m\u001b[0;34m\u001b[0m\u001b[0;34m\u001b[0m\u001b[0;34m\u001b[0m\u001b[0m\n",
      "\u001b[0;31mTypeError\u001b[0m: unhashable type: 'list'"
     ]
    }
   ],
   "source": [
    "\"\"\"\n",
    "Estrazione frase con parametri\n",
    "\"\"\"\n",
    "\n",
    "if reply != \"fake\":\n",
    "\n",
    "    reply_str = random.choice(bot_sentences[reply])\n",
    "\n",
    "reply_str\n",
    "\n",
    "print(reply_str, \"\\n\")\n",
    "\n",
    "\"\"\"\n",
    "Estrazione dei dati per la sostituzione dei parametri\n",
    "\"\"\"\n",
    "\n",
    "query_list = list()\n",
    "\n",
    "for k, v in data[\"slots\"].items():\n",
    "    query_list.append(f\"{k} == '{v}'\")\n",
    "\n",
    "    k = list(data[\"slots\"].keys())\n",
    "    k = f\"[{k}]\"\n",
    "\n",
    "    v = list(data[\"slots\"].values())\n",
    "\n",
    "    reply_str = re.sub(f\"[{k}+]\", v, reply_str)\n",
    "\n",
    "query = \" and \".join(query_list)\n",
    "\n",
    "print(query)"
   ]
  },
  {
   "cell_type": "code",
   "execution_count": 121,
   "id": "ab6a669d",
   "metadata": {},
   "outputs": [
    {
     "data": {
      "text/plain": [
       "\"CATEGORIA == 'ALLEVAMENTO' and PROVINCIA == 'CASERTA'\""
      ]
     },
     "execution_count": 121,
     "metadata": {},
     "output_type": "execute_result"
    }
   ],
   "source": [
    "query"
   ]
  },
  {
   "cell_type": "code",
   "execution_count": 122,
   "id": "a5b1056d",
   "metadata": {},
   "outputs": [
    {
     "name": "stdout",
     "output_type": "stream",
     "text": [
      "Nella provincia di [PROVINALLEVAMENTO ci sono 23 fattorie didattiche con le caratteristiche richieste\n"
     ]
    }
   ],
   "source": [
    "n = df_query.query(query)[\"NOME\"].drop_duplicates().count()\n",
    "\n",
    "print(reply_str % (n))"
   ]
  },
  {
   "cell_type": "code",
   "execution_count": 124,
   "id": "b0e7fa80",
   "metadata": {},
   "outputs": [],
   "source": [
    "def bot_reply(\n",
    "    sentence: str,\n",
    "    model: sklearn_crfsuite.estimator.CRF,\n",
    "    cv: sklearn.feature_extraction.text.CountVectorizer,\n",
    "    le: sklearn.preprocessing._label.LabelEncoder,\n",
    "    dialogs: dict,\n",
    "    bot_sentences: dict,\n",
    "    db: str = \"db_esempio.csv\",\n",
    "    threasold=0.25,\n",
    ") -> dict:\n",
    "\n",
    "    \"\"\"\n",
    "    Genera la risposta\n",
    "    \"\"\"\n",
    "\n",
    "    sentence = sentence.upper()\n",
    "\n",
    "    data = get_intents_and_slots(sentence, model, cv, le, threasold)\n",
    "\n",
    "    #     intent = data['max_intent']\n",
    "\n",
    "    pprint.pprint(data)\n",
    "\n",
    "    print(\"---------------------------------------------\")\n",
    "\n",
    "    if (data[\"intents\"][0][\"probs\"] > 0.75) and data[\"intents\"][0][\"classes\"] != \"fake\":\n",
    "\n",
    "        intent = data[\"max_intent\"]\n",
    "\n",
    "        reply = dialogs[intent]\n",
    "\n",
    "        reply_str = random.choice(bot_sentences[reply])\n",
    "\n",
    "        query_list = list()\n",
    "\n",
    "        for k, v in data[\"slots\"].items():\n",
    "\n",
    "            query_list.append(f\"{k} == '{v}'\")\n",
    "\n",
    "            reply_str = re.sub(fr\"\\[{k}\\]\", v, reply_str)\n",
    "\n",
    "        query = \" and \".join(query_list)\n",
    "\n",
    "        df_query = pd.read_csv(db)\n",
    "\n",
    "        n = df_query.query(query)[\"NOME\"].drop_duplicates().count()\n",
    "\n",
    "        return reply_str % (n)\n",
    "\n",
    "    else:\n",
    "\n",
    "        intent = \"Non ho capito, riformula meglio la tua domanda\"\n",
    "\n",
    "        return intent"
   ]
  },
  {
   "cell_type": "code",
   "execution_count": 126,
   "id": "1c20c212",
   "metadata": {},
   "outputs": [
    {
     "name": "stdout",
     "output_type": "stream",
     "text": [
      "{'intents': [{'classes': 'user_AskCity', 'probs': 0.9983462899813043}],\n",
      " 'max_intent': 'user_AskCity',\n",
      " 'replaced_sentence': 'QUANTE FATTORIE DIDATTICHE CI SONO A SEDE',\n",
      " 'sentence': 'QUANTE FATTORIE DIDATTICHE CI SONO A AVERSA',\n",
      " 'slots': defaultdict(<class 'list'>, {'SEDE': 'AVERSA'})}\n",
      "---------------------------------------------\n"
     ]
    },
    {
     "data": {
      "text/plain": [
       "'Nella città di AVERSA ci sono 0 fattorie didattiche'"
      ]
     },
     "execution_count": 126,
     "metadata": {},
     "output_type": "execute_result"
    }
   ],
   "source": [
    "nuova_frase = \"Quante fattorie didattiche ci sono a Aversa\"  # con allevamento ?\"\n",
    "\n",
    "bot_reply(nuova_frase, classifier, cv, le, dialogs, bot_sentences)"
   ]
  }
 ],
 "metadata": {
  "kernelspec": {
   "display_name": "Python 3",
   "language": "python",
   "name": "python3"
  },
  "language_info": {
   "codemirror_mode": {
    "name": "ipython",
    "version": 3
   },
   "file_extension": ".py",
   "mimetype": "text/x-python",
   "name": "python",
   "nbconvert_exporter": "python",
   "pygments_lexer": "ipython3",
   "version": "3.8.5"
  }
 },
 "nbformat": 4,
 "nbformat_minor": 5
}
